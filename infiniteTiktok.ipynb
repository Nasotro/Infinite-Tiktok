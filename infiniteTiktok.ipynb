{
 "cells": [
  {
   "cell_type": "markdown",
   "metadata": {},
   "source": [
    "# Generate Infinite Tiktoks"
   ]
  },
  {
   "cell_type": "markdown",
   "metadata": {},
   "source": [
    "## Generate video text\n",
    "The first step to generate a tiktok, is obviously to know what you're going to stay.\n",
    "\n",
    "To do so, my idea was to find something in genius.com, the famous website to have extra information on rap/pop songs. You can have informations about the context of the song when it was released.\n"
   ]
  },
  {
   "cell_type": "code",
   "execution_count": 1,
   "metadata": {},
   "outputs": [],
   "source": [
    "import os\n",
    "import requests\n"
   ]
  },
  {
   "cell_type": "code",
   "execution_count": 2,
   "metadata": {},
   "outputs": [],
   "source": [
    "def get_annotation(annotation_id):\n",
    "    url = f\"https://api.genius.com/annotations/{annotation_id}\"\n",
    "    payload = {}\n",
    "    headers = {'Authorization': 'Bearer ' + os.environ['RAPGENIUS_API_KEY']}\n",
    "    r = requests.request(\"GET\", url, headers=headers, data=payload)\n",
    "    data = r.json()\n",
    "    \n",
    "    full_annotation = \"\"\n",
    "    parts = data['response']['annotation']['body']['dom']['children']\n",
    "\n",
    "    full_annotation = find_annotation(parts)\n",
    "    \n",
    "    return full_annotation\n",
    "def find_annotation(root):\n",
    "    # print(type(root))\n",
    "    full_annotation = \"\"\n",
    "    if(type(root) == str):\n",
    "        if(root == \"\"):\n",
    "            root = '\\n'\n",
    "        full_annotation += root\n",
    "    elif(type(root) == dict):\n",
    "        if('children' in root):\n",
    "            full_annotation += find_annotation(root['children'])\n",
    "    elif(type(root) == list):\n",
    "        for part in root:\n",
    "            full_annotation += find_annotation(part)\n",
    "    \n",
    "    return full_annotation\n",
    "def get_id_song(url):\n",
    "    response = requests.get(url).content\n",
    "    id = int(response.split(b'genius://songs/')[1].split(b'\"')[0])\n",
    "    return id\n",
    "def get_song_description(song_id):\n",
    "    url = f\"https://api.genius.com/songs/{song_id}\"\n",
    "\n",
    "    payload = {}\n",
    "    headers = {\n",
    "        'Authorization': 'Bearer ' + os.environ['RAPGENIUS_API_KEY']\n",
    "    }\n",
    "\n",
    "    response = requests.request(\"GET\", url, headers=headers, data=payload)\n",
    "    data = response.json()\n",
    "    return get_annotation(data['response']['song']['description_annotation']['id'])\n"
   ]
  },
  {
   "cell_type": "code",
   "execution_count": 3,
   "metadata": {},
   "outputs": [
    {
     "name": "stdout",
     "output_type": "stream",
     "text": [
      "“Houdini” is the lead single of Eminem’s twelfth studio album The Death of Slim Shady (Coup de Grâce). The track is named after Harry Houdini, a popular magician known for his death-defying stunts like the Chinese Water Torture Cell, which Eminem replicates in the intro to his 1999 track, “Role Model.”\n",
      "With the return of long-time collaborator Jeff Bass of the Bass Brothers, Eminem revisits his catchy albeit morbid sound of the early 2000s. This fanfare track sees him callback to his old catchphrases such as Shady’s iconic “Guess who’s back?” line from the 2002 track “Without Me.” The song heavily samples and interpolates the Steve Miller Band’s 1982 track “Abracadabra.”\n",
      "On October 24, 1926, the legendary Houdini tragically passed away in Detroit, Michigan at the age of 52. Interestingly, Detroit is also the hometown of Eminem, who turns 52 in October 2024.\n",
      "The single was first teased by Eminem on May 20, 2024, when he posted a teaser to his social media accounts with a text message from “All Contacts” stating, “…and for my last trick!” The text message also has the date of May 31, sparking rumors of Eminem releasing music on that day.\n",
      "On May 28, 2024, Eminem posted a video to Instagram of him on a FaceTime call with magician David Blaine. At the end of the video, he announced the release of “Houdini” on May 31, then closed out by stating “for my last trick, I’m gonna make my career disappear,” hinting at The Death of Slim Shady (Coup de Grâce) being his final album.\n"
     ]
    }
   ],
   "source": [
    "url = \"https://genius.com/Eminem-houdini-lyrics\"\n",
    "video_name = \"Eminem-Houdini\"\n",
    "\n",
    "song_description = get_song_description(get_id_song(url))\n",
    "print(song_description)"
   ]
  },
  {
   "cell_type": "markdown",
   "metadata": {},
   "source": [
    "## Create Audio for the video"
   ]
  },
  {
   "cell_type": "code",
   "execution_count": 4,
   "metadata": {},
   "outputs": [],
   "source": [
    "from openai import OpenAI\n",
    "import os\n",
    "\n",
    "api_key = os.environ.get('OPENAI_API_KEY_LORRAIN')\n",
    "client = OpenAI(api_key=api_key)\n",
    "\n",
    "def text_to_speech_mp3(text, output_filename, model=\"tts-1\", voice=\"alloy\"):\n",
    "    \"\"\"\n",
    "    Converts a text string to speech using the OpenAI API and writes the resulting audio to an MP3 file.\n",
    "\n",
    "    Args:\n",
    "    text (str): The text string to convert to speech.\n",
    "    output_filename (str): The name of the output MP3 file.\n",
    "    model (str): The model to use for speech synthesis. Defaults to 'tts-1'.\n",
    "    voice (str): The voice to use for speech synthesis. Defaults to 'alloy'.\n",
    "    \"\"\"\n",
    "    global client\n",
    "    client = OpenAI(api_key=os.environ.get('OPENAI_API_KEY_LORRAIN')) if client is None else client\n",
    "    speech_file_path = output_filename\n",
    "\n",
    "\n",
    "    with client.audio.speech.with_streaming_response.create(\n",
    "        model=model,\n",
    "        voice=voice,\n",
    "        input=text,\n",
    "    ) as response:\n",
    "        response.stream_to_file(speech_file_path+('.mp3' if not speech_file_path.endswith('.mp3') else ''))\n",
    "\n",
    "def getTextTimingsOfMp3(mp3file):\n",
    "    global client\n",
    "    client = OpenAI(api_key=os.environ.get('OPENAI_API_KEY_LORRAIN')) if client is None else client\n",
    "    \n",
    "    audio_file = open(mp3file, \"rb\")\n",
    "    transcript = client.audio.transcriptions.create(\n",
    "        file=audio_file,\n",
    "        model=\"whisper-1\",\n",
    "        response_format=\"verbose_json\",\n",
    "        timestamp_granularities=[\"word\"]\n",
    "    )\n",
    "\n",
    "    return transcript\n"
   ]
  },
  {
   "cell_type": "code",
   "execution_count": 5,
   "metadata": {},
   "outputs": [],
   "source": [
    "def onlychars(text):\n",
    "    return ''.join(c if c.isalnum() or c.isspace() else '' for c in text)\n",
    "\n",
    "def verify_transcription(original_text, transcription):\n",
    "    \"\"\"\n",
    "    Verifies that the text is the same after the tts and stt.\n",
    "\n",
    "    Args:\n",
    "    original_text (str): The original text.\n",
    "    transcription (dict): The transcription dictionary.\n",
    "\n",
    "    Returns:\n",
    "    int: ratio of the original text and the transcription text.\n",
    "    \"\"\"\n",
    "    \n",
    "    transcription_text = onlychars(transcription.text.lower())\n",
    "    original_text = onlychars(original_text.lower())\n",
    "    \n",
    "    print('original :\\n',original_text.replace('\\n', ' '))\n",
    "    print('transcription :\\n',transcription_text,'\\n')\n",
    "    \n",
    "    \n",
    "    if transcription_text == original_text:\n",
    "        return 1\n",
    "    \n",
    "    # correct_words = 0\n",
    "    for word in original_text.split():\n",
    "        # print(f'testing {word}')\n",
    "        len_before = len(transcription_text)\n",
    "        transcription_text = str(transcription_text).replace(word, '', 1)\n",
    "        len_after = len(transcription_text)\n",
    "        if(len_before == len_after):\n",
    "            print(f'word {word} not found')\n",
    "        # print(f'removed word ? {len_before - len_after}')\n",
    "#\n",
    "    print(len(original_text.split()), len(transcription_text.split()))\n",
    "    return 1 - len(transcription_text.split()) / len(original_text.split())\n"
   ]
  },
  {
   "cell_type": "code",
   "execution_count": 6,
   "metadata": {},
   "outputs": [],
   "source": [
    "text_to_speech_mp3(song_description, 'audio_description')\n",
    "timing_description = getTextTimingsOfMp3('audio_description.mp3')"
   ]
  },
  {
   "cell_type": "code",
   "execution_count": 7,
   "metadata": {},
   "outputs": [
    {
     "name": "stdout",
     "output_type": "stream",
     "text": [
      "Transcription(text=\"Houdini is the lead single of Eminem's 12th studio album, The Death of Slim Shady, Coup de Grace. The track is named after Harry Houdini, a popular magician known for his death-defying stunts like the Chinese water torture cell, which Eminem replicates in the intro to his 1999 track, Role Model. With the return of longtime collaborator Jeff Bass of the Bass Brothers, Eminem revisits his catchy, albeit morbid sound of the early 2000s. This fanfare track sees him call back to his old catchphrases such as Shady's iconic, guess who's back line from the 2002 track, Without Me. The song heavily samples and interpolates the Steve Miller band's 1982 track, Abracadabra. On October 24th, 1926, the legendary Houdini tragically passed away in Detroit, Michigan at the age of 52. Interestingly, Detroit is also the hometown of Eminem, who turns 52 in October 2024. The single was first teased by Eminem on May 20th, 2024, when he posted a teaser to his social media accounts with a text message from all contacts stating, and for my last trick. The text message also has the date of May 31st, sparking rumors of Eminem releasing music on that day. On May 28th, 2024, Eminem posted a video to Instagram of him on a FaceTime call with magician David Blaine. At the end of the video, he announced the release of Houdini on May 31st, then closed out by stating, for my last trick, I'm gonna make my career disappear, hinting at the death of Slim Shady, Coup De Grace being his final album.\", task='transcribe', language='english', duration=100.75, words=[{'word': 'Houdini', 'start': 0.0, 'end': 0.41999998688697815}, {'word': 'is', 'start': 0.41999998688697815, 'end': 0.8199999928474426}, {'word': 'the', 'start': 0.8199999928474426, 'end': 0.9599999785423279}, {'word': 'lead', 'start': 0.9599999785423279, 'end': 1.3200000524520874}, {'word': 'single', 'start': 1.3200000524520874, 'end': 1.5800000429153442}, {'word': 'of', 'start': 1.5800000429153442, 'end': 1.8600000143051147}, {'word': \"Eminem's\", 'start': 1.8600000143051147, 'end': 2.380000114440918}, {'word': '12th', 'start': 2.380000114440918, 'end': 2.9200000762939453}, {'word': 'studio', 'start': 2.9200000762939453, 'end': 3.240000009536743}, {'word': 'album', 'start': 3.240000009536743, 'end': 3.6600000858306885}, {'word': 'The', 'start': 4.079999923706055, 'end': 4.239999771118164}, {'word': 'Death', 'start': 4.239999771118164, 'end': 4.420000076293945}, {'word': 'of', 'start': 4.420000076293945, 'end': 4.599999904632568}, {'word': 'Slim', 'start': 4.599999904632568, 'end': 4.960000038146973}, {'word': 'Shady', 'start': 4.960000038146973, 'end': 5.28000020980835}, {'word': 'Coup', 'start': 5.760000228881836, 'end': 5.78000020980835}, {'word': 'de', 'start': 5.78000020980835, 'end': 5.920000076293945}, {'word': 'Grace', 'start': 5.920000076293945, 'end': 6.199999809265137}, {'word': 'The', 'start': 6.980000019073486, 'end': 7.059999942779541}, {'word': 'track', 'start': 7.059999942779541, 'end': 7.28000020980835}, {'word': 'is', 'start': 7.28000020980835, 'end': 7.579999923706055}, {'word': 'named', 'start': 7.579999923706055, 'end': 7.71999979019165}, {'word': 'after', 'start': 7.71999979019165, 'end': 8.0}, {'word': 'Harry', 'start': 8.0, 'end': 8.4399995803833}, {'word': 'Houdini', 'start': 8.4399995803833, 'end': 8.720000267028809}, {'word': 'a', 'start': 9.0, 'end': 9.220000267028809}, {'word': 'popular', 'start': 9.220000267028809, 'end': 9.479999542236328}, {'word': 'magician', 'start': 9.479999542236328, 'end': 9.979999542236328}, {'word': 'known', 'start': 9.979999542236328, 'end': 10.399999618530273}, {'word': 'for', 'start': 10.399999618530273, 'end': 10.619999885559082}, {'word': 'his', 'start': 10.619999885559082, 'end': 10.920000076293945}, {'word': 'death', 'start': 10.920000076293945, 'end': 11.100000381469727}, {'word': 'defying', 'start': 11.100000381469727, 'end': 11.5}, {'word': 'stunts', 'start': 11.5, 'end': 12.020000457763672}, {'word': 'like', 'start': 12.020000457763672, 'end': 12.539999961853027}, {'word': 'the', 'start': 12.539999961853027, 'end': 12.699999809265137}, {'word': 'Chinese', 'start': 12.699999809265137, 'end': 13.079999923706055}, {'word': 'water', 'start': 13.079999923706055, 'end': 13.399999618530273}, {'word': 'torture', 'start': 13.399999618530273, 'end': 13.640000343322754}, {'word': 'cell', 'start': 13.640000343322754, 'end': 14.020000457763672}, {'word': 'which', 'start': 14.479999542236328, 'end': 14.640000343322754}, {'word': 'Eminem', 'start': 14.640000343322754, 'end': 15.0}, {'word': 'replicates', 'start': 15.0, 'end': 15.479999542236328}, {'word': 'in', 'start': 15.479999542236328, 'end': 15.65999984741211}, {'word': 'the', 'start': 15.65999984741211, 'end': 16.0}, {'word': 'intro', 'start': 16.0, 'end': 16.0}, {'word': 'to', 'start': 16.0, 'end': 16.239999771118164}, {'word': 'his', 'start': 16.239999771118164, 'end': 16.559999465942383}, {'word': '1999', 'start': 16.559999465942383, 'end': 17.239999771118164}, {'word': 'track', 'start': 17.239999771118164, 'end': 17.700000762939453}, {'word': 'Role', 'start': 18.040000915527344, 'end': 18.440000534057617}, {'word': 'Model', 'start': 18.440000534057617, 'end': 18.780000686645508}, {'word': 'With', 'start': 19.8799991607666, 'end': 19.979999542236328}, {'word': 'the', 'start': 19.979999542236328, 'end': 20.3799991607666}, {'word': 'return', 'start': 20.3799991607666, 'end': 20.3799991607666}, {'word': 'of', 'start': 20.3799991607666, 'end': 20.579999923706055}, {'word': 'longtime', 'start': 20.579999923706055, 'end': 20.959999084472656}, {'word': 'collaborator', 'start': 20.959999084472656, 'end': 21.540000915527344}, {'word': 'Jeff', 'start': 21.540000915527344, 'end': 21.940000534057617}, {'word': 'Bass', 'start': 21.940000534057617, 'end': 22.18000030517578}, {'word': 'of', 'start': 22.18000030517578, 'end': 22.34000015258789}, {'word': 'the', 'start': 22.34000015258789, 'end': 22.600000381469727}, {'word': 'Bass', 'start': 22.600000381469727, 'end': 22.780000686645508}, {'word': 'Brothers', 'start': 22.780000686645508, 'end': 23.1200008392334}, {'word': 'Eminem', 'start': 23.760000228881836, 'end': 24.0}, {'word': 'revisits', 'start': 24.0, 'end': 24.459999084472656}, {'word': 'his', 'start': 24.459999084472656, 'end': 24.739999771118164}, {'word': 'catchy', 'start': 24.739999771118164, 'end': 25.079999923706055}, {'word': 'albeit', 'start': 25.280000686645508, 'end': 25.600000381469727}, {'word': 'morbid', 'start': 25.600000381469727, 'end': 26.079999923706055}, {'word': 'sound', 'start': 26.079999923706055, 'end': 26.479999542236328}, {'word': 'of', 'start': 26.479999542236328, 'end': 26.65999984741211}, {'word': 'the', 'start': 26.65999984741211, 'end': 26.799999237060547}, {'word': 'early', 'start': 26.799999237060547, 'end': 27.079999923706055}, {'word': '2000s', 'start': 27.079999923706055, 'end': 27.84000015258789}, {'word': 'This', 'start': 28.6200008392334, 'end': 29.299999237060547}, {'word': 'fanfare', 'start': 29.299999237060547, 'end': 29.799999237060547}, {'word': 'track', 'start': 29.799999237060547, 'end': 30.079999923706055}, {'word': 'sees', 'start': 30.079999923706055, 'end': 30.280000686645508}, {'word': 'him', 'start': 30.280000686645508, 'end': 30.459999084472656}, {'word': 'call', 'start': 30.459999084472656, 'end': 30.68000030517578}, {'word': 'back', 'start': 30.68000030517578, 'end': 30.920000076293945}, {'word': 'to', 'start': 30.920000076293945, 'end': 31.059999465942383}, {'word': 'his', 'start': 31.059999465942383, 'end': 31.200000762939453}, {'word': 'old', 'start': 31.200000762939453, 'end': 31.520000457763672}, {'word': 'catchphrases', 'start': 31.520000457763672, 'end': 32.119998931884766}, {'word': 'such', 'start': 32.119998931884766, 'end': 32.5}, {'word': 'as', 'start': 32.5, 'end': 32.900001525878906}, {'word': \"Shady's\", 'start': 32.900001525878906, 'end': 33.880001068115234}, {'word': 'iconic', 'start': 33.880001068115234, 'end': 33.880001068115234}, {'word': 'guess', 'start': 34.41999816894531, 'end': 34.5}, {'word': \"who's\", 'start': 34.5, 'end': 34.81999969482422}, {'word': 'back', 'start': 34.81999969482422, 'end': 35.220001220703125}, {'word': 'line', 'start': 35.220001220703125, 'end': 35.560001373291016}, {'word': 'from', 'start': 35.560001373291016, 'end': 35.7400016784668}, {'word': 'the', 'start': 35.7400016784668, 'end': 35.880001068115234}, {'word': '2002', 'start': 35.880001068115234, 'end': 36.47999954223633}, {'word': 'track', 'start': 36.47999954223633, 'end': 36.900001525878906}, {'word': 'Without', 'start': 37.279998779296875, 'end': 37.560001373291016}, {'word': 'Me', 'start': 37.560001373291016, 'end': 37.86000061035156}, {'word': 'The', 'start': 38.81999969482422, 'end': 39.040000915527344}, {'word': 'song', 'start': 39.040000915527344, 'end': 39.279998779296875}, {'word': 'heavily', 'start': 39.279998779296875, 'end': 39.7599983215332}, {'word': 'samples', 'start': 39.7599983215332, 'end': 40.119998931884766}, {'word': 'and', 'start': 40.119998931884766, 'end': 40.52000045776367}, {'word': 'interpolates', 'start': 40.52000045776367, 'end': 41.060001373291016}, {'word': 'the', 'start': 41.060001373291016, 'end': 41.459999084472656}, {'word': 'Steve', 'start': 41.459999084472656, 'end': 41.63999938964844}, {'word': 'Miller', 'start': 41.63999938964844, 'end': 41.779998779296875}, {'word': \"band's\", 'start': 41.779998779296875, 'end': 42.380001068115234}, {'word': '1982', 'start': 42.380001068115234, 'end': 42.91999816894531}, {'word': 'track', 'start': 42.91999816894531, 'end': 43.47999954223633}, {'word': 'Abracadabra', 'start': 43.779998779296875, 'end': 44.439998626708984}, {'word': 'On', 'start': 45.29999923706055, 'end': 45.400001525878906}, {'word': 'October', 'start': 45.400001525878906, 'end': 45.7400016784668}, {'word': '24th', 'start': 45.7400016784668, 'end': 46.880001068115234}, {'word': '1926', 'start': 46.880001068115234, 'end': 47.7400016784668}, {'word': 'the', 'start': 48.060001373291016, 'end': 48.220001220703125}, {'word': 'legendary', 'start': 48.220001220703125, 'end': 48.65999984741211}, {'word': 'Houdini', 'start': 48.65999984741211, 'end': 49.18000030517578}, {'word': 'tragically', 'start': 49.18000030517578, 'end': 49.900001525878906}, {'word': 'passed', 'start': 49.900001525878906, 'end': 50.18000030517578}, {'word': 'away', 'start': 50.18000030517578, 'end': 50.459999084472656}, {'word': 'in', 'start': 50.459999084472656, 'end': 50.65999984741211}, {'word': 'Detroit', 'start': 50.65999984741211, 'end': 51.040000915527344}, {'word': 'Michigan', 'start': 51.58000183105469, 'end': 51.58000183105469}, {'word': 'at', 'start': 51.58000183105469, 'end': 51.880001068115234}, {'word': 'the', 'start': 51.880001068115234, 'end': 52.20000076293945}, {'word': 'age', 'start': 52.20000076293945, 'end': 52.20000076293945}, {'word': 'of', 'start': 52.20000076293945, 'end': 52.439998626708984}, {'word': '52', 'start': 52.439998626708984, 'end': 52.91999816894531}, {'word': 'Interestingly', 'start': 53.599998474121094, 'end': 54.060001373291016}, {'word': 'Detroit', 'start': 54.540000915527344, 'end': 54.540000915527344}, {'word': 'is', 'start': 54.540000915527344, 'end': 54.7599983215332}, {'word': 'also', 'start': 54.7599983215332, 'end': 55.099998474121094}, {'word': 'the', 'start': 55.099998474121094, 'end': 55.29999923706055}, {'word': 'hometown', 'start': 55.29999923706055, 'end': 55.58000183105469}, {'word': 'of', 'start': 55.58000183105469, 'end': 55.91999816894531}, {'word': 'Eminem', 'start': 55.91999816894531, 'end': 56.220001220703125}, {'word': 'who', 'start': 56.220001220703125, 'end': 56.599998474121094}, {'word': 'turns', 'start': 56.599998474121094, 'end': 56.900001525878906}, {'word': '52', 'start': 56.900001525878906, 'end': 57.52000045776367}, {'word': 'in', 'start': 57.52000045776367, 'end': 57.81999969482422}, {'word': 'October', 'start': 57.81999969482422, 'end': 58.20000076293945}, {'word': '2024', 'start': 58.20000076293945, 'end': 59.15999984741211}, {'word': 'The', 'start': 59.58000183105469, 'end': 59.65999984741211}, {'word': 'single', 'start': 59.65999984741211, 'end': 59.91999816894531}, {'word': 'was', 'start': 59.91999816894531, 'end': 60.099998474121094}, {'word': 'first', 'start': 60.099998474121094, 'end': 60.720001220703125}, {'word': 'teased', 'start': 60.720001220703125, 'end': 60.720001220703125}, {'word': 'by', 'start': 60.720001220703125, 'end': 61.08000183105469}, {'word': 'Eminem', 'start': 61.08000183105469, 'end': 61.31999969482422}, {'word': 'on', 'start': 61.31999969482422, 'end': 61.52000045776367}, {'word': 'May', 'start': 61.52000045776367, 'end': 61.65999984741211}, {'word': '20th', 'start': 61.65999984741211, 'end': 62.36000061035156}, {'word': '2024', 'start': 62.36000061035156, 'end': 62.97999954223633}, {'word': 'when', 'start': 63.15999984741211, 'end': 63.63999938964844}, {'word': 'he', 'start': 63.63999938964844, 'end': 63.900001525878906}, {'word': 'posted', 'start': 63.900001525878906, 'end': 64.05999755859375}, {'word': 'a', 'start': 64.05999755859375, 'end': 64.62000274658203}, {'word': 'teaser', 'start': 64.62000274658203, 'end': 64.62000274658203}, {'word': 'to', 'start': 64.62000274658203, 'end': 64.83999633789062}, {'word': 'his', 'start': 64.83999633789062, 'end': 65.08000183105469}, {'word': 'social', 'start': 65.08000183105469, 'end': 65.36000061035156}, {'word': 'media', 'start': 65.36000061035156, 'end': 65.72000122070312}, {'word': 'accounts', 'start': 65.72000122070312, 'end': 66.12000274658203}, {'word': 'with', 'start': 66.12000274658203, 'end': 66.33999633789062}, {'word': 'a', 'start': 66.33999633789062, 'end': 66.63999938964844}, {'word': 'text', 'start': 66.63999938964844, 'end': 66.77999877929688}, {'word': 'message', 'start': 66.77999877929688, 'end': 67.0999984741211}, {'word': 'from', 'start': 67.0999984741211, 'end': 67.30000305175781}, {'word': 'all', 'start': 67.30000305175781, 'end': 67.68000030517578}, {'word': 'contacts', 'start': 67.68000030517578, 'end': 68.0999984741211}, {'word': 'stating', 'start': 68.0999984741211, 'end': 68.44000244140625}, {'word': 'and', 'start': 69.0999984741211, 'end': 69.12000274658203}, {'word': 'for', 'start': 69.12000274658203, 'end': 69.27999877929688}, {'word': 'my', 'start': 69.27999877929688, 'end': 69.45999908447266}, {'word': 'last', 'start': 69.45999908447266, 'end': 69.69999694824219}, {'word': 'trick', 'start': 69.69999694824219, 'end': 70.05999755859375}, {'word': 'The', 'start': 71.30000305175781, 'end': 71.37999725341797}, {'word': 'text', 'start': 71.37999725341797, 'end': 71.69999694824219}, {'word': 'message', 'start': 71.69999694824219, 'end': 71.9800033569336}, {'word': 'also', 'start': 71.9800033569336, 'end': 72.44000244140625}, {'word': 'has', 'start': 72.44000244140625, 'end': 72.66000366210938}, {'word': 'the', 'start': 72.66000366210938, 'end': 72.87999725341797}, {'word': 'date', 'start': 72.87999725341797, 'end': 73.12000274658203}, {'word': 'of', 'start': 73.12000274658203, 'end': 73.41999816894531}, {'word': 'May', 'start': 73.41999816894531, 'end': 73.55999755859375}, {'word': '31st', 'start': 73.55999755859375, 'end': 74.76000213623047}, {'word': 'sparking', 'start': 74.76000213623047, 'end': 74.91999816894531}, {'word': 'rumors', 'start': 74.91999816894531, 'end': 75.19999694824219}, {'word': 'of', 'start': 75.19999694824219, 'end': 75.58000183105469}, {'word': 'Eminem', 'start': 75.58000183105469, 'end': 75.9000015258789}, {'word': 'releasing', 'start': 75.9000015258789, 'end': 76.27999877929688}, {'word': 'music', 'start': 76.27999877929688, 'end': 76.63999938964844}, {'word': 'on', 'start': 76.63999938964844, 'end': 76.9000015258789}, {'word': 'that', 'start': 76.9000015258789, 'end': 77.08000183105469}, {'word': 'day', 'start': 77.08000183105469, 'end': 77.41999816894531}, {'word': 'On', 'start': 77.76000213623047, 'end': 78.26000213623047}, {'word': 'May', 'start': 78.26000213623047, 'end': 78.41999816894531}, {'word': '28th', 'start': 78.41999816894531, 'end': 79.31999969482422}, {'word': '2024', 'start': 79.33999633789062, 'end': 79.94000244140625}, {'word': 'Eminem', 'start': 80.31999969482422, 'end': 80.58000183105469}, {'word': 'posted', 'start': 80.58000183105469, 'end': 80.86000061035156}, {'word': 'a', 'start': 80.86000061035156, 'end': 81.13999938964844}, {'word': 'video', 'start': 81.13999938964844, 'end': 81.27999877929688}, {'word': 'to', 'start': 81.27999877929688, 'end': 81.55999755859375}, {'word': 'Instagram', 'start': 81.55999755859375, 'end': 81.95999908447266}, {'word': 'of', 'start': 81.95999908447266, 'end': 82.33999633789062}, {'word': 'him', 'start': 82.33999633789062, 'end': 82.45999908447266}, {'word': 'on', 'start': 82.45999908447266, 'end': 82.62000274658203}, {'word': 'a', 'start': 82.62000274658203, 'end': 82.73999786376953}, {'word': 'FaceTime', 'start': 82.73999786376953, 'end': 83.18000030517578}, {'word': 'call', 'start': 83.18000030517578, 'end': 83.5}, {'word': 'with', 'start': 83.5, 'end': 83.77999877929688}, {'word': 'magician', 'start': 83.77999877929688, 'end': 84.23999786376953}, {'word': 'David', 'start': 84.23999786376953, 'end': 84.69999694824219}, {'word': 'Blaine', 'start': 84.69999694824219, 'end': 85.0}, {'word': 'At', 'start': 85.66000366210938, 'end': 86.26000213623047}, {'word': 'the', 'start': 86.26000213623047, 'end': 86.45999908447266}, {'word': 'end', 'start': 86.45999908447266, 'end': 86.55999755859375}, {'word': 'of', 'start': 86.55999755859375, 'end': 86.72000122070312}, {'word': 'the', 'start': 86.72000122070312, 'end': 86.80000305175781}, {'word': 'video', 'start': 86.80000305175781, 'end': 87.05999755859375}, {'word': 'he', 'start': 87.4000015258789, 'end': 87.4000015258789}, {'word': 'announced', 'start': 87.4000015258789, 'end': 87.69999694824219}, {'word': 'the', 'start': 87.69999694824219, 'end': 87.86000061035156}, {'word': 'release', 'start': 87.86000061035156, 'end': 88.19999694824219}, {'word': 'of', 'start': 88.19999694824219, 'end': 88.4800033569336}, {'word': 'Houdini', 'start': 88.4800033569336, 'end': 88.81999969482422}, {'word': 'on', 'start': 88.81999969482422, 'end': 89.12000274658203}, {'word': 'May', 'start': 89.12000274658203, 'end': 89.26000213623047}, {'word': '31st', 'start': 89.26000213623047, 'end': 90.19999694824219}, {'word': 'then', 'start': 90.19999694824219, 'end': 90.31999969482422}, {'word': 'closed', 'start': 90.31999969482422, 'end': 90.62000274658203}, {'word': 'out', 'start': 90.62000274658203, 'end': 90.91999816894531}, {'word': 'by', 'start': 90.91999816894531, 'end': 91.18000030517578}, {'word': 'stating', 'start': 91.18000030517578, 'end': 91.5199966430664}, {'word': 'for', 'start': 92.04000091552734, 'end': 92.04000091552734}, {'word': 'my', 'start': 92.04000091552734, 'end': 92.26000213623047}, {'word': 'last', 'start': 92.26000213623047, 'end': 92.62000274658203}, {'word': 'trick', 'start': 92.62000274658203, 'end': 92.95999908447266}, {'word': \"I'm\", 'start': 93.30000305175781, 'end': 93.44000244140625}, {'word': 'gonna', 'start': 93.44000244140625, 'end': 93.55999755859375}, {'word': 'make', 'start': 93.55999755859375, 'end': 93.73999786376953}, {'word': 'my', 'start': 93.73999786376953, 'end': 94.05999755859375}, {'word': 'career', 'start': 94.05999755859375, 'end': 94.27999877929688}, {'word': 'disappear', 'start': 94.27999877929688, 'end': 94.87999725341797}, {'word': 'hinting', 'start': 95.55999755859375, 'end': 95.66000366210938}, {'word': 'at', 'start': 95.66000366210938, 'end': 95.9800033569336}, {'word': 'the', 'start': 95.9800033569336, 'end': 96.18000030517578}, {'word': 'death', 'start': 96.18000030517578, 'end': 96.36000061035156}, {'word': 'of', 'start': 96.36000061035156, 'end': 96.66000366210938}, {'word': 'Slim', 'start': 96.66000366210938, 'end': 96.83999633789062}, {'word': 'Shady', 'start': 96.83999633789062, 'end': 97.13999938964844}, {'word': 'Coup', 'start': 97.83999633789062, 'end': 97.86000061035156}, {'word': 'De', 'start': 97.86000061035156, 'end': 97.9800033569336}, {'word': 'Grace', 'start': 97.9800033569336, 'end': 98.23999786376953}, {'word': 'being', 'start': 98.23999786376953, 'end': 98.69999694824219}, {'word': 'his', 'start': 98.69999694824219, 'end': 98.91999816894531}, {'word': 'final', 'start': 98.91999816894531, 'end': 99.27999877929688}, {'word': 'album', 'start': 99.27999877929688, 'end': 99.58000183105469}])\n",
      "original :\n",
      " houdini is the lead single of eminems twelfth studio album the death of slim shady coup de grâce the track is named after harry houdini a popular magician known for his deathdefying stunts like the chinese water torture cell which eminem replicates in the intro to his 1999 track role model with the return of longtime collaborator jeff bass of the bass brothers eminem revisits his catchy albeit morbid sound of the early 2000s this fanfare track sees him callback to his old catchphrases such as shadys iconic guess whos back line from the 2002 track without me the song heavily samples and interpolates the steve miller bands 1982 track abracadabra on october 24 1926 the legendary houdini tragically passed away in detroit michigan at the age of 52 interestingly detroit is also the hometown of eminem who turns 52 in october 2024 the single was first teased by eminem on may 20 2024 when he posted a teaser to his social media accounts with a text message from all contacts stating and for my last trick the text message also has the date of may 31 sparking rumors of eminem releasing music on that day on may 28 2024 eminem posted a video to instagram of him on a facetime call with magician david blaine at the end of the video he announced the release of houdini on may 31 then closed out by stating for my last trick im gonna make my career disappear hinting at the death of slim shady coup de grâce being his final album\n",
      "transcription :\n",
      " houdini is the lead single of eminems 12th studio album the death of slim shady coup de grace the track is named after harry houdini a popular magician known for his deathdefying stunts like the chinese water torture cell which eminem replicates in the intro to his 1999 track role model with the return of longtime collaborator jeff bass of the bass brothers eminem revisits his catchy albeit morbid sound of the early 2000s this fanfare track sees him call back to his old catchphrases such as shadys iconic guess whos back line from the 2002 track without me the song heavily samples and interpolates the steve miller bands 1982 track abracadabra on october 24th 1926 the legendary houdini tragically passed away in detroit michigan at the age of 52 interestingly detroit is also the hometown of eminem who turns 52 in october 2024 the single was first teased by eminem on may 20th 2024 when he posted a teaser to his social media accounts with a text message from all contacts stating and for my last trick the text message also has the date of may 31st sparking rumors of eminem releasing music on that day on may 28th 2024 eminem posted a video to instagram of him on a facetime call with magician david blaine at the end of the video he announced the release of houdini on may 31st then closed out by stating for my last trick im gonna make my career disappear hinting at the death of slim shady coup de grace being his final album \n",
      "\n",
      "word twelfth not found\n",
      "word grâce not found\n",
      "word callback not found\n",
      "word grâce not found\n",
      "260 13\n",
      "95.0 %\n"
     ]
    }
   ],
   "source": [
    "print(timing_description)\n",
    "print(verify_transcription(song_description, timing_description) * 100, \"%\")\n",
    "\n",
    "onlychars_text = onlychars(timing_description.text)\n",
    "final_text = timing_description.text"
   ]
  },
  {
   "cell_type": "markdown",
   "metadata": {},
   "source": [
    "## Find pictures"
   ]
  },
  {
   "cell_type": "markdown",
   "metadata": {},
   "source": [
    "### Find picture descrition\n",
    "The idea I came up with is to ask a LLM (mistral in my case) to find some nice moments in the description of the song"
   ]
  },
  {
   "cell_type": "code",
   "execution_count": 8,
   "metadata": {},
   "outputs": [],
   "source": [
    "import os\n",
    "from mistralai.client import MistralClient\n",
    "from mistralai.models.chat_completion import ChatMessage\n",
    "\n",
    "def get_description_pictures(story):\n",
    "    api_key = os.environ[\"MISTRAL_API_KEY\"]\n",
    "    model = \"open-mistral-7b\"\n",
    "\n",
    "    client = MistralClient(api_key=api_key)\n",
    "\n",
    "    preprompt = \"\"\"Your job will be to write the visual of a tiktok video: the images that show on screen. You have to find some nice moments in the story to place pictures that will show on screen. Tell me when you choose an image of what. In this format:\n",
    "    DURING THE SENTENCE \"[place the full sentence here]\", SHOW AN IMAGE OF \"[place the description of the image]\".\n",
    "    Answer only with the descriptions of all the images. \n",
    "    Try to understand the story and which words are important to show visually. for example if you want to show an album cover, try to give the name of the album and the artist. If you want to show a person, don't try to give the name of the person, but just the description of what they are doing because is very unlikely I'll be able to find this exact person doing this exact action.\n",
    "    You can set as many images as you want (dont be shy ;)) at least 15, and if a sentence needs more than one image, you can split the sentence in two or more parts.\n",
    "    But NEVER give two descriptions for the same sentence.    \n",
    "    Try not to give a description, but key words because i will look online for the exact same words you describe. That means if you are too complex, i will not be able to find the image.\n",
    "    Try to kep the descriptions short and concise.\n",
    "    Before I give you an example, there is one last important thing : You need to have short sentences, because the images will be shown for a short time, so you need to have a lot of images to show the whole story.\n",
    "    \n",
    "    ----------------\n",
    "    For example:\n",
    "    \n",
    "    STORY : \"Eonis, a wise and patient god, was intrigued by a Rubik's Cube he saw a human child playing with. He materialized one and began to solve it, but found it surprisingly challenging. Despite his divine knowledge, it took him months in the celestial realm to finally align the last color.\"\n",
    "    \n",
    "    DURING THE SENTENCE \"Eonis, a wise and patient god\", SHOW AN IMAGE OF \"a god\".\n",
    "    DURING THE SENTENCE \"was intrigued by a Rubik's Cube he saw a human child playing with\", SHOW AN IMAGE OF \"a rubik's cube\".\n",
    "    DURING THE SENTENCE \"He materialized one and began to solve it\", SHOW AN IMAGE OF \"a person solving a rubik's cube\".\n",
    "    DURING THE SENTENCE \"but found it surprisingly challenging\", SHOW AN IMAGE OF \"someone thinking very hard\".\n",
    "    DURING THE SENTENCE \"Despite his divine knowledge, it took him months\", SHOW AN IMAGE OF \"a hourglass\".\n",
    "    DURING THE SENTENCE \"in the celestial realm to finally align the last color\", SHOW AN IMAGE OF \"a solved rubiks cube\".\n",
    "    ----------------\n",
    "    \n",
    "    Now it is your turn:\n",
    "\n",
    "    STORY : \"\"\"\n",
    "\n",
    "    messages = [\n",
    "        ChatMessage(role=\"user\", content=preprompt + f'\"{story}\"'),\n",
    "    ]\n",
    "\n",
    "    chat_response = client.chat(\n",
    "        model=model,\n",
    "        messages=messages,\n",
    "    )\n",
    "\n",
    "    results = chat_response.choices[0].message.content\n",
    "\n",
    "    return results.split(\"\\n\\n\")\n",
    "\n",
    "def convert_to_dict(lines):\n",
    "    visual_dict = {}\n",
    "    for line in lines:\n",
    "        print(line)\n",
    "        if line:\n",
    "            sentence, image_desc = line.split(', SHOW AN IMAGE OF ', 1)\n",
    "            image_desc = image_desc.replace('\"', '')\n",
    "            sentence = sentence.split(' THE SENTENCE ')[1]\n",
    "            sentence = str(sentence).replace('\"', '', 2)\n",
    "            visual_dict[sentence] = image_desc\n",
    "    return visual_dict\n",
    "\n",
    "def get_pictures(story):\n",
    "    return convert_to_dict(get_description_pictures(story))\n"
   ]
  },
  {
   "cell_type": "code",
   "execution_count": 9,
   "metadata": {},
   "outputs": [
    {
     "name": "stdout",
     "output_type": "stream",
     "text": [
      "Houdini is the lead single of Eminems 12th studio album The Death of Slim Shady Coup de Grace The track is named after Harry Houdini a popular magician known for his deathdefying stunts like the Chinese water torture cell which Eminem replicates in the intro to his 1999 track Role Model With the return of longtime collaborator Jeff Bass of the Bass Brothers Eminem revisits his catchy albeit morbid sound of the early 2000s This fanfare track sees him call back to his old catchphrases such as Shadys iconic guess whos back line from the 2002 track Without Me The song heavily samples and interpolates the Steve Miller bands 1982 track Abracadabra On October 24th 1926 the legendary Houdini tragically passed away in Detroit Michigan at the age of 52 Interestingly Detroit is also the hometown of Eminem who turns 52 in October 2024 The single was first teased by Eminem on May 20th 2024 when he posted a teaser to his social media accounts with a text message from all contacts stating and for my last trick The text message also has the date of May 31st sparking rumors of Eminem releasing music on that day On May 28th 2024 Eminem posted a video to Instagram of him on a FaceTime call with magician David Blaine At the end of the video he announced the release of Houdini on May 31st then closed out by stating for my last trick Im gonna make my career disappear hinting at the death of Slim Shady Coup De Grace being his final album\n",
      "DURING THE SENTENCE \"Houdini is the lead single of Eminems 12th studio album The Death of Slim Shady Coup de Grace\", SHOW AN IMAGE OF \"Eminem album cover\".\n",
      "DURING THE SENTENCE \"The track is named after Harry Houdini\", SHOW AN IMAGE OF \"Harry Houdini\".\n",
      "DURING THE SENTENCE \"a popular magician known for his death-defying stunts like the Chinese water torture cell\", SHOW AN IMAGE OF \"Chinese water torture cell\".\n",
      "DURING THE SENTENCE \"Which Eminem replicates in the intro to his 1999 track Role Model\", SHOW AN IMAGE OF \"Eminem in Chinese water torture cell\".\n",
      "DURING THE SENTENCE \"With the return of longtime collaborator Jeff Bass of the Bass Brothers\", SHOW AN IMAGE OF \"Eminem and Jeff Bass\".\n",
      "DURING THE SENTENCE \"Eminem revisits his catchy albeit morbid sound of the early 2000s\", SHOW AN IMAGE OF \"Eminem performing in the early 2000s\".\n",
      "DURING THE SENTENCE \"This fanfare track sees him call back to his old catchphrases such as Shadys iconic guess whos back line from the 2002 track Without Me\", SHOW AN IMAGE OF \"Eminem saying guess who's back\".\n",
      "DURING THE SENTENCE \"The song heavily samples and interpolates the Steve Miller bands 1982 track Abracadabra\", SHOW AN IMAGE OF \"Abracadabra album cover\".\n",
      "DURING THE SENTENCE \"On October 24th 1926 the legendary Houdini tragically passed away in Detroit Michigan at the age of 52\", SHOW AN IMAGE OF \"Houdini's death\".\n",
      "DURING THE SENTENCE \"Interestingly Detroit is also the hometown of Eminem who turns 52 in October 2024\", SHOW AN IMAGE OF \"Eminem in Detroit\".\n",
      "DURING THE SENTENCE \"The single was first teased by Eminem on May 20th 2024 when he posted a teaser to his social media accounts with a text message from all contacts stating and for my last trick\", SHOW AN IMAGE OF \"Eminem's social media post\".\n",
      "DURING THE SENTENCE \"The text message also has the date of May 31st sparking rumors of Eminem releasing music on that day\", SHOW AN IMAGE OF \"Eminem's text message\".\n",
      "DURING THE SENTENCE \"On May 28th 2024 Eminem posted a video to Instagram of him on a FaceTime call with magician David Blaine\", SHOW AN IMAGE OF \"Eminem and David Blaine on FaceTime\".\n",
      "DURING THE SENTENCE \"At the end of the video he announced the release of Houdini on May 31st then closed out by stating for my last trick Im gonna make my career disappear hinting at the death of Slim Shady Coup De Grace being his final album\", SHOW AN IMAGE OF \"Eminem announcing the release of Houdini\".\n",
      "{'Houdini is the lead single of Eminems 12th studio album The Death of Slim Shady Coup de Grace': 'Eminem album cover.', 'The track is named after Harry Houdini': 'Harry Houdini.', 'a popular magician known for his death-defying stunts like the Chinese water torture cell': 'Chinese water torture cell.', 'Which Eminem replicates in the intro to his 1999 track Role Model': 'Eminem in Chinese water torture cell.', 'With the return of longtime collaborator Jeff Bass of the Bass Brothers': 'Eminem and Jeff Bass.', 'Eminem revisits his catchy albeit morbid sound of the early 2000s': 'Eminem performing in the early 2000s.', 'This fanfare track sees him call back to his old catchphrases such as Shadys iconic guess whos back line from the 2002 track Without Me': \"Eminem saying guess who's back.\", 'The song heavily samples and interpolates the Steve Miller bands 1982 track Abracadabra': 'Abracadabra album cover.', 'On October 24th 1926 the legendary Houdini tragically passed away in Detroit Michigan at the age of 52': \"Houdini's death.\", 'Interestingly Detroit is also the hometown of Eminem who turns 52 in October 2024': 'Eminem in Detroit.', 'The single was first teased by Eminem on May 20th 2024 when he posted a teaser to his social media accounts with a text message from all contacts stating and for my last trick': \"Eminem's social media post.\", 'The text message also has the date of May 31st sparking rumors of Eminem releasing music on that day': \"Eminem's text message.\", 'On May 28th 2024 Eminem posted a video to Instagram of him on a FaceTime call with magician David Blaine': 'Eminem and David Blaine on FaceTime.', 'At the end of the video he announced the release of Houdini on May 31st then closed out by stating for my last trick Im gonna make my career disappear hinting at the death of Slim Shady Coup De Grace being his final album': 'Eminem announcing the release of Houdini.'}\n"
     ]
    }
   ],
   "source": [
    "print(onlychars_text)\n",
    "descriptions = get_pictures(onlychars_text)\n",
    "print(descriptions)"
   ]
  },
  {
   "cell_type": "markdown",
   "metadata": {},
   "source": [
    "### Generate or Find picture"
   ]
  },
  {
   "cell_type": "code",
   "execution_count": 27,
   "metadata": {},
   "outputs": [],
   "source": [
    "from google_images_search import GoogleImagesSearch\n",
    "\n",
    "def download_images(search_names, dirpath):\n",
    "    urls = []\n",
    "    for i,search_term in enumerate(search_names):\n",
    "        gis = GoogleImagesSearch(os.environ['GOOGLE_API_KEY'] , os.environ['GOOGLE_CX_KEY'])\n",
    "        _search_params = {\n",
    "            'q': search_term,\n",
    "        }\n",
    "        gis.search(search_params=_search_params, path_to_dir=dirpath, custom_image_name=str(i))\n",
    "        for result in gis.results():\n",
    "            urls.append(result.url)\n",
    "    return urls"
   ]
  },
  {
   "cell_type": "code",
   "execution_count": 28,
   "metadata": {},
   "outputs": [
    {
     "data": {
      "text/plain": [
       "['https://www.hindustantimes.com/ht-img/img/2024/05/29/550x309/files-us-entertainment-music-politics-eminem_16aa236e-ea85-11e6-93cc-bb55973994db_1716958912800.jpg',\n",
       " 'https://www.thoughtco.com/thmb/yfCrafoeJwzBkT2nxCcAbZWQGXg=/1500x0/filters:no_upscale():max_bytes(150000):strip_icc()/Houdini-56a48bc95f9b58b7d0d77f56.jpg',\n",
       " 'https://upload.wikimedia.org/wikipedia/commons/e/e8/Houdini_performing_Water_Torture_Cell.jpg',\n",
       " 'https://i.guim.co.uk/img/media/4df80e195db40b2a51e5735dfe0021e662623f84/0_145_1000_600/master/1000.jpg?width=480&dpr=1&s=none',\n",
       " 'https://www.nonesuch.com/sites/g/files/g2000014771/files/2024-04/kronos-festival-2024-06-1200x628.jpg',\n",
       " 'https://scontent.cdninstagram.com/v/t51.29350-15/449327302_1504326410224136_1667058186237719313_n.jpg?stp=dst-jpg_e15&efg=eyJ2ZW5jb2RlX3RhZyI6ImltYWdlX3VybGdlbi44MTB4MTQ0MC5zZHIuZjI5MzUwIn0&_nc_ht=scontent.cdninstagram.com&_nc_cat=108&_nc_ohc=X5izDJdYrO0Q7kNvgFh6MYI&edm=APs17CUBAAAA&ccb=7-5&ig_cache_key=MzQwMDQ2NTQ3OTk4OTA4NTI5Nw%3D%3D.2-ccb7-5&oh=00_AYAob4DX9Qi1KzxDnlBlslXKtT_-T0mxnp1b7OTxVs58Ig&oe=6684FF25&_nc_sid=10d13b',\n",
       " 'https://scontent.cdninstagram.com/v/t51.29350-15/449327302_1504326410224136_1667058186237719313_n.jpg?stp=dst-jpg_e15&efg=eyJ2ZW5jb2RlX3RhZyI6ImltYWdlX3VybGdlbi44MTB4MTQ0MC5zZHIuZjI5MzUwIn0&_nc_ht=scontent.cdninstagram.com&_nc_cat=108&_nc_ohc=X5izDJdYrO0Q7kNvgFh6MYI&edm=APs17CUBAAAA&ccb=7-5&ig_cache_key=MzQwMDQ2NTQ3OTk4OTA4NTI5Nw%3D%3D.2-ccb7-5&oh=00_AYAob4DX9Qi1KzxDnlBlslXKtT_-T0mxnp1b7OTxVs58Ig&oe=6684FF25&_nc_sid=10d13b',\n",
       " 'https://scontent.cdninstagram.com/v/t51.29350-15/449327302_1504326410224136_1667058186237719313_n.jpg?stp=dst-jpg_e15&efg=eyJ2ZW5jb2RlX3RhZyI6ImltYWdlX3VybGdlbi44MTB4MTQ0MC5zZHIuZjI5MzUwIn0&_nc_ht=scontent.cdninstagram.com&_nc_cat=108&_nc_ohc=X5izDJdYrO0Q7kNvgFh6MYI&edm=APs17CUBAAAA&ccb=7-5&ig_cache_key=MzQwMDQ2NTQ3OTk4OTA4NTI5Nw%3D%3D.2-ccb7-5&oh=00_AYAob4DX9Qi1KzxDnlBlslXKtT_-T0mxnp1b7OTxVs58Ig&oe=6684FF25&_nc_sid=10d13b',\n",
       " 'https://d3i6fh83elv35t.cloudfront.net/static/2019/03/2016-12-20T120000Z_1075174070_RC1B914A32C0_RTRMADP_3_HUNGARY-HOUDINI-1024x683.jpg',\n",
       " 'https://scontent.cdninstagram.com/v/t51.29350-15/449327302_1504326410224136_1667058186237719313_n.jpg?stp=dst-jpg_e15&efg=eyJ2ZW5jb2RlX3RhZyI6ImltYWdlX3VybGdlbi44MTB4MTQ0MC5zZHIuZjI5MzUwIn0&_nc_ht=scontent.cdninstagram.com&_nc_cat=108&_nc_ohc=X5izDJdYrO0Q7kNvgFh6MYI&edm=APs17CUBAAAA&ccb=7-5&ig_cache_key=MzQwMDQ2NTQ3OTk4OTA4NTI5Nw%3D%3D.2-ccb7-5&oh=00_AYAob4DX9Qi1KzxDnlBlslXKtT_-T0mxnp1b7OTxVs58Ig&oe=6684FF25&_nc_sid=10d13b',\n",
       " 'https://i.dailymail.co.uk/1s/2024/05/22/09/85189637-13446321-image-a-50_1716367850038.jpg',\n",
       " 'https://preview.redd.it/i-agree-its-a-bad-idea-but-at-this-point-in-their-career-i-v0-xxq8mjwcn92d1.jpeg?auto=webp&s=a8fc304b697d27fa358605307d1a762cbcc15fad',\n",
       " 'https://townsquare.media/site/812/files/2024/05/attachment-eminem-david-blaine1.jpg?w=780&q=75',\n",
       " 'https://images.genius.com/93a2e6a47a168080c985d3855f31b3ca.1000x563x1.png']"
      ]
     },
     "execution_count": 28,
     "metadata": {},
     "output_type": "execute_result"
    }
   ],
   "source": [
    "keys = list(descriptions.keys())\n",
    "download_images(keys, f'images/{video_name}')"
   ]
  },
  {
   "cell_type": "markdown",
   "metadata": {},
   "source": [
    "## Create video from the pictures"
   ]
  },
  {
   "cell_type": "code",
   "execution_count": 29,
   "metadata": {},
   "outputs": [],
   "source": [
    "from moviepy.editor import ImageClip, CompositeVideoClip, VideoFileClip, concatenate_videoclips"
   ]
  },
  {
   "cell_type": "markdown",
   "metadata": {},
   "source": [
    "### Adding the pictures"
   ]
  },
  {
   "cell_type": "code",
   "execution_count": 30,
   "metadata": {},
   "outputs": [],
   "source": [
    "import nltk\n",
    "def find_closest_match(words, target):\n",
    "    # print(f'try to find \"{target}\" in \"{words}\"')\n",
    "    target_words = nltk.word_tokenize(target)\n",
    "    similarities = []\n",
    "    for i in range(len(words) - len(target_words) + 1):\n",
    "        similarity = nltk.jaccard_distance(set(target_words), set(words[i:i+len(target_words)]))\n",
    "        # print(f'similarity between {target_words} and {words[i:i+len(target_words)]} : {similarity}')\n",
    "        similarities.append(similarity)\n",
    "    # print(similarities)\n",
    "    # print(type(similarities))\n",
    "    best_match_index = similarities.index(min(similarities))\n",
    "\n",
    "    return ' '.join(words[best_match_index:best_match_index+len(target_words)])\n",
    "\n",
    "\n",
    "def get_sentence_timings(transcription, sentence):\n",
    "    \"\"\"\n",
    "    Returns the start and end timings of a sentence in a transcription object.\n",
    "\n",
    "    Args:\n",
    "    transcription (Transcription): The transcription object.\n",
    "    sentence (str): The sentence to search for.\n",
    "\n",
    "    Returns:\n",
    "    tuple: A tuple containing the start and end timings of the sentence.\n",
    "    \"\"\"\n",
    "    word_list = [d['word'] for d in transcription.words]\n",
    "    sentence = find_closest_match(word_list, sentence)\n",
    "    # sentence = onlychars(sentence)\n",
    "    # print(f'try to find {sentence} in {word_list}')\n",
    "    \n",
    "    words = transcription.words\n",
    "    sentence = sentence.replace('...', ' ').replace('\\\"', ' ').replace('.', '')\n",
    "    sentence_words = sentence.split()\n",
    "    sentence_start = None\n",
    "    sentence_end = None\n",
    "\n",
    "    # print(f'try to find {sentence_words} in {words}')\n",
    "    \n",
    "    i = 0\n",
    "    while i < len(words):\n",
    "        if words[i]['word'].lower() == sentence_words[0].lower():\n",
    "            # print(f'found {sentence_words[0]}')\n",
    "            j = 1\n",
    "            while j < len(sentence_words) and i + j < len(words) and words[i + j]['word'].lower() == sentence_words[j].lower():\n",
    "                j += 1\n",
    "            if j == len(sentence_words):\n",
    "                sentence_start = words[i]['start']\n",
    "                sentence_end = words[i + j - 1]['end']\n",
    "                break\n",
    "            # print(f'found {sentence_words[:j]} but not the rest')\n",
    "        i += 1\n",
    "        \n",
    "    if(sentence_start == None or sentence_end == None):\n",
    "        print(f\"no timings found for '{sentence}'\")\n",
    "    else:\n",
    "        print(f\"timings found for '{sentence}' : {sentence_start} to {sentence_end}\")    \n",
    "        sentence_start = round(sentence_start, 2)\n",
    "        sentence_end = round(sentence_end, 2)\n",
    "    return sentence_start, sentence_end"
   ]
  },
  {
   "cell_type": "code",
   "execution_count": 31,
   "metadata": {},
   "outputs": [],
   "source": [
    "def duplicate_video(input_video_path, output_video_path, duration = 0):\n",
    "    clip = VideoFileClip(input_video_path)\n",
    "    clip = clip.subclip(0, duration) if clip.duration > duration else clip\n",
    "    clip.write_videofile(output_video_path)"
   ]
  },
  {
   "cell_type": "code",
   "execution_count": 32,
   "metadata": {},
   "outputs": [],
   "source": [
    "if(not os.path.exists(f'videos/results/{video_name}.mp4')):\n",
    "    duplicate_video('videos\\satifying\\satisfying.mp4', f'videos/results/{video_name}.mp4', timing_description.duration)"
   ]
  },
  {
   "cell_type": "code",
   "execution_count": 36,
   "metadata": {},
   "outputs": [],
   "source": [
    "import os\n",
    "\n",
    "def get_images_paths(directory):\n",
    "    # Use os.listdir to get a list of all files in the directory\n",
    "    file_list = os.listdir(directory)\n",
    "\n",
    "    # Filter out any non-file entries (e.g. directories)\n",
    "    file_list = [f for f in file_list if os.path.isfile(os.path.join(directory, f))]\n",
    "\n",
    "    # Sort the list of files based on the number in the filename\n",
    "    file_list.sort(key=lambda x: int(''.join(filter(str.isdigit, x))))\n",
    "\n",
    "    file_paths = [os.path.join(directory, f) for f in file_list]\n",
    "\n",
    "    return file_paths"
   ]
  },
  {
   "cell_type": "code",
   "execution_count": 37,
   "metadata": {},
   "outputs": [
    {
     "name": "stdout",
     "output_type": "stream",
     "text": [
      "timings found for 'Houdini is the lead single of Eminem's 12th studio album The Death of Slim Shady Coup de Grace' : 0.0 to 6.199999809265137\n",
      "timings found for 'The track is named after Harry Houdini' : 6.980000019073486 to 8.720000267028809\n",
      "timings found for 'a popular magician known for his death defying stunts like the Chinese water torture' : 9.0 to 13.640000343322754\n",
      "timings found for 'which Eminem replicates in the intro to his 1999 track Role Model' : 14.479999542236328 to 18.780000686645508\n",
      "timings found for 'With the return of longtime collaborator Jeff Bass of the Bass Brothers' : 19.8799991607666 to 23.1200008392334\n",
      "timings found for 'Eminem revisits his catchy albeit morbid sound of the early 2000s' : 23.760000228881836 to 27.84000015258789\n",
      "timings found for 'This fanfare track sees him call back to his old catchphrases such as Shady's iconic guess who's back line from the 2002 track Without Me' : 28.6200008392334 to 37.86000061035156\n",
      "timings found for 'The song heavily samples and interpolates the Steve Miller band's 1982 track Abracadabra' : 38.81999969482422 to 44.439998626708984\n",
      "timings found for 'On October 24th 1926 the legendary Houdini tragically passed away in Detroit Michigan at the age of 52' : 45.29999923706055 to 52.91999816894531\n",
      "timings found for 'Interestingly Detroit is also the hometown of Eminem who turns 52 in October 2024' : 53.599998474121094 to 59.15999984741211\n",
      "timings found for 'The single was first teased by Eminem on May 20th 2024 when he posted a teaser to his social media accounts with a text message from all contacts stating and for my last trick' : 59.58000183105469 to 70.05999755859375\n",
      "timings found for 'The text message also has the date of May 31st sparking rumors of Eminem releasing music on that day' : 71.30000305175781 to 77.41999816894531\n",
      "timings found for 'On May 28th 2024 Eminem posted a video to Instagram of him on a FaceTime call with magician David Blaine' : 77.76000213623047 to 85.0\n",
      "timings found for 'Blaine At the end of the video he announced the release of Houdini on May 31st then closed out by stating for my last trick I'm gonna make my career disappear hinting at the death of Slim Shady Coup De Grace being his final album' : 84.69999694824219 to 99.58000183105469\n",
      "[(0.0, 6.2), (6.98, 8.72), (9.0, 13.64), (14.48, 18.78), (19.88, 23.12), (23.76, 27.84), (28.62, 37.86), (38.82, 44.44), (45.3, 52.92), (53.6, 59.16), (59.58, 70.06), (71.3, 77.42), (77.76, 85.0), (85.0, 99.58)]\n",
      "['images/Eminem-Houdini\\\\0.jpg', 'images/Eminem-Houdini\\\\1.jpg', 'images/Eminem-Houdini\\\\2.jpg', 'images/Eminem-Houdini\\\\3.jpg', 'images/Eminem-Houdini\\\\4.jpg', 'images/Eminem-Houdini\\\\5.jpg', 'images/Eminem-Houdini\\\\6.jpg', 'images/Eminem-Houdini\\\\7.jpg', 'images/Eminem-Houdini\\\\8.jpg', 'images/Eminem-Houdini\\\\9.jpg', 'images/Eminem-Houdini\\\\10.jpg', 'images/Eminem-Houdini\\\\11.jpeg', 'images/Eminem-Houdini\\\\12.jpg', 'images/Eminem-Houdini\\\\13.png']\n"
     ]
    }
   ],
   "source": [
    "i=0\n",
    "timings = []\n",
    "images = get_images_paths(f'images/{video_name}')\n",
    "m = 0\n",
    "for key in list(descriptions.keys()):\n",
    "    # timing_description is the original transcription\n",
    "    # key is the sentence\n",
    "    start_time, end_time = get_sentence_timings(timing_description, key)\n",
    "    if(start_time < m):\n",
    "        start_time = m\n",
    "    m = end_time\n",
    "    if(start_time == None or end_time == None):\n",
    "        continue\n",
    "    timings.append((start_time, end_time))\n",
    "    # print(start_time, end_time)\n",
    "    # add_image_to_video(f'videos/results/{video_name}.mp4', f'videos/results/{video_name}.mp4', f'images/{video_name}/{i}.jpg', start_time, end_time - start_time, 0, 0, 1280, 720)\n",
    "    i+=1\n",
    "\n",
    "print(timings)\n",
    "print(images)"
   ]
  },
  {
   "cell_type": "code",
   "execution_count": 38,
   "metadata": {},
   "outputs": [],
   "source": [
    "def add_multiple_images_to_video(input_video_path, output_video_path, images, timings):\n",
    "    print(f\"Adding {len(images)} images to the video\")\n",
    "    print(f\"Images : {images}\")\n",
    "    print(f\"Timings : {timings}\")\n",
    "    \n",
    "    images = images.copy()\n",
    "    clip = VideoFileClip(input_video_path, audio=False)\n",
    "    clips = []\n",
    "    offset = 0\n",
    "    \n",
    "    for start_time, end_time in timings:\n",
    "        if start_time == None or end_time == None:\n",
    "            print(\"Could not find timings\")\n",
    "            continue\n",
    "        print(f\"Adding image {images[0]} from {start_time} to {end_time}\")\n",
    "        # print(len(images))\n",
    "        clip_before = clip.subclip(0, start_time-offset)\n",
    "        clip_with_image = clip.subclip(start_time-offset, end_time-offset)\n",
    "        clip_after = clip.subclip(end_time-offset, clip.duration)\n",
    "        offset += clip_before.duration + clip_with_image.duration\n",
    "        \n",
    "        image_clip = ImageClip(images.pop(0))\n",
    "        image_clip = image_clip.resize(width=clip.w/2, height=clip.h/2)\n",
    "        image_clip = image_clip.set_pos(('center', 'center'))\n",
    "        image_clip = image_clip.set_start(0).set_duration(clip_with_image.duration)\n",
    "\n",
    "        final_clip_middle = CompositeVideoClip([clip_with_image, image_clip])\n",
    "\n",
    "        final_clip = concatenate_videoclips([clip_before, final_clip_middle])\n",
    "\n",
    "        clip = clip_after\n",
    "        \n",
    "        clips.append(final_clip)\n",
    "\n",
    "    clips.append(clip)\n",
    "    final_clip = concatenate_videoclips(clips, method=\"chain\")\n",
    "\n",
    "    # Save the video\n",
    "    final_clip.write_videofile(output_video_path)"
   ]
  },
  {
   "cell_type": "code",
   "execution_count": 39,
   "metadata": {},
   "outputs": [
    {
     "name": "stdout",
     "output_type": "stream",
     "text": [
      "Adding 14 images to the video\n",
      "Images : ['images/Eminem-Houdini\\\\0.jpg', 'images/Eminem-Houdini\\\\1.jpg', 'images/Eminem-Houdini\\\\2.jpg', 'images/Eminem-Houdini\\\\3.jpg', 'images/Eminem-Houdini\\\\4.jpg', 'images/Eminem-Houdini\\\\5.jpg', 'images/Eminem-Houdini\\\\6.jpg', 'images/Eminem-Houdini\\\\7.jpg', 'images/Eminem-Houdini\\\\8.jpg', 'images/Eminem-Houdini\\\\9.jpg', 'images/Eminem-Houdini\\\\10.jpg', 'images/Eminem-Houdini\\\\11.jpeg', 'images/Eminem-Houdini\\\\12.jpg', 'images/Eminem-Houdini\\\\13.png']\n",
      "Timings : [(0.0, 6.2), (6.98, 8.72), (9.0, 13.64), (14.48, 18.78), (19.88, 23.12), (23.76, 27.84), (28.62, 37.86), (38.82, 44.44), (45.3, 52.92), (53.6, 59.16), (59.58, 70.06), (71.3, 77.42), (77.76, 85.0), (85.0, 99.58)]\n",
      "Adding image images/Eminem-Houdini\\0.jpg from 0.0 to 6.2\n",
      "Adding image images/Eminem-Houdini\\1.jpg from 6.98 to 8.72\n",
      "Adding image images/Eminem-Houdini\\2.jpg from 9.0 to 13.64\n",
      "Adding image images/Eminem-Houdini\\3.jpg from 14.48 to 18.78\n",
      "Adding image images/Eminem-Houdini\\4.jpg from 19.88 to 23.12\n",
      "Adding image images/Eminem-Houdini\\5.jpg from 23.76 to 27.84\n",
      "Adding image images/Eminem-Houdini\\6.jpg from 28.62 to 37.86\n",
      "Adding image images/Eminem-Houdini\\7.jpg from 38.82 to 44.44\n",
      "Adding image images/Eminem-Houdini\\8.jpg from 45.3 to 52.92\n",
      "Adding image images/Eminem-Houdini\\9.jpg from 53.6 to 59.16\n",
      "Adding image images/Eminem-Houdini\\10.jpg from 59.58 to 70.06\n",
      "Adding image images/Eminem-Houdini\\11.jpeg from 71.3 to 77.42\n",
      "Adding image images/Eminem-Houdini\\12.jpg from 77.76 to 85.0\n",
      "Adding image images/Eminem-Houdini\\13.png from 85.0 to 99.58\n",
      "Moviepy - Building video videos/results/Eminem-Houdini_V2.mp4.\n",
      "Moviepy - Writing video videos/results/Eminem-Houdini_V2.mp4\n",
      "\n"
     ]
    },
    {
     "name": "stderr",
     "output_type": "stream",
     "text": [
      "                                                                 \r"
     ]
    },
    {
     "name": "stdout",
     "output_type": "stream",
     "text": [
      "Moviepy - Done !\n",
      "Moviepy - video ready videos/results/Eminem-Houdini_V2.mp4\n"
     ]
    }
   ],
   "source": [
    "# video_name = \"Eminem-Houdini\"\n",
    "add_multiple_images_to_video(f'videos/results/{video_name}.mp4', f'videos/results/{video_name}_V2.mp4', images, timings)"
   ]
  },
  {
   "cell_type": "code",
   "execution_count": null,
   "metadata": {},
   "outputs": [],
   "source": []
  },
  {
   "cell_type": "markdown",
   "metadata": {},
   "source": [
    "## Sounds"
   ]
  },
  {
   "cell_type": "markdown",
   "metadata": {},
   "source": [
    "### The voice"
   ]
  },
  {
   "cell_type": "code",
   "execution_count": 42,
   "metadata": {},
   "outputs": [],
   "source": [
    "# imports\n",
    "from moviepy.editor import AudioFileClip, CompositeAudioClip"
   ]
  },
  {
   "cell_type": "code",
   "execution_count": 43,
   "metadata": {},
   "outputs": [],
   "source": [
    "def add_audio_to_video(video_path, audio_path, output_path):\n",
    "    # Load the video and the audio file\n",
    "    video = VideoFileClip(video_path)\n",
    "    audio = AudioFileClip(audio_path)\n",
    "\n",
    "    # Make the audio file as long as the video file\n",
    "    final_audio = CompositeAudioClip([audio.set_duration(video.duration)])\n",
    "\n",
    "    # Set the audio of the video to the final_audio\n",
    "    final_video = video.set_audio(final_audio)\n",
    "\n",
    "    # Write the result to a file\n",
    "    final_video.write_videofile(output_path)"
   ]
  },
  {
   "cell_type": "code",
   "execution_count": 44,
   "metadata": {},
   "outputs": [
    {
     "name": "stdout",
     "output_type": "stream",
     "text": [
      "Moviepy - Building video videos/results/Eminem-Houdini_V3.mp4.\n",
      "MoviePy - Writing audio in Eminem-Houdini_V3TEMP_MPY_wvf_snd.mp3\n"
     ]
    },
    {
     "name": "stderr",
     "output_type": "stream",
     "text": [
      "                                                                      \r"
     ]
    },
    {
     "name": "stdout",
     "output_type": "stream",
     "text": [
      "MoviePy - Done.\n",
      "Moviepy - Writing video videos/results/Eminem-Houdini_V3.mp4\n",
      "\n"
     ]
    },
    {
     "name": "stderr",
     "output_type": "stream",
     "text": [
      "                                                                 \r"
     ]
    },
    {
     "name": "stdout",
     "output_type": "stream",
     "text": [
      "Moviepy - Done !\n",
      "Moviepy - video ready videos/results/Eminem-Houdini_V3.mp4\n"
     ]
    }
   ],
   "source": [
    "add_audio_to_video(f'videos/results/{video_name}_V2.mp4', 'audio_description.mp3', f'videos/results/{video_name}_V3.mp4')"
   ]
  },
  {
   "cell_type": "markdown",
   "metadata": {},
   "source": [
    "### Music"
   ]
  },
  {
   "cell_type": "markdown",
   "metadata": {},
   "source": [
    "## Subtitles"
   ]
  },
  {
   "cell_type": "code",
   "execution_count": 57,
   "metadata": {},
   "outputs": [],
   "source": [
    "from moviepy.editor import *\n",
    "\n",
    "def add_subtitles_to_video(video_path, subtitles, output_path):\n",
    "    # Load the video\n",
    "    print(video_path)\n",
    "    video = VideoFileClip(video_path)\n",
    "\n",
    "    # Create a list of TextClip objects for each subtitle\n",
    "    text_clips = []\n",
    "    for word in subtitles.words:\n",
    "        text_clip = TextClip(word['word'], fontsize=24, color='white')\n",
    "        text_clip = text_clip.set_start(word['start']).set_duration(word['end'] - word['start'])\n",
    "        text_clips.append(text_clip)\n",
    "\n",
    "    # Overlay the text clips on the video\n",
    "    final_video = CompositeVideoClip([video] + text_clips)\n",
    "\n",
    "    # Write the result to a file\n",
    "    final_video.write_videofile(output_path)"
   ]
  },
  {
   "cell_type": "code",
   "execution_count": 58,
   "metadata": {},
   "outputs": [
    {
     "name": "stdout",
     "output_type": "stream",
     "text": [
      "videos/results/Eminem-Houdini_V3.mp4\n"
     ]
    },
    {
     "ename": "OSError",
     "evalue": "MoviePy Error: creation of None failed because of the following error:\n\n[WinError 2] Le fichier spécifié est introuvable.\n\n.This error can be due to the fact that ImageMagick is not installed on your computer, or (for Windows users) that you didn't specify the path to the ImageMagick binary in file conf.py, or that the path you specified is incorrect",
     "output_type": "error",
     "traceback": [
      "\u001b[1;31m---------------------------------------------------------------------------\u001b[0m",
      "\u001b[1;31mFileNotFoundError\u001b[0m                         Traceback (most recent call last)",
      "File \u001b[1;32mc:\\Users\\lorra\\AppData\\Local\\Programs\\Python\\Python311\\Lib\\site-packages\\moviepy\\video\\VideoClip.py:1137\u001b[0m, in \u001b[0;36mTextClip.__init__\u001b[1;34m(self, txt, filename, size, color, bg_color, fontsize, font, stroke_color, stroke_width, method, kerning, align, interline, tempfilename, temptxt, transparent, remove_temp, print_cmd)\u001b[0m\n\u001b[0;32m   1136\u001b[0m \u001b[38;5;28;01mtry\u001b[39;00m:\n\u001b[1;32m-> 1137\u001b[0m     \u001b[43msubprocess_call\u001b[49m\u001b[43m(\u001b[49m\u001b[43mcmd\u001b[49m\u001b[43m,\u001b[49m\u001b[43m \u001b[49m\u001b[43mlogger\u001b[49m\u001b[38;5;241;43m=\u001b[39;49m\u001b[38;5;28;43;01mNone\u001b[39;49;00m\u001b[43m)\u001b[49m\n\u001b[0;32m   1138\u001b[0m \u001b[38;5;28;01mexcept\u001b[39;00m (\u001b[38;5;167;01mIOError\u001b[39;00m, \u001b[38;5;167;01mOSError\u001b[39;00m) \u001b[38;5;28;01mas\u001b[39;00m err:\n",
      "File \u001b[1;32mc:\\Users\\lorra\\AppData\\Local\\Programs\\Python\\Python311\\Lib\\site-packages\\moviepy\\tools.py:46\u001b[0m, in \u001b[0;36msubprocess_call\u001b[1;34m(cmd, logger, errorprint)\u001b[0m\n\u001b[0;32m     44\u001b[0m     popen_params[\u001b[38;5;124m\"\u001b[39m\u001b[38;5;124mcreationflags\u001b[39m\u001b[38;5;124m\"\u001b[39m] \u001b[38;5;241m=\u001b[39m \u001b[38;5;241m0x08000000\u001b[39m\n\u001b[1;32m---> 46\u001b[0m proc \u001b[38;5;241m=\u001b[39m \u001b[43msp\u001b[49m\u001b[38;5;241;43m.\u001b[39;49m\u001b[43mPopen\u001b[49m\u001b[43m(\u001b[49m\u001b[43mcmd\u001b[49m\u001b[43m,\u001b[49m\u001b[43m \u001b[49m\u001b[38;5;241;43m*\u001b[39;49m\u001b[38;5;241;43m*\u001b[39;49m\u001b[43mpopen_params\u001b[49m\u001b[43m)\u001b[49m\n\u001b[0;32m     48\u001b[0m out, err \u001b[38;5;241m=\u001b[39m proc\u001b[38;5;241m.\u001b[39mcommunicate() \u001b[38;5;66;03m# proc.wait()\u001b[39;00m\n",
      "File \u001b[1;32mc:\\Users\\lorra\\AppData\\Local\\Programs\\Python\\Python311\\Lib\\subprocess.py:1026\u001b[0m, in \u001b[0;36mPopen.__init__\u001b[1;34m(self, args, bufsize, executable, stdin, stdout, stderr, preexec_fn, close_fds, shell, cwd, env, universal_newlines, startupinfo, creationflags, restore_signals, start_new_session, pass_fds, user, group, extra_groups, encoding, errors, text, umask, pipesize, process_group)\u001b[0m\n\u001b[0;32m   1023\u001b[0m             \u001b[38;5;28mself\u001b[39m\u001b[38;5;241m.\u001b[39mstderr \u001b[38;5;241m=\u001b[39m io\u001b[38;5;241m.\u001b[39mTextIOWrapper(\u001b[38;5;28mself\u001b[39m\u001b[38;5;241m.\u001b[39mstderr,\n\u001b[0;32m   1024\u001b[0m                     encoding\u001b[38;5;241m=\u001b[39mencoding, errors\u001b[38;5;241m=\u001b[39merrors)\n\u001b[1;32m-> 1026\u001b[0m     \u001b[38;5;28;43mself\u001b[39;49m\u001b[38;5;241;43m.\u001b[39;49m\u001b[43m_execute_child\u001b[49m\u001b[43m(\u001b[49m\u001b[43margs\u001b[49m\u001b[43m,\u001b[49m\u001b[43m \u001b[49m\u001b[43mexecutable\u001b[49m\u001b[43m,\u001b[49m\u001b[43m \u001b[49m\u001b[43mpreexec_fn\u001b[49m\u001b[43m,\u001b[49m\u001b[43m \u001b[49m\u001b[43mclose_fds\u001b[49m\u001b[43m,\u001b[49m\n\u001b[0;32m   1027\u001b[0m \u001b[43m                        \u001b[49m\u001b[43mpass_fds\u001b[49m\u001b[43m,\u001b[49m\u001b[43m \u001b[49m\u001b[43mcwd\u001b[49m\u001b[43m,\u001b[49m\u001b[43m \u001b[49m\u001b[43menv\u001b[49m\u001b[43m,\u001b[49m\n\u001b[0;32m   1028\u001b[0m \u001b[43m                        \u001b[49m\u001b[43mstartupinfo\u001b[49m\u001b[43m,\u001b[49m\u001b[43m \u001b[49m\u001b[43mcreationflags\u001b[49m\u001b[43m,\u001b[49m\u001b[43m \u001b[49m\u001b[43mshell\u001b[49m\u001b[43m,\u001b[49m\n\u001b[0;32m   1029\u001b[0m \u001b[43m                        \u001b[49m\u001b[43mp2cread\u001b[49m\u001b[43m,\u001b[49m\u001b[43m \u001b[49m\u001b[43mp2cwrite\u001b[49m\u001b[43m,\u001b[49m\n\u001b[0;32m   1030\u001b[0m \u001b[43m                        \u001b[49m\u001b[43mc2pread\u001b[49m\u001b[43m,\u001b[49m\u001b[43m \u001b[49m\u001b[43mc2pwrite\u001b[49m\u001b[43m,\u001b[49m\n\u001b[0;32m   1031\u001b[0m \u001b[43m                        \u001b[49m\u001b[43merrread\u001b[49m\u001b[43m,\u001b[49m\u001b[43m \u001b[49m\u001b[43merrwrite\u001b[49m\u001b[43m,\u001b[49m\n\u001b[0;32m   1032\u001b[0m \u001b[43m                        \u001b[49m\u001b[43mrestore_signals\u001b[49m\u001b[43m,\u001b[49m\n\u001b[0;32m   1033\u001b[0m \u001b[43m                        \u001b[49m\u001b[43mgid\u001b[49m\u001b[43m,\u001b[49m\u001b[43m \u001b[49m\u001b[43mgids\u001b[49m\u001b[43m,\u001b[49m\u001b[43m \u001b[49m\u001b[43muid\u001b[49m\u001b[43m,\u001b[49m\u001b[43m \u001b[49m\u001b[43mumask\u001b[49m\u001b[43m,\u001b[49m\n\u001b[0;32m   1034\u001b[0m \u001b[43m                        \u001b[49m\u001b[43mstart_new_session\u001b[49m\u001b[43m,\u001b[49m\u001b[43m \u001b[49m\u001b[43mprocess_group\u001b[49m\u001b[43m)\u001b[49m\n\u001b[0;32m   1035\u001b[0m \u001b[38;5;28;01mexcept\u001b[39;00m:\n\u001b[0;32m   1036\u001b[0m     \u001b[38;5;66;03m# Cleanup if the child failed starting.\u001b[39;00m\n",
      "File \u001b[1;32mc:\\Users\\lorra\\AppData\\Local\\Programs\\Python\\Python311\\Lib\\subprocess.py:1538\u001b[0m, in \u001b[0;36mPopen._execute_child\u001b[1;34m(self, args, executable, preexec_fn, close_fds, pass_fds, cwd, env, startupinfo, creationflags, shell, p2cread, p2cwrite, c2pread, c2pwrite, errread, errwrite, unused_restore_signals, unused_gid, unused_gids, unused_uid, unused_umask, unused_start_new_session, unused_process_group)\u001b[0m\n\u001b[0;32m   1537\u001b[0m \u001b[38;5;28;01mtry\u001b[39;00m:\n\u001b[1;32m-> 1538\u001b[0m     hp, ht, pid, tid \u001b[38;5;241m=\u001b[39m _winapi\u001b[38;5;241m.\u001b[39mCreateProcess(executable, args,\n\u001b[0;32m   1539\u001b[0m                              \u001b[38;5;66;03m# no special security\u001b[39;00m\n\u001b[0;32m   1540\u001b[0m                              \u001b[38;5;28;01mNone\u001b[39;00m, \u001b[38;5;28;01mNone\u001b[39;00m,\n\u001b[0;32m   1541\u001b[0m                              \u001b[38;5;28mint\u001b[39m(\u001b[38;5;129;01mnot\u001b[39;00m close_fds),\n\u001b[0;32m   1542\u001b[0m                              creationflags,\n\u001b[0;32m   1543\u001b[0m                              env,\n\u001b[0;32m   1544\u001b[0m                              cwd,\n\u001b[0;32m   1545\u001b[0m                              startupinfo)\n\u001b[0;32m   1546\u001b[0m \u001b[38;5;28;01mfinally\u001b[39;00m:\n\u001b[0;32m   1547\u001b[0m     \u001b[38;5;66;03m# Child is launched. Close the parent's copy of those pipe\u001b[39;00m\n\u001b[0;32m   1548\u001b[0m     \u001b[38;5;66;03m# handles that only the child should have open.  You need\u001b[39;00m\n\u001b[1;32m   (...)\u001b[0m\n\u001b[0;32m   1551\u001b[0m     \u001b[38;5;66;03m# pipe will not close when the child process exits and the\u001b[39;00m\n\u001b[0;32m   1552\u001b[0m     \u001b[38;5;66;03m# ReadFile will hang.\u001b[39;00m\n",
      "\u001b[1;31mFileNotFoundError\u001b[0m: [WinError 2] Le fichier spécifié est introuvable",
      "\nDuring handling of the above exception, another exception occurred:\n",
      "\u001b[1;31mOSError\u001b[0m                                   Traceback (most recent call last)",
      "Cell \u001b[1;32mIn[58], line 1\u001b[0m\n\u001b[1;32m----> 1\u001b[0m \u001b[43madd_subtitles_to_video\u001b[49m\u001b[43m(\u001b[49m\u001b[38;5;124;43mf\u001b[39;49m\u001b[38;5;124;43m'\u001b[39;49m\u001b[38;5;124;43mvideos/results/\u001b[39;49m\u001b[38;5;132;43;01m{\u001b[39;49;00m\u001b[43mvideo_name\u001b[49m\u001b[38;5;132;43;01m}\u001b[39;49;00m\u001b[38;5;124;43m_V3.mp4\u001b[39;49m\u001b[38;5;124;43m'\u001b[39;49m\u001b[43m,\u001b[49m\u001b[43m \u001b[49m\u001b[43mtiming_description\u001b[49m\u001b[43m,\u001b[49m\u001b[43m \u001b[49m\u001b[38;5;124;43mf\u001b[39;49m\u001b[38;5;124;43m'\u001b[39;49m\u001b[38;5;124;43mvideos/results/\u001b[39;49m\u001b[38;5;132;43;01m{\u001b[39;49;00m\u001b[43mvideo_name\u001b[49m\u001b[38;5;132;43;01m}\u001b[39;49;00m\u001b[38;5;124;43m_V4.mp4\u001b[39;49m\u001b[38;5;124;43m'\u001b[39;49m\u001b[43m)\u001b[49m\n",
      "Cell \u001b[1;32mIn[57], line 11\u001b[0m, in \u001b[0;36madd_subtitles_to_video\u001b[1;34m(video_path, subtitles, output_path)\u001b[0m\n\u001b[0;32m      9\u001b[0m text_clips \u001b[38;5;241m=\u001b[39m []\n\u001b[0;32m     10\u001b[0m \u001b[38;5;28;01mfor\u001b[39;00m word \u001b[38;5;129;01min\u001b[39;00m subtitles\u001b[38;5;241m.\u001b[39mwords:\n\u001b[1;32m---> 11\u001b[0m     text_clip \u001b[38;5;241m=\u001b[39m \u001b[43mTextClip\u001b[49m\u001b[43m(\u001b[49m\u001b[43mword\u001b[49m\u001b[43m[\u001b[49m\u001b[38;5;124;43m'\u001b[39;49m\u001b[38;5;124;43mword\u001b[39;49m\u001b[38;5;124;43m'\u001b[39;49m\u001b[43m]\u001b[49m\u001b[43m,\u001b[49m\u001b[43m \u001b[49m\u001b[43mfontsize\u001b[49m\u001b[38;5;241;43m=\u001b[39;49m\u001b[38;5;241;43m24\u001b[39;49m\u001b[43m,\u001b[49m\u001b[43m \u001b[49m\u001b[43mcolor\u001b[49m\u001b[38;5;241;43m=\u001b[39;49m\u001b[38;5;124;43m'\u001b[39;49m\u001b[38;5;124;43mwhite\u001b[39;49m\u001b[38;5;124;43m'\u001b[39;49m\u001b[43m)\u001b[49m\n\u001b[0;32m     12\u001b[0m     text_clip \u001b[38;5;241m=\u001b[39m text_clip\u001b[38;5;241m.\u001b[39mset_start(word[\u001b[38;5;124m'\u001b[39m\u001b[38;5;124mstart\u001b[39m\u001b[38;5;124m'\u001b[39m])\u001b[38;5;241m.\u001b[39mset_duration(word[\u001b[38;5;124m'\u001b[39m\u001b[38;5;124mend\u001b[39m\u001b[38;5;124m'\u001b[39m] \u001b[38;5;241m-\u001b[39m word[\u001b[38;5;124m'\u001b[39m\u001b[38;5;124mstart\u001b[39m\u001b[38;5;124m'\u001b[39m])\n\u001b[0;32m     13\u001b[0m     text_clips\u001b[38;5;241m.\u001b[39mappend(text_clip)\n",
      "File \u001b[1;32mc:\\Users\\lorra\\AppData\\Local\\Programs\\Python\\Python311\\Lib\\site-packages\\moviepy\\video\\VideoClip.py:1146\u001b[0m, in \u001b[0;36mTextClip.__init__\u001b[1;34m(self, txt, filename, size, color, bg_color, fontsize, font, stroke_color, stroke_width, method, kerning, align, interline, tempfilename, temptxt, transparent, remove_temp, print_cmd)\u001b[0m\n\u001b[0;32m   1138\u001b[0m \u001b[38;5;28;01mexcept\u001b[39;00m (\u001b[38;5;167;01mIOError\u001b[39;00m, \u001b[38;5;167;01mOSError\u001b[39;00m) \u001b[38;5;28;01mas\u001b[39;00m err:\n\u001b[0;32m   1139\u001b[0m     error \u001b[38;5;241m=\u001b[39m (\u001b[38;5;124m\"\u001b[39m\u001b[38;5;124mMoviePy Error: creation of \u001b[39m\u001b[38;5;132;01m%s\u001b[39;00m\u001b[38;5;124m failed because of the \u001b[39m\u001b[38;5;124m\"\u001b[39m\n\u001b[0;32m   1140\u001b[0m              \u001b[38;5;124m\"\u001b[39m\u001b[38;5;124mfollowing error:\u001b[39m\u001b[38;5;130;01m\\n\u001b[39;00m\u001b[38;5;130;01m\\n\u001b[39;00m\u001b[38;5;132;01m%s\u001b[39;00m\u001b[38;5;124m.\u001b[39m\u001b[38;5;130;01m\\n\u001b[39;00m\u001b[38;5;130;01m\\n\u001b[39;00m\u001b[38;5;124m.\u001b[39m\u001b[38;5;124m\"\u001b[39m \u001b[38;5;241m%\u001b[39m (filename, \u001b[38;5;28mstr\u001b[39m(err))\n\u001b[0;32m   1141\u001b[0m              \u001b[38;5;241m+\u001b[39m (\u001b[38;5;124m\"\u001b[39m\u001b[38;5;124mThis error can be due to the fact that ImageMagick \u001b[39m\u001b[38;5;124m\"\u001b[39m\n\u001b[1;32m   (...)\u001b[0m\n\u001b[0;32m   1144\u001b[0m                 \u001b[38;5;124m\"\u001b[39m\u001b[38;5;124mImageMagick binary in file conf.py, or that the path \u001b[39m\u001b[38;5;124m\"\u001b[39m\n\u001b[0;32m   1145\u001b[0m                 \u001b[38;5;124m\"\u001b[39m\u001b[38;5;124myou specified is incorrect\u001b[39m\u001b[38;5;124m\"\u001b[39m))\n\u001b[1;32m-> 1146\u001b[0m     \u001b[38;5;28;01mraise\u001b[39;00m \u001b[38;5;167;01mIOError\u001b[39;00m(error)\n\u001b[0;32m   1148\u001b[0m ImageClip\u001b[38;5;241m.\u001b[39m\u001b[38;5;21m__init__\u001b[39m(\u001b[38;5;28mself\u001b[39m, tempfilename, transparent\u001b[38;5;241m=\u001b[39mtransparent)\n\u001b[0;32m   1149\u001b[0m \u001b[38;5;28mself\u001b[39m\u001b[38;5;241m.\u001b[39mtxt \u001b[38;5;241m=\u001b[39m txt\n",
      "\u001b[1;31mOSError\u001b[0m: MoviePy Error: creation of None failed because of the following error:\n\n[WinError 2] Le fichier spécifié est introuvable.\n\n.This error can be due to the fact that ImageMagick is not installed on your computer, or (for Windows users) that you didn't specify the path to the ImageMagick binary in file conf.py, or that the path you specified is incorrect"
     ]
    }
   ],
   "source": [
    "add_subtitles_to_video(f'videos/results/{video_name}_V3.mp4', timing_description, f'videos/results/{video_name}_V4.mp4')"
   ]
  },
  {
   "cell_type": "code",
   "execution_count": null,
   "metadata": {},
   "outputs": [],
   "source": []
  }
 ],
 "metadata": {
  "kernelspec": {
   "display_name": "Python 3",
   "language": "python",
   "name": "python3"
  },
  "language_info": {
   "codemirror_mode": {
    "name": "ipython",
    "version": 3
   },
   "file_extension": ".py",
   "mimetype": "text/x-python",
   "name": "python",
   "nbconvert_exporter": "python",
   "pygments_lexer": "ipython3",
   "version": "3.11.4"
  }
 },
 "nbformat": 4,
 "nbformat_minor": 2
}
