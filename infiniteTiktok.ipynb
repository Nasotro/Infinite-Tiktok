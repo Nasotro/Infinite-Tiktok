{
 "cells": [
  {
   "cell_type": "markdown",
   "metadata": {},
   "source": [
    "# Generate Infinite Tiktoks"
   ]
  },
  {
   "cell_type": "markdown",
   "metadata": {},
   "source": [
    "## Generate video text\n",
    "The first step to generate a tiktok, is obviously to know what you're going to stay.\n",
    "\n",
    "To do so, my idea was to find something in genius.com, the famous website to have extra information on rap/pop songs. You can have informations about the context of the song when it was released.\n"
   ]
  },
  {
   "cell_type": "code",
   "execution_count": 78,
   "metadata": {},
   "outputs": [],
   "source": [
    "import os\n",
    "import requests\n",
    "from moviepy.editor import *"
   ]
  },
  {
   "cell_type": "code",
   "execution_count": 79,
   "metadata": {},
   "outputs": [],
   "source": [
    "def get_annotation(annotation_id):\n",
    "    url = f\"https://api.genius.com/annotations/{annotation_id}\"\n",
    "    payload = {}\n",
    "    headers = {'Authorization': 'Bearer ' + os.environ['RAPGENIUS_API_KEY']}\n",
    "    r = requests.request(\"GET\", url, headers=headers, data=payload)\n",
    "    data = r.json()\n",
    "    \n",
    "    full_annotation = \"\"\n",
    "    parts = data['response']['annotation']['body']['dom']['children']\n",
    "\n",
    "    full_annotation = find_annotation(parts)\n",
    "    \n",
    "    return full_annotation\n",
    "def find_annotation(root):\n",
    "    # print(type(root))\n",
    "    full_annotation = \"\"\n",
    "    if(type(root) == str):\n",
    "        if(root == \"\"):\n",
    "            root = '\\n'\n",
    "        full_annotation += root\n",
    "    elif(type(root) == dict):\n",
    "        if('children' in root):\n",
    "            full_annotation += find_annotation(root['children'])\n",
    "    elif(type(root) == list):\n",
    "        for part in root:\n",
    "            full_annotation += find_annotation(part)\n",
    "    \n",
    "    return full_annotation\n",
    "def get_id_song(url):\n",
    "    response = requests.get(url).content\n",
    "    id = int(response.split(b'genius://songs/')[1].split(b'\"')[0])\n",
    "    return id\n",
    "def get_song_description(song_id):\n",
    "    url = f\"https://api.genius.com/songs/{song_id}\"\n",
    "\n",
    "    payload = {}\n",
    "    headers = {\n",
    "        'Authorization': 'Bearer ' + os.environ['RAPGENIUS_API_KEY']\n",
    "    }\n",
    "\n",
    "    response = requests.request(\"GET\", url, headers=headers, data=payload)\n",
    "    data = response.json()\n",
    "    return get_annotation(data['response']['song']['description_annotation']['id'])\n"
   ]
  },
  {
   "cell_type": "code",
   "execution_count": 80,
   "metadata": {},
   "outputs": [
    {
     "name": "stdout",
     "output_type": "stream",
     "text": [
      "“Houdini” is the lead single of Eminem’s twelfth studio album The Death of Slim Shady (Coup de Grâce). The track is named after Harry Houdini, a popular magician known for his death-defying stunts like the Chinese Water Torture Cell, which Eminem replicates in the intro to his 1999 track, “Role Model.”\n",
      "With the return of long-time collaborator Jeff Bass of the Bass Brothers, Eminem revisits his catchy albeit morbid sound of the early 2000s. This fanfare track sees him callback to his old catchphrases such as Shady’s iconic “Guess who’s back?” line from the 2002 track “Without Me.” The song heavily samples and interpolates the Steve Miller Band’s 1982 track “Abracadabra.”\n",
      "On October 24, 1926, the legendary Houdini tragically passed away in Detroit, Michigan at the age of 52. Interestingly, Detroit is also the hometown of Eminem, who turns 52 in October 2024.\n",
      "The single was first teased by Eminem on May 20, 2024, when he posted a teaser to his social media accounts with a text message from “All Contacts” stating, “…and for my last trick!” The text message also has the date of May 31, sparking rumors of Eminem releasing music on that day.\n",
      "On May 28, 2024, Eminem posted a video to Instagram of him on a FaceTime call with magician David Blaine. At the end of the video, he announced the release of “Houdini” on May 31, then closed out by stating “for my last trick, I’m gonna make my career disappear,” hinting at The Death of Slim Shady (Coup de Grâce) being his final album.\n"
     ]
    }
   ],
   "source": [
    "url = \"https://genius.com/Eminem-houdini-lyrics\"\n",
    "video_name = \"Eminem-Houdini\"\n",
    "\n",
    "song_description = get_song_description(get_id_song(url))\n",
    "print(song_description)"
   ]
  },
  {
   "cell_type": "markdown",
   "metadata": {},
   "source": [
    "## Create Audio for the video"
   ]
  },
  {
   "cell_type": "code",
   "execution_count": 81,
   "metadata": {},
   "outputs": [],
   "source": [
    "from openai import OpenAI\n",
    "import os\n",
    "\n",
    "api_key = os.environ.get('OPENAI_API_KEY_LORRAIN')\n",
    "client = OpenAI(api_key=api_key)\n",
    "\n",
    "def text_to_speech_mp3(text, output_filename, model=\"tts-1\", voice=\"alloy\"):\n",
    "    \"\"\"\n",
    "    Converts a text string to speech using the OpenAI API and writes the resulting audio to an MP3 file.\n",
    "\n",
    "    Args:\n",
    "    text (str): The text string to convert to speech.\n",
    "    output_filename (str): The name of the output MP3 file.\n",
    "    model (str): The model to use for speech synthesis. Defaults to 'tts-1'.\n",
    "    voice (str): The voice to use for speech synthesis. Defaults to 'alloy'.\n",
    "    \"\"\"\n",
    "    global client\n",
    "    client = OpenAI(api_key=os.environ.get('OPENAI_API_KEY_LORRAIN')) if client is None else client\n",
    "    speech_file_path = output_filename\n",
    "\n",
    "\n",
    "    with client.audio.speech.with_streaming_response.create(\n",
    "        model=model,\n",
    "        voice=voice,\n",
    "        input=text,\n",
    "    ) as response:\n",
    "        response.stream_to_file(speech_file_path+('.mp3' if not speech_file_path.endswith('.mp3') else ''))\n",
    "\n",
    "def getTextTimingsOfMp3(mp3file):\n",
    "    global client\n",
    "    client = OpenAI(api_key=os.environ.get('OPENAI_API_KEY_LORRAIN')) if client is None else client\n",
    "    \n",
    "    audio_file = open(mp3file, \"rb\")\n",
    "    transcript = client.audio.transcriptions.create(\n",
    "        file=audio_file,\n",
    "        model=\"whisper-1\",\n",
    "        response_format=\"verbose_json\",\n",
    "        timestamp_granularities=[\"word\"]\n",
    "    )\n",
    "\n",
    "    return transcript\n"
   ]
  },
  {
   "cell_type": "code",
   "execution_count": 82,
   "metadata": {},
   "outputs": [],
   "source": [
    "def onlychars(text):\n",
    "    return ''.join(c if c.isalnum() or c.isspace() else '' for c in text)\n",
    "\n",
    "def verify_transcription(original_text, transcription):\n",
    "    \"\"\"\n",
    "    Verifies that the text is the same after the tts and stt.\n",
    "\n",
    "    Args:\n",
    "    original_text (str): The original text.\n",
    "    transcription (dict): The transcription dictionary.\n",
    "\n",
    "    Returns:\n",
    "    int: ratio of the original text and the transcription text.\n",
    "    \"\"\"\n",
    "    \n",
    "    transcription_text = onlychars(transcription.text.lower())\n",
    "    original_text = onlychars(original_text.lower())\n",
    "    \n",
    "    print('original :\\n',original_text.replace('\\n', ' '))\n",
    "    print('transcription :\\n',transcription_text,'\\n')\n",
    "    \n",
    "    \n",
    "    if transcription_text == original_text:\n",
    "        return 1\n",
    "    \n",
    "    # correct_words = 0\n",
    "    for word in original_text.split():\n",
    "        # print(f'testing {word}')\n",
    "        len_before = len(transcription_text)\n",
    "        transcription_text = str(transcription_text).replace(word, '', 1)\n",
    "        len_after = len(transcription_text)\n",
    "        if(len_before == len_after):\n",
    "            print(f'word {word} not found')\n",
    "        # print(f'removed word ? {len_before - len_after}')\n",
    "#\n",
    "    print(len(original_text.split()), len(transcription_text.split()))\n",
    "    return 1 - len(transcription_text.split()) / len(original_text.split())\n"
   ]
  },
  {
   "cell_type": "code",
   "execution_count": 83,
   "metadata": {},
   "outputs": [
    {
     "name": "stderr",
     "output_type": "stream",
     "text": [
      "2024-07-03 16:33:01,107 - INFO - httpx - HTTP Request: POST https://api.openai.com/v1/audio/speech \"HTTP/1.1 200 OK\"\n",
      "2024-07-03 16:33:19,637 - INFO - httpx - HTTP Request: POST https://api.openai.com/v1/audio/transcriptions \"HTTP/1.1 200 OK\"\n"
     ]
    }
   ],
   "source": [
    "text_to_speech_mp3(song_description, 'audio_description')\n",
    "timing_description = getTextTimingsOfMp3('audio_description.mp3')"
   ]
  },
  {
   "cell_type": "code",
   "execution_count": 84,
   "metadata": {},
   "outputs": [
    {
     "name": "stdout",
     "output_type": "stream",
     "text": [
      "Transcription(text=\"Houdini is the lead single of Eminem's 12th studio album, The Death of Slim Shady, Coup De Grace. The track is named after Harry Houdini, a popular magician known for his death-defying stunts like the Chinese water torture cell, which Eminem replicates in the intro to his 1999 track, Role Model. With the return of longtime collaborator, Jeff Bass of the Bass Brothers, Eminem revisits his catchy albeit morbid sound of the early 2000s. This fanfare track sees him call back to his old catchphrases, such as Shady's iconic Guess Who's Back line from the 2002 track, Without Me. The song heavily samples and interpolates the Steve Miller band's 1982 track, Abracadabra. On October 24th, 1926, the legendary Houdini tragically passed away in Detroit, Michigan at the age of 52. Interestingly, Detroit is also the hometown of Eminem, who turns 52 in October 2024. The single was first teased by Eminem on May 20th, 2024, when he posted a teaser to his social media accounts with a text message from all contacts stating, and for my last trick. The text message also has the date of May 31st, sparking rumors of Eminem releasing music on that day. On May 28th, 2024, Eminem posted a video to Instagram of him on a FaceTime call with magician David Blaine. At the end of the video, he announced the release of Houdini on May 31st, then closed out by stating, for my last trick, I'm gonna make my career disappear, hinting at the death of Slim Shady, Coup De Grace being his final album.\", task='transcribe', language='english', duration=100.80000305175781, words=[{'word': 'Houdini', 'start': 0.0, 'end': 0.5}, {'word': 'is', 'start': 0.5, 'end': 1.0}, {'word': 'the', 'start': 1.0, 'end': 1.1399999856948853}, {'word': 'lead', 'start': 1.1399999856948853, 'end': 1.5199999809265137}, {'word': 'single', 'start': 1.5199999809265137, 'end': 1.7799999713897705}, {'word': 'of', 'start': 1.7799999713897705, 'end': 2.180000066757202}, {'word': \"Eminem's\", 'start': 2.180000066757202, 'end': 2.5399999618530273}, {'word': '12th', 'start': 2.5399999618530273, 'end': 3.0799999237060547}, {'word': 'studio', 'start': 3.0799999237060547, 'end': 3.440000057220459}, {'word': 'album', 'start': 3.440000057220459, 'end': 3.8399999141693115}, {'word': 'The', 'start': 4.159999847412109, 'end': 4.380000114440918}, {'word': 'Death', 'start': 4.380000114440918, 'end': 4.559999942779541}, {'word': 'of', 'start': 4.559999942779541, 'end': 4.800000190734863}, {'word': 'Slim', 'start': 4.800000190734863, 'end': 5.099999904632568}, {'word': 'Shady', 'start': 5.099999904632568, 'end': 5.380000114440918}, {'word': 'Coup', 'start': 5.820000171661377, 'end': 5.860000133514404}, {'word': 'De', 'start': 5.860000133514404, 'end': 6.019999980926514}, {'word': 'Grace', 'start': 6.019999980926514, 'end': 6.28000020980835}, {'word': 'The', 'start': 7.21999979019165, 'end': 7.340000152587891}, {'word': 'track', 'start': 7.340000152587891, 'end': 7.579999923706055}, {'word': 'is', 'start': 7.579999923706055, 'end': 7.920000076293945}, {'word': 'named', 'start': 7.920000076293945, 'end': 7.980000019073486}, {'word': 'after', 'start': 7.980000019073486, 'end': 8.239999771118164}, {'word': 'Harry', 'start': 8.239999771118164, 'end': 8.720000267028809}, {'word': 'Houdini', 'start': 8.720000267028809, 'end': 9.039999961853027}, {'word': 'a', 'start': 9.5600004196167, 'end': 9.779999732971191}, {'word': 'popular', 'start': 9.779999732971191, 'end': 10.039999961853027}, {'word': 'magician', 'start': 10.039999961853027, 'end': 10.539999961853027}, {'word': 'known', 'start': 10.539999961853027, 'end': 11.039999961853027}, {'word': 'for', 'start': 11.039999961853027, 'end': 11.279999732971191}, {'word': 'his', 'start': 11.279999732971191, 'end': 11.539999961853027}, {'word': 'death', 'start': 11.539999961853027, 'end': 11.739999771118164}, {'word': 'defying', 'start': 11.739999771118164, 'end': 12.140000343322754}, {'word': 'stunts', 'start': 12.140000343322754, 'end': 12.640000343322754}, {'word': 'like', 'start': 12.640000343322754, 'end': 13.020000457763672}, {'word': 'the', 'start': 13.020000457763672, 'end': 13.180000305175781}, {'word': 'Chinese', 'start': 13.180000305175781, 'end': 13.579999923706055}, {'word': 'water', 'start': 13.579999923706055, 'end': 13.880000114440918}, {'word': 'torture', 'start': 13.880000114440918, 'end': 14.140000343322754}, {'word': 'cell', 'start': 14.140000343322754, 'end': 14.600000381469727}, {'word': 'which', 'start': 15.100000381469727, 'end': 15.279999732971191}, {'word': 'Eminem', 'start': 15.279999732971191, 'end': 15.640000343322754}, {'word': 'replicates', 'start': 15.640000343322754, 'end': 16.1200008392334}, {'word': 'in', 'start': 16.1200008392334, 'end': 16.360000610351562}, {'word': 'the', 'start': 16.360000610351562, 'end': 16.739999771118164}, {'word': 'intro', 'start': 16.739999771118164, 'end': 16.739999771118164}, {'word': 'to', 'start': 16.739999771118164, 'end': 17.020000457763672}, {'word': 'his', 'start': 17.020000457763672, 'end': 17.360000610351562}, {'word': '1999', 'start': 17.360000610351562, 'end': 17.940000534057617}, {'word': 'track', 'start': 17.940000534057617, 'end': 18.440000534057617}, {'word': 'Role', 'start': 18.8799991607666, 'end': 19.260000228881836}, {'word': 'Model', 'start': 19.260000228881836, 'end': 19.280000686645508}, {'word': 'With', 'start': 20.1200008392334, 'end': 20.200000762939453}, {'word': 'the', 'start': 20.200000762939453, 'end': 20.65999984741211}, {'word': 'return', 'start': 20.65999984741211, 'end': 20.65999984741211}, {'word': 'of', 'start': 20.65999984741211, 'end': 20.8799991607666}, {'word': 'longtime', 'start': 20.8799991607666, 'end': 21.360000610351562}, {'word': 'collaborator', 'start': 21.360000610351562, 'end': 22.059999465942383}, {'word': 'Jeff', 'start': 22.260000228881836, 'end': 22.520000457763672}, {'word': 'Bass', 'start': 22.520000457763672, 'end': 22.780000686645508}, {'word': 'of', 'start': 22.780000686645508, 'end': 22.940000534057617}, {'word': 'the', 'start': 22.940000534057617, 'end': 23.260000228881836}, {'word': 'Bass', 'start': 23.260000228881836, 'end': 23.3799991607666}, {'word': 'Brothers', 'start': 23.3799991607666, 'end': 23.739999771118164}, {'word': 'Eminem', 'start': 24.520000457763672, 'end': 24.700000762939453}, {'word': 'revisits', 'start': 24.700000762939453, 'end': 25.079999923706055}, {'word': 'his', 'start': 25.079999923706055, 'end': 25.399999618530273}, {'word': 'catchy', 'start': 25.399999618530273, 'end': 25.65999984741211}, {'word': 'albeit', 'start': 25.65999984741211, 'end': 26.18000030517578}, {'word': 'morbid', 'start': 26.18000030517578, 'end': 26.579999923706055}, {'word': 'sound', 'start': 26.579999923706055, 'end': 26.940000534057617}, {'word': 'of', 'start': 26.940000534057617, 'end': 27.18000030517578}, {'word': 'the', 'start': 27.18000030517578, 'end': 27.34000015258789}, {'word': 'early', 'start': 27.34000015258789, 'end': 27.65999984741211}, {'word': '2000s', 'start': 27.65999984741211, 'end': 28.420000076293945}, {'word': 'This', 'start': 28.719999313354492, 'end': 29.440000534057617}, {'word': 'fanfare', 'start': 29.440000534057617, 'end': 30.0}, {'word': 'track', 'start': 30.0, 'end': 30.399999618530273}, {'word': 'sees', 'start': 30.399999618530273, 'end': 30.780000686645508}, {'word': 'him', 'start': 30.780000686645508, 'end': 30.940000534057617}, {'word': 'call', 'start': 30.940000534057617, 'end': 31.239999771118164}, {'word': 'back', 'start': 31.239999771118164, 'end': 31.520000457763672}, {'word': 'to', 'start': 31.520000457763672, 'end': 31.700000762939453}, {'word': 'his', 'start': 31.700000762939453, 'end': 31.84000015258789}, {'word': 'old', 'start': 31.84000015258789, 'end': 32.20000076293945}, {'word': 'catchphrases', 'start': 32.20000076293945, 'end': 32.939998626708984}, {'word': 'such', 'start': 33.560001373291016, 'end': 33.58000183105469}, {'word': 'as', 'start': 33.58000183105469, 'end': 34.040000915527344}, {'word': \"Shady's\", 'start': 34.040000915527344, 'end': 34.459999084472656}, {'word': 'iconic', 'start': 34.459999084472656, 'end': 34.81999969482422}, {'word': 'Guess', 'start': 34.81999969482422, 'end': 35.15999984741211}, {'word': \"Who's\", 'start': 35.15999984741211, 'end': 35.380001068115234}, {'word': 'Back', 'start': 35.380001068115234, 'end': 35.65999984741211}, {'word': 'line', 'start': 35.65999984741211, 'end': 36.13999938964844}, {'word': 'from', 'start': 36.13999938964844, 'end': 36.400001525878906}, {'word': 'the', 'start': 36.400001525878906, 'end': 36.540000915527344}, {'word': '2002', 'start': 36.540000915527344, 'end': 37.220001220703125}, {'word': 'track', 'start': 37.220001220703125, 'end': 37.599998474121094}, {'word': 'Without', 'start': 37.720001220703125, 'end': 37.939998626708984}, {'word': 'Me', 'start': 37.939998626708984, 'end': 38.2400016784668}, {'word': 'The', 'start': 38.779998779296875, 'end': 38.97999954223633}, {'word': 'song', 'start': 38.97999954223633, 'end': 39.20000076293945}, {'word': 'heavily', 'start': 39.20000076293945, 'end': 39.63999938964844}, {'word': 'samples', 'start': 39.63999938964844, 'end': 40.099998474121094}, {'word': 'and', 'start': 40.099998474121094, 'end': 40.599998474121094}, {'word': 'interpolates', 'start': 40.599998474121094, 'end': 41.099998474121094}, {'word': 'the', 'start': 41.099998474121094, 'end': 41.41999816894531}, {'word': 'Steve', 'start': 41.41999816894531, 'end': 41.68000030517578}, {'word': 'Miller', 'start': 41.68000030517578, 'end': 41.81999969482422}, {'word': \"band's\", 'start': 41.81999969482422, 'end': 42.41999816894531}, {'word': '1982', 'start': 42.41999816894531, 'end': 43.279998779296875}, {'word': 'track', 'start': 43.279998779296875, 'end': 43.86000061035156}, {'word': 'Abracadabra', 'start': 44.220001220703125, 'end': 44.779998779296875}, {'word': 'On', 'start': 45.34000015258789, 'end': 45.400001525878906}, {'word': 'October', 'start': 45.400001525878906, 'end': 45.70000076293945}, {'word': '24th', 'start': 45.70000076293945, 'end': 46.560001373291016}, {'word': '1926', 'start': 46.560001373291016, 'end': 47.5}, {'word': 'the', 'start': 48.0, 'end': 48.08000183105469}, {'word': 'legendary', 'start': 48.08000183105469, 'end': 48.560001373291016}, {'word': 'Houdini', 'start': 48.560001373291016, 'end': 49.040000915527344}, {'word': 'tragically', 'start': 49.040000915527344, 'end': 49.720001220703125}, {'word': 'passed', 'start': 49.720001220703125, 'end': 50.02000045776367}, {'word': 'away', 'start': 50.02000045776367, 'end': 50.34000015258789}, {'word': 'in', 'start': 50.34000015258789, 'end': 50.560001373291016}, {'word': 'Detroit', 'start': 50.560001373291016, 'end': 50.959999084472656}, {'word': 'Michigan', 'start': 51.560001373291016, 'end': 51.560001373291016}, {'word': 'at', 'start': 51.560001373291016, 'end': 51.84000015258789}, {'word': 'the', 'start': 51.84000015258789, 'end': 52.119998931884766}, {'word': 'age', 'start': 52.119998931884766, 'end': 52.119998931884766}, {'word': 'of', 'start': 52.119998931884766, 'end': 52.34000015258789}, {'word': '52', 'start': 52.34000015258789, 'end': 52.81999969482422}, {'word': 'Interestingly', 'start': 53.560001373291016, 'end': 54.02000045776367}, {'word': 'Detroit', 'start': 54.7400016784668, 'end': 54.7400016784668}, {'word': 'is', 'start': 54.7400016784668, 'end': 54.939998626708984}, {'word': 'also', 'start': 54.939998626708984, 'end': 55.279998779296875}, {'word': 'the', 'start': 55.279998779296875, 'end': 55.459999084472656}, {'word': 'hometown', 'start': 55.459999084472656, 'end': 55.720001220703125}, {'word': 'of', 'start': 55.720001220703125, 'end': 56.02000045776367}, {'word': 'Eminem', 'start': 56.02000045776367, 'end': 56.34000015258789}, {'word': 'who', 'start': 56.34000015258789, 'end': 56.7400016784668}, {'word': 'turns', 'start': 56.7400016784668, 'end': 57.0}, {'word': '52', 'start': 57.0, 'end': 57.65999984741211}, {'word': 'in', 'start': 57.65999984741211, 'end': 58.02000045776367}, {'word': 'October', 'start': 58.02000045776367, 'end': 58.41999816894531}, {'word': '2024', 'start': 58.41999816894531, 'end': 59.439998626708984}, {'word': 'The', 'start': 60.36000061035156, 'end': 60.400001525878906}, {'word': 'single', 'start': 60.400001525878906, 'end': 60.65999984741211}, {'word': 'was', 'start': 60.65999984741211, 'end': 60.86000061035156}, {'word': 'first', 'start': 60.86000061035156, 'end': 61.459999084472656}, {'word': 'teased', 'start': 61.459999084472656, 'end': 61.459999084472656}, {'word': 'by', 'start': 61.459999084472656, 'end': 61.779998779296875}, {'word': 'Eminem', 'start': 61.779998779296875, 'end': 62.060001373291016}, {'word': 'on', 'start': 62.060001373291016, 'end': 62.2599983215332}, {'word': 'May', 'start': 62.2599983215332, 'end': 62.439998626708984}, {'word': '20th', 'start': 62.439998626708984, 'end': 63.220001220703125}, {'word': '2024', 'start': 63.220001220703125, 'end': 63.939998626708984}, {'word': 'when', 'start': 64.18000030517578, 'end': 64.27999877929688}, {'word': 'he', 'start': 64.27999877929688, 'end': 64.72000122070312}, {'word': 'posted', 'start': 64.72000122070312, 'end': 64.72000122070312}, {'word': 'a', 'start': 64.72000122070312, 'end': 65.22000122070312}, {'word': 'teaser', 'start': 65.22000122070312, 'end': 65.22000122070312}, {'word': 'to', 'start': 65.22000122070312, 'end': 65.45999908447266}, {'word': 'his', 'start': 65.45999908447266, 'end': 65.68000030517578}, {'word': 'social', 'start': 65.68000030517578, 'end': 65.95999908447266}, {'word': 'media', 'start': 65.95999908447266, 'end': 66.33999633789062}, {'word': 'accounts', 'start': 66.33999633789062, 'end': 66.73999786376953}, {'word': 'with', 'start': 66.73999786376953, 'end': 66.95999908447266}, {'word': 'a', 'start': 66.95999908447266, 'end': 67.26000213623047}, {'word': 'text', 'start': 67.26000213623047, 'end': 67.4000015258789}, {'word': 'message', 'start': 67.4000015258789, 'end': 67.72000122070312}, {'word': 'from', 'start': 67.72000122070312, 'end': 67.9800033569336}, {'word': 'all', 'start': 67.9800033569336, 'end': 68.5199966430664}, {'word': 'contacts', 'start': 68.5199966430664, 'end': 69.05999755859375}, {'word': 'stating', 'start': 69.05999755859375, 'end': 69.54000091552734}, {'word': 'and', 'start': 69.9800033569336, 'end': 70.0199966430664}, {'word': 'for', 'start': 70.0199966430664, 'end': 70.19999694824219}, {'word': 'my', 'start': 70.19999694824219, 'end': 70.4000015258789}, {'word': 'last', 'start': 70.4000015258789, 'end': 70.72000122070312}, {'word': 'trick', 'start': 70.72000122070312, 'end': 71.08000183105469}, {'word': 'The', 'start': 71.81999969482422, 'end': 71.9800033569336}, {'word': 'text', 'start': 71.9800033569336, 'end': 72.27999877929688}, {'word': 'message', 'start': 72.27999877929688, 'end': 72.5199966430664}, {'word': 'also', 'start': 72.5199966430664, 'end': 72.94000244140625}, {'word': 'has', 'start': 72.94000244140625, 'end': 73.13999938964844}, {'word': 'the', 'start': 73.13999938964844, 'end': 73.44000244140625}, {'word': 'date', 'start': 73.44000244140625, 'end': 73.4800033569336}, {'word': 'of', 'start': 73.4800033569336, 'end': 73.69999694824219}, {'word': 'May', 'start': 73.69999694824219, 'end': 73.80000305175781}, {'word': '31st', 'start': 73.80000305175781, 'end': 74.9000015258789}, {'word': 'sparking', 'start': 74.9800033569336, 'end': 75.36000061035156}, {'word': 'rumors', 'start': 75.36000061035156, 'end': 75.62000274658203}, {'word': 'of', 'start': 75.62000274658203, 'end': 75.9800033569336}, {'word': 'Eminem', 'start': 75.9800033569336, 'end': 76.22000122070312}, {'word': 'releasing', 'start': 76.22000122070312, 'end': 76.55999755859375}, {'word': 'music', 'start': 76.55999755859375, 'end': 76.91999816894531}, {'word': 'on', 'start': 76.91999816894531, 'end': 77.19999694824219}, {'word': 'that', 'start': 77.19999694824219, 'end': 77.37999725341797}, {'word': 'day', 'start': 77.37999725341797, 'end': 77.69999694824219}, {'word': 'On', 'start': 77.81999969482422, 'end': 78.54000091552734}, {'word': 'May', 'start': 78.54000091552734, 'end': 78.68000030517578}, {'word': '28th', 'start': 78.68000030517578, 'end': 79.68000030517578}, {'word': '2024', 'start': 79.72000122070312, 'end': 80.33999633789062}, {'word': 'Eminem', 'start': 80.86000061035156, 'end': 81.0199966430664}, {'word': 'posted', 'start': 81.0199966430664, 'end': 81.27999877929688}, {'word': 'a', 'start': 81.27999877929688, 'end': 81.5}, {'word': 'video', 'start': 81.5, 'end': 81.69999694824219}, {'word': 'to', 'start': 81.69999694824219, 'end': 82.0}, {'word': 'Instagram', 'start': 82.0, 'end': 82.31999969482422}, {'word': 'of', 'start': 82.31999969482422, 'end': 82.73999786376953}, {'word': 'him', 'start': 82.73999786376953, 'end': 82.73999786376953}, {'word': 'on', 'start': 82.73999786376953, 'end': 82.9000015258789}, {'word': 'a', 'start': 82.9000015258789, 'end': 83.05999755859375}, {'word': 'FaceTime', 'start': 83.05999755859375, 'end': 83.5}, {'word': 'call', 'start': 83.5, 'end': 83.86000061035156}, {'word': 'with', 'start': 83.86000061035156, 'end': 84.41999816894531}, {'word': 'magician', 'start': 84.41999816894531, 'end': 84.83999633789062}, {'word': 'David', 'start': 84.83999633789062, 'end': 85.26000213623047}, {'word': 'Blaine', 'start': 85.26000213623047, 'end': 85.55999755859375}, {'word': 'At', 'start': 85.86000061035156, 'end': 86.4000015258789}, {'word': 'the', 'start': 86.4000015258789, 'end': 86.5999984741211}, {'word': 'end', 'start': 86.5999984741211, 'end': 86.72000122070312}, {'word': 'of', 'start': 86.72000122070312, 'end': 86.87999725341797}, {'word': 'the', 'start': 86.87999725341797, 'end': 87.0}, {'word': 'video', 'start': 87.0, 'end': 87.30000305175781}, {'word': 'he', 'start': 87.69999694824219, 'end': 87.69999694824219}, {'word': 'announced', 'start': 87.69999694824219, 'end': 88.05999755859375}, {'word': 'the', 'start': 88.05999755859375, 'end': 88.22000122070312}, {'word': 'release', 'start': 88.22000122070312, 'end': 88.63999938964844}, {'word': 'of', 'start': 88.63999938964844, 'end': 89.19999694824219}, {'word': 'Houdini', 'start': 89.19999694824219, 'end': 89.68000030517578}, {'word': 'on', 'start': 89.68000030517578, 'end': 90.0199966430664}, {'word': 'May', 'start': 90.0199966430664, 'end': 90.18000030517578}, {'word': '31st', 'start': 90.18000030517578, 'end': 91.4800033569336}, {'word': 'then', 'start': 91.4800033569336, 'end': 91.62000274658203}, {'word': 'closed', 'start': 91.62000274658203, 'end': 91.9000015258789}, {'word': 'out', 'start': 91.9000015258789, 'end': 92.30000305175781}, {'word': 'by', 'start': 92.30000305175781, 'end': 92.54000091552734}, {'word': 'stating', 'start': 92.54000091552734, 'end': 92.83999633789062}, {'word': 'for', 'start': 93.0999984741211, 'end': 93.0999984741211}, {'word': 'my', 'start': 93.0999984741211, 'end': 93.31999969482422}, {'word': 'last', 'start': 93.31999969482422, 'end': 93.5999984741211}, {'word': 'trick', 'start': 93.5999984741211, 'end': 93.87999725341797}, {'word': \"I'm\", 'start': 94.0999984741211, 'end': 94.22000122070312}, {'word': 'gonna', 'start': 94.22000122070312, 'end': 94.36000061035156}, {'word': 'make', 'start': 94.36000061035156, 'end': 94.54000091552734}, {'word': 'my', 'start': 94.54000091552734, 'end': 94.83999633789062}, {'word': 'career', 'start': 94.83999633789062, 'end': 95.05999755859375}, {'word': 'disappear', 'start': 95.05999755859375, 'end': 95.5999984741211}, {'word': 'hinting', 'start': 96.08000183105469, 'end': 96.13999938964844}, {'word': 'at', 'start': 96.13999938964844, 'end': 96.31999969482422}, {'word': 'the', 'start': 96.31999969482422, 'end': 96.63999938964844}, {'word': 'death', 'start': 96.63999938964844, 'end': 96.66000366210938}, {'word': 'of', 'start': 96.66000366210938, 'end': 96.94000244140625}, {'word': 'Slim', 'start': 96.94000244140625, 'end': 97.16000366210938}, {'word': 'Shady', 'start': 97.16000366210938, 'end': 97.4800033569336}, {'word': 'Coup', 'start': 97.94000244140625, 'end': 97.95999908447266}, {'word': 'De', 'start': 97.95999908447266, 'end': 98.08000183105469}, {'word': 'Grace', 'start': 98.08000183105469, 'end': 98.23999786376953}, {'word': 'being', 'start': 98.23999786376953, 'end': 98.63999938964844}, {'word': 'his', 'start': 98.63999938964844, 'end': 98.86000061035156}, {'word': 'final', 'start': 98.86000061035156, 'end': 99.16000366210938}, {'word': 'album', 'start': 99.16000366210938, 'end': 99.44000244140625}])\n",
      "original :\n",
      " houdini is the lead single of eminems twelfth studio album the death of slim shady coup de grâce the track is named after harry houdini a popular magician known for his deathdefying stunts like the chinese water torture cell which eminem replicates in the intro to his 1999 track role model with the return of longtime collaborator jeff bass of the bass brothers eminem revisits his catchy albeit morbid sound of the early 2000s this fanfare track sees him callback to his old catchphrases such as shadys iconic guess whos back line from the 2002 track without me the song heavily samples and interpolates the steve miller bands 1982 track abracadabra on october 24 1926 the legendary houdini tragically passed away in detroit michigan at the age of 52 interestingly detroit is also the hometown of eminem who turns 52 in october 2024 the single was first teased by eminem on may 20 2024 when he posted a teaser to his social media accounts with a text message from all contacts stating and for my last trick the text message also has the date of may 31 sparking rumors of eminem releasing music on that day on may 28 2024 eminem posted a video to instagram of him on a facetime call with magician david blaine at the end of the video he announced the release of houdini on may 31 then closed out by stating for my last trick im gonna make my career disappear hinting at the death of slim shady coup de grâce being his final album\n",
      "transcription :\n",
      " houdini is the lead single of eminems 12th studio album the death of slim shady coup de grace the track is named after harry houdini a popular magician known for his deathdefying stunts like the chinese water torture cell which eminem replicates in the intro to his 1999 track role model with the return of longtime collaborator jeff bass of the bass brothers eminem revisits his catchy albeit morbid sound of the early 2000s this fanfare track sees him call back to his old catchphrases such as shadys iconic guess whos back line from the 2002 track without me the song heavily samples and interpolates the steve miller bands 1982 track abracadabra on october 24th 1926 the legendary houdini tragically passed away in detroit michigan at the age of 52 interestingly detroit is also the hometown of eminem who turns 52 in october 2024 the single was first teased by eminem on may 20th 2024 when he posted a teaser to his social media accounts with a text message from all contacts stating and for my last trick the text message also has the date of may 31st sparking rumors of eminem releasing music on that day on may 28th 2024 eminem posted a video to instagram of him on a facetime call with magician david blaine at the end of the video he announced the release of houdini on may 31st then closed out by stating for my last trick im gonna make my career disappear hinting at the death of slim shady coup de grace being his final album \n",
      "\n",
      "word twelfth not found\n",
      "word grâce not found\n",
      "word callback not found\n",
      "word grâce not found\n",
      "260 13\n",
      "95.0 %\n"
     ]
    }
   ],
   "source": [
    "print(timing_description)\n",
    "print(verify_transcription(song_description, timing_description) * 100, \"%\")\n",
    "\n",
    "onlychars_text = onlychars(timing_description.text)\n",
    "final_text = timing_description.text"
   ]
  },
  {
   "cell_type": "markdown",
   "metadata": {},
   "source": [
    "## Find pictures"
   ]
  },
  {
   "cell_type": "markdown",
   "metadata": {},
   "source": [
    "### Find picture descrition\n",
    "The idea I came up with is to ask a LLM (mistral in my case) to find some nice moments in the description of the song"
   ]
  },
  {
   "cell_type": "code",
   "execution_count": 85,
   "metadata": {},
   "outputs": [],
   "source": [
    "import os\n",
    "from mistralai.client import MistralClient\n",
    "from mistralai.models.chat_completion import ChatMessage\n",
    "\n",
    "def get_description_pictures(story):\n",
    "    api_key = os.environ[\"MISTRAL_API_KEY\"]\n",
    "    model = \"open-mistral-7b\"\n",
    "\n",
    "    client = MistralClient(api_key=api_key)\n",
    "\n",
    "    preprompt = \"\"\"Your job will be to write the visual of a tiktok video: the images that show on screen. You have to find some nice moments in the story to place pictures that will show on screen. Tell me when you choose an image of what. In this format:\n",
    "    DURING THE SENTENCE \"[place the full sentence here]\", SHOW AN IMAGE OF \"[place the description of the image]\".\n",
    "    Answer only with the descriptions of all the images. \n",
    "    Try to understand the story and which words are important to show visually. for example if you want to show an album cover, try to give the name of the album and the artist. If you want to show a person, don't try to give the name of the person, but just the description of what they are doing because is very unlikely I'll be able to find this exact person doing this exact action.\n",
    "    Please chose the most images as possible (dont be shy ;)) and if a sentence needs more than one image, you can split the sentence in two or more parts.\n",
    "    But NEVER give two descriptions for the same sentence.  \n",
    "    Try not to give a description, but key words because i will look online for the exact same words you describe. That means if you are too complex, i will not be able to find the image.\n",
    "    Don't forget that the context will not be given to the website where I will find the images, that means if the description is too vague, I will not be able to find the image.\n",
    "    Try to kep the descriptions short and concise.\n",
    "    Before I give you an example, there is one last important thing : You need to choose a lot of moments, because the images will be shown for a short time, so you need to have a lot of images to show the whole story.\n",
    "    \n",
    "    ----------------\n",
    "    For example:\n",
    "    \n",
    "    STORY : \"Eonis, a wise and patient god, was intrigued by a Rubik's Cube he saw a human child playing with. He materialized one and began to solve it, but found it surprisingly challenging. Despite his divine knowledge, it took him months in the celestial realm to finally align the last color.\"\n",
    "    \n",
    "    DURING THE SENTENCE \"Eonis, a wise and patient god\", SHOW AN IMAGE OF \"a god\".\n",
    "    DURING THE SENTENCE \"was intrigued by a Rubik's Cube he saw a human child playing with\", SHOW AN IMAGE OF \"a rubik's cube\".\n",
    "    DURING THE SENTENCE \"He materialized one and began to solve it\", SHOW AN IMAGE OF \"a person solving a rubik's cube\".\n",
    "    DURING THE SENTENCE \"but found it surprisingly challenging\", SHOW AN IMAGE OF \"someone thinking very hard\".\n",
    "    DURING THE SENTENCE \"Despite his divine knowledge, it took him months\", SHOW AN IMAGE OF \"a hourglass\".\n",
    "    DURING THE SENTENCE \"in the celestial realm to finally align the last color\", SHOW AN IMAGE OF \"a solved rubiks cube\".\n",
    "    ----------------\n",
    "    \n",
    "    Now it is your turn:\n",
    "\n",
    "    STORY : \"\"\"\n",
    "\n",
    "    messages = [\n",
    "        ChatMessage(role=\"user\", content=preprompt + f'\"{story}\"'),\n",
    "    ]\n",
    "\n",
    "    chat_response = client.chat(\n",
    "        model=model,\n",
    "        messages=messages,\n",
    "    )\n",
    "\n",
    "    results = chat_response.choices[0].message.content\n",
    "\n",
    "    return results.split(\"\\n\\n\")\n",
    "\n",
    "def convert_to_dict(lines):\n",
    "    visual_dict = {}\n",
    "    for line in lines:\n",
    "        print(line)\n",
    "        if line:\n",
    "            sentence, image_desc = line.split(', SHOW AN IMAGE OF ', 1)\n",
    "            image_desc = image_desc.replace('\"', '')\n",
    "            sentence = sentence.split(' THE SENTENCE ')[1]\n",
    "            sentence = str(sentence).replace('\"', '', 2)\n",
    "            visual_dict[sentence] = image_desc\n",
    "    return visual_dict\n",
    "\n",
    "def get_pictures(story):\n",
    "    return convert_to_dict(get_description_pictures(story))\n"
   ]
  },
  {
   "cell_type": "code",
   "execution_count": 86,
   "metadata": {},
   "outputs": [
    {
     "name": "stdout",
     "output_type": "stream",
     "text": [
      "Houdini is the lead single of Eminems 12th studio album The Death of Slim Shady Coup De Grace The track is named after Harry Houdini a popular magician known for his deathdefying stunts like the Chinese water torture cell which Eminem replicates in the intro to his 1999 track Role Model With the return of longtime collaborator Jeff Bass of the Bass Brothers Eminem revisits his catchy albeit morbid sound of the early 2000s This fanfare track sees him call back to his old catchphrases such as Shadys iconic Guess Whos Back line from the 2002 track Without Me The song heavily samples and interpolates the Steve Miller bands 1982 track Abracadabra On October 24th 1926 the legendary Houdini tragically passed away in Detroit Michigan at the age of 52 Interestingly Detroit is also the hometown of Eminem who turns 52 in October 2024 The single was first teased by Eminem on May 20th 2024 when he posted a teaser to his social media accounts with a text message from all contacts stating and for my last trick The text message also has the date of May 31st sparking rumors of Eminem releasing music on that day On May 28th 2024 Eminem posted a video to Instagram of him on a FaceTime call with magician David Blaine At the end of the video he announced the release of Houdini on May 31st then closed out by stating for my last trick Im gonna make my career disappear hinting at the death of Slim Shady Coup De Grace being his final album\n"
     ]
    },
    {
     "name": "stderr",
     "output_type": "stream",
     "text": [
      "2024-07-03 16:33:26,665 - INFO - httpx - HTTP Request: POST https://api.mistral.ai/v1/chat/completions \"HTTP/1.1 200 OK\"\n"
     ]
    },
    {
     "name": "stdout",
     "output_type": "stream",
     "text": [
      "DURING THE SENTENCE \"Houdini is the lead single of Eminems 12th studio album The Death of Slim Shady Coup De Grace\", SHOW AN IMAGE OF \"Eminem album cover\".\n",
      "DURING THE SENTENCE \"The track is named after Harry Houdini\", SHOW AN IMAGE OF \"Harry Houdini\".\n",
      "DURING THE SENTENCE \"a popular magician known for his death-defying stunts like the Chinese water torture cell\", SHOW AN IMAGE OF \"Chinese water torture cell\".\n",
      "DURING THE SENTENCE \"Eminem replicates in the intro to his 1999 track Role Model\", SHOW AN IMAGE OF \"Role Model intro\".\n",
      "DURING THE SENTENCE \"With the return of longtime collaborator Jeff Bass of the Bass Brothers\", SHOW AN IMAGE OF \"Jeff Bass and the Bass Brothers\".\n",
      "DURING THE SENTENCE \"Eminem revisits his catchy albeit morbid sound of the early 2000s\", SHOW AN IMAGE OF \"Eminem performing in the early 2000s\".\n",
      "DURING THE SENTENCE \"This fanfare track sees him call back to his old catchphrases such as Shadys iconic Guess Whos Back line\", SHOW AN IMAGE OF \"Guess Whos Back lyrics\".\n",
      "DURING THE SENTENCE \"The song heavily samples and interpolates the Steve Miller bands 1982 track Abracadabra\", SHOW AN IMAGE OF \"Abracadabra album cover\".\n",
      "DURING THE SENTENCE \"On October 24th 1926 the legendary Houdini tragically passed away in Detroit Michigan at the age of 52\", SHOW AN IMAGE OF \"Houdini's death scene\".\n",
      "DURING THE SENTENCE \"Interestingly Detroit is also the hometown of Eminem who turns 52 in October 2024\", SHOW AN IMAGE OF \"Detroit skyline\".\n",
      "DURING THE SENTENCE \"The single was first teased by Eminem on May 20th 2024\", SHOW AN IMAGE OF \"Eminem teaser post\".\n",
      "DURING THE SENTENCE \"when he posted a teaser to his social media accounts with a text message from all contacts stating and for my last trick\", SHOW AN IMAGE OF \"Eminem's text message teaser\".\n",
      "DURING THE SENTENCE \"The text message also has the date of May 31st sparking rumors of Eminem releasing music on that day\", SHOW AN IMAGE OF \"May 31st date\".\n",
      "DURING THE SENTENCE \"On May 28th 2024 Eminem posted a video to Instagram of him on a FaceTime call with magician David Blaine\", SHOW AN IMAGE OF \"Eminem and David Blaine on FaceTime\".\n",
      "DURING THE SENTENCE \"At the end of the video he announced the release of Houdini on May 31st then closed out by stating for my last trick Im gonna make my career disappear hinting at the death of Slim Shady Coup De Grace being his final album\", SHOW AN IMAGE OF \"Eminem and David Blaine announcement video\".\n",
      "{'Houdini is the lead single of Eminems 12th studio album The Death of Slim Shady Coup De Grace': 'Eminem album cover.', 'The track is named after Harry Houdini': 'Harry Houdini.', 'a popular magician known for his death-defying stunts like the Chinese water torture cell': 'Chinese water torture cell.', 'Eminem replicates in the intro to his 1999 track Role Model': 'Role Model intro.', 'With the return of longtime collaborator Jeff Bass of the Bass Brothers': 'Jeff Bass and the Bass Brothers.', 'Eminem revisits his catchy albeit morbid sound of the early 2000s': 'Eminem performing in the early 2000s.', 'This fanfare track sees him call back to his old catchphrases such as Shadys iconic Guess Whos Back line': 'Guess Whos Back lyrics.', 'The song heavily samples and interpolates the Steve Miller bands 1982 track Abracadabra': 'Abracadabra album cover.', 'On October 24th 1926 the legendary Houdini tragically passed away in Detroit Michigan at the age of 52': \"Houdini's death scene.\", 'Interestingly Detroit is also the hometown of Eminem who turns 52 in October 2024': 'Detroit skyline.', 'The single was first teased by Eminem on May 20th 2024': 'Eminem teaser post.', 'when he posted a teaser to his social media accounts with a text message from all contacts stating and for my last trick': \"Eminem's text message teaser.\", 'The text message also has the date of May 31st sparking rumors of Eminem releasing music on that day': 'May 31st date.', 'On May 28th 2024 Eminem posted a video to Instagram of him on a FaceTime call with magician David Blaine': 'Eminem and David Blaine on FaceTime.', 'At the end of the video he announced the release of Houdini on May 31st then closed out by stating for my last trick Im gonna make my career disappear hinting at the death of Slim Shady Coup De Grace being his final album': 'Eminem and David Blaine announcement video.'}\n"
     ]
    }
   ],
   "source": [
    "print(onlychars_text)\n",
    "descriptions = get_pictures(onlychars_text)\n",
    "print(descriptions)"
   ]
  },
  {
   "cell_type": "markdown",
   "metadata": {},
   "source": [
    "### Generate or Find picture"
   ]
  },
  {
   "cell_type": "code",
   "execution_count": 100,
   "metadata": {},
   "outputs": [],
   "source": [
    "from icrawler.builtin import GoogleImageCrawler\n",
    "\n",
    "def remove_special_chars(text):\n",
    "    return ''.join(e for e in text.replace(' ', '_') if e.isalnum() and not e == '_')\n",
    "\n",
    "def dl_images(keywords, path, input_names = False, max_num = 2):\n",
    "    for i, keyword in enumerate(keywords):\n",
    "        try:\n",
    "            print(f'Downloading images for {keyword}')\n",
    "            current_path = os.path.join(path, (remove_special_chars(keyword) if input_names else str(i).zfill(3)))\n",
    "            google_Crawler = GoogleImageCrawler(storage = {'root_dir': current_path})\n",
    "            google_Crawler.crawl(keyword = keyword, max_num = max_num, file_idx_offset = 0)\n",
    "        except Exception as e:\n",
    "            print(f'Error while downloading images for {keyword} : error {e}')\n",
    "# dl_images(['Houdini', 'Eminem'], 'images/tests', max_num=3)"
   ]
  },
  {
   "cell_type": "code",
   "execution_count": 101,
   "metadata": {},
   "outputs": [
    {
     "name": "stderr",
     "output_type": "stream",
     "text": [
      "2024-07-03 16:44:53,714 - INFO - icrawler.crawler - start crawling...\n",
      "2024-07-03 16:44:53,714 - INFO - icrawler.crawler - starting 1 feeder threads...\n",
      "2024-07-03 16:44:53,716 - INFO - feeder - thread feeder-001 exit\n",
      "2024-07-03 16:44:53,718 - INFO - icrawler.crawler - starting 1 parser threads...\n",
      "2024-07-03 16:44:53,720 - INFO - icrawler.crawler - starting 1 downloader threads...\n"
     ]
    },
    {
     "name": "stdout",
     "output_type": "stream",
     "text": [
      "Downloading images for Eminem album cover.\n"
     ]
    },
    {
     "name": "stderr",
     "output_type": "stream",
     "text": [
      "2024-07-03 16:44:54,488 - INFO - parser - parsing result page https://www.google.com/search?q=Eminem+album+cover.&ijn=0&start=0&tbs=&tbm=isch\n",
      "2024-07-03 16:44:54,617 - INFO - downloader - image #1\thttps://m.media-amazon.com/images/I/71n0xmxpw7L._UF1000,1000_QL80_.jpg\n",
      "2024-07-03 16:44:54,705 - INFO - downloader - image #2\thttps://cdns-images.dzcdn.net/images/cover/d6e14fe8e855c20db60b31a7b42eb007/1900x1900-000000-80-0-0.jpg\n",
      "2024-07-03 16:44:55,167 - INFO - downloader - image #3\thttps://upload.wikimedia.org/wikipedia/en/8/80/Eminem_-_Music_to_Be_Murdered_By.png\n",
      "2024-07-03 16:44:55,250 - INFO - downloader - image #4\thttps://i.redd.it/kzffnw0xzamb1.jpg\n",
      "2024-07-03 16:44:55,323 - INFO - downloader - image #5\thttps://i.ebayimg.com/images/g/Jn4AAOSwfaxlRPv1/s-l1600.jpg\n",
      "2024-07-03 16:44:55,432 - INFO - downloader - downloaded images reach max num, thread downloader-001 is ready to exit\n",
      "2024-07-03 16:44:55,433 - INFO - downloader - thread downloader-001 exit\n",
      "2024-07-03 16:44:55,723 - INFO - icrawler.crawler - Crawling task done!\n",
      "2024-07-03 16:44:55,724 - INFO - icrawler.crawler - start crawling...\n",
      "2024-07-03 16:44:55,725 - INFO - icrawler.crawler - starting 1 feeder threads...\n",
      "2024-07-03 16:44:55,726 - INFO - feeder - thread feeder-001 exit\n",
      "2024-07-03 16:44:55,727 - INFO - icrawler.crawler - starting 1 parser threads...\n",
      "2024-07-03 16:44:55,729 - INFO - icrawler.crawler - starting 1 downloader threads...\n"
     ]
    },
    {
     "name": "stdout",
     "output_type": "stream",
     "text": [
      "Downloading images for Harry Houdini.\n"
     ]
    },
    {
     "name": "stderr",
     "output_type": "stream",
     "text": [
      "2024-07-03 16:44:56,284 - INFO - parser - parsing result page https://www.google.com/search?q=Harry+Houdini.&ijn=0&start=0&tbs=&tbm=isch\n",
      "2024-07-03 16:44:56,331 - INFO - parser - downloaded image reached max num, thread parser-001 is ready to exit\n",
      "2024-07-03 16:44:56,340 - INFO - parser - thread parser-001 exit\n",
      "2024-07-03 16:44:56,471 - INFO - downloader - image #1\thttps://medias.histoire-et-civilisations.com/api/v1/images/view/64f5e1aca134cf051010a6dd/width_1000/image.jpg\n",
      "2024-07-03 16:44:57,111 - INFO - downloader - image #2\thttps://upload.wikimedia.org/wikipedia/commons/3/36/Harry_Houdini.png\n",
      "2024-07-03 16:44:57,206 - ERROR - downloader - Response status code 404, file https://upload.wikimedia.org/wikipedia/commons/thumb/d/db/Harry_Houdini_jumps_from_Harvard_Bridge%2C_Boston%2C_Massachusetts%2C_1908_-_John_H._Thurston%2C_stereopticons_LCCN2015650990_-_restoration.jpg\n",
      "2024-07-03 16:44:57,266 - INFO - downloader - image #3\thttps://static.wixstatic.com/media/fc6f03_c3261661618c46aa92935f5b411b7af1~mv2.jpg\n",
      "2024-07-03 16:44:57,320 - INFO - downloader - image #4\thttps://m.media-amazon.com/images/I/61W5Q02DlHL._AC_UF1000,1000_QL80_.jpg\n",
      "2024-07-03 16:44:57,373 - INFO - downloader - image #5\thttps://cdn.britannica.com/70/126770-050-508A400A/Harry-Houdini-1905.jpg\n",
      "2024-07-03 16:44:57,459 - INFO - downloader - downloaded images reach max num, thread downloader-001 is ready to exit\n",
      "2024-07-03 16:44:57,460 - INFO - downloader - thread downloader-001 exit\n",
      "2024-07-03 16:44:57,732 - INFO - icrawler.crawler - Crawling task done!\n",
      "2024-07-03 16:44:57,732 - INFO - icrawler.crawler - start crawling...\n",
      "2024-07-03 16:44:57,733 - INFO - icrawler.crawler - starting 1 feeder threads...\n",
      "2024-07-03 16:44:57,734 - INFO - feeder - thread feeder-001 exit\n",
      "2024-07-03 16:44:57,745 - INFO - icrawler.crawler - starting 1 parser threads...\n",
      "2024-07-03 16:44:57,747 - INFO - icrawler.crawler - starting 1 downloader threads...\n"
     ]
    },
    {
     "name": "stdout",
     "output_type": "stream",
     "text": [
      "Downloading images for Chinese water torture cell.\n"
     ]
    },
    {
     "name": "stderr",
     "output_type": "stream",
     "text": [
      "2024-07-03 16:44:58,292 - INFO - parser - parsing result page https://www.google.com/search?q=Chinese+water+torture+cell.&ijn=0&start=0&tbs=&tbm=isch\n",
      "2024-07-03 16:44:58,375 - INFO - parser - downloaded image reached max num, thread parser-001 is ready to exit\n",
      "2024-07-03 16:44:58,376 - INFO - parser - thread parser-001 exit\n",
      "2024-07-03 16:44:58,919 - INFO - downloader - image #1\thttps://upload.wikimedia.org/wikipedia/commons/e/e8/Houdini_performing_Water_Torture_Cell.jpg\n",
      "2024-07-03 16:44:59,990 - INFO - downloader - image #2\thttp://www.geniimagazine.com/wiki/images/2/2e/WaterTortureCell.png\n",
      "2024-07-03 16:45:00,409 - INFO - downloader - image #3\thttps://blogger.googleusercontent.com/img/b/R29vZ2xl/AVvXsEhN_bm8otwoB78EB3jpiWJdheUPqpXaM1m1nKuJqh6ysTggFhGdsPU4264Wi0xVWxenzAKwGHgzxOWDhqa8L_US7cwKf57SlHzaZ8icrOtrkNNihc-xW34e85ggV1Pp5rprYQQF8GfW_F4/s1600/usd_chinese.jpg\n",
      "2024-07-03 16:45:00,449 - INFO - downloader - image #4\thttps://c8.alamy.com/compfr/t9jx66/harry-houdini-la-torture-de-l-eau-cellule-musee-collection-privee-auteur-anonyme-t9jx66.jpg\n",
      "2024-07-03 16:45:00,640 - INFO - downloader - image #5\thttps://upload.wikimedia.org/wikipedia/commons/b/b8/SingSing_torture_1860.png\n",
      "2024-07-03 16:45:00,743 - INFO - downloader - downloaded images reach max num, thread downloader-001 is ready to exit\n",
      "2024-07-03 16:45:00,744 - INFO - downloader - thread downloader-001 exit\n",
      "2024-07-03 16:45:00,751 - INFO - icrawler.crawler - Crawling task done!\n",
      "2024-07-03 16:45:00,751 - INFO - icrawler.crawler - start crawling...\n",
      "2024-07-03 16:45:00,752 - INFO - icrawler.crawler - starting 1 feeder threads...\n",
      "2024-07-03 16:45:00,753 - INFO - feeder - thread feeder-001 exit\n",
      "2024-07-03 16:45:00,754 - INFO - icrawler.crawler - starting 1 parser threads...\n",
      "2024-07-03 16:45:00,757 - INFO - icrawler.crawler - starting 1 downloader threads...\n",
      "2024-07-03 16:45:00,933 - INFO - parser - downloaded image reached max num, thread parser-001 is ready to exit\n",
      "2024-07-03 16:45:00,933 - INFO - parser - thread parser-001 exit\n"
     ]
    },
    {
     "name": "stdout",
     "output_type": "stream",
     "text": [
      "Downloading images for Role Model intro.\n"
     ]
    },
    {
     "name": "stderr",
     "output_type": "stream",
     "text": [
      "2024-07-03 16:45:01,621 - INFO - parser - parsing result page https://www.google.com/search?q=Role+Model+intro.&ijn=0&start=0&tbs=&tbm=isch\n",
      "2024-07-03 16:45:01,716 - INFO - downloader - image #1\thttps://image.slidesharecdn.com/rolemodel-150411091713-conversion-gate01/85/Role-model-2-320.jpg\n",
      "2024-07-03 16:45:01,770 - INFO - downloader - image #2\thttps://i.ytimg.com/vi/55OJF945lc0/sddefault.jpg\n",
      "2024-07-03 16:45:01,785 - INFO - downloader - image #3\thttps://i.ytimg.com/vi/XmY6nTH6n1A/hqdefault.jpg\n",
      "2024-07-03 16:45:01,962 - INFO - downloader - image #4\thttps://images.slideplayer.com/26/8626487/slides/slide_3.jpg\n",
      "2024-07-03 16:45:02,062 - INFO - downloader - image #5\thttps://miro.medium.com/v2/resize:fit:1100/1*EQxfu2Ieh7S9uZhWsX9EWA.png\n",
      "2024-07-03 16:45:02,146 - INFO - downloader - downloaded images reach max num, thread downloader-001 is ready to exit\n",
      "2024-07-03 16:45:02,147 - INFO - downloader - thread downloader-001 exit\n",
      "2024-07-03 16:45:02,760 - INFO - icrawler.crawler - Crawling task done!\n",
      "2024-07-03 16:45:02,761 - INFO - icrawler.crawler - start crawling...\n",
      "2024-07-03 16:45:02,761 - INFO - icrawler.crawler - starting 1 feeder threads...\n",
      "2024-07-03 16:45:02,762 - INFO - feeder - thread feeder-001 exit\n",
      "2024-07-03 16:45:02,764 - INFO - icrawler.crawler - starting 1 parser threads...\n",
      "2024-07-03 16:45:02,765 - INFO - icrawler.crawler - starting 1 downloader threads...\n"
     ]
    },
    {
     "name": "stdout",
     "output_type": "stream",
     "text": [
      "Downloading images for Jeff Bass and the Bass Brothers.\n"
     ]
    },
    {
     "name": "stderr",
     "output_type": "stream",
     "text": [
      "2024-07-03 16:45:03,063 - INFO - parser - downloaded image reached max num, thread parser-001 is ready to exit\n",
      "2024-07-03 16:45:03,064 - INFO - parser - thread parser-001 exit\n",
      "2024-07-03 16:45:03,514 - INFO - parser - parsing result page https://www.google.com/search?q=Jeff+Bass+and+the+Bass+Brothers.&ijn=0&start=0&tbs=&tbm=isch\n",
      "2024-07-03 16:45:03,985 - INFO - downloader - image #1\thttps://www.freep.com/gcdn/presto/2022/11/16/PDTF/7e4a8181-462f-407b-81da-9f66167c67e5-IMG_9250.jpg\n",
      "2024-07-03 16:45:04,034 - INFO - downloader - image #2\thttps://i.ytimg.com/vi/ZgSYaxyrbTI/hqdefault.jpg\n",
      "2024-07-03 16:45:04,816 - INFO - downloader - image #3\thttps://eminem.news/wp-content/uploads/2021/05/epro-news-576_.jpg\n",
      "2024-07-03 16:45:04,956 - INFO - downloader - image #4\thttps://southpawers.com/wp-content/uploads/2020/11/jeff-bass-eminem.jpg\n",
      "2024-07-03 16:45:05,013 - INFO - downloader - image #5\thttps://grantland.com/wp-content/uploads/2013/11/grant_g_eminemyoung_6402.jpg\n",
      "2024-07-03 16:45:05,197 - INFO - downloader - downloaded images reach max num, thread downloader-001 is ready to exit\n",
      "2024-07-03 16:45:05,198 - INFO - downloader - thread downloader-001 exit\n",
      "2024-07-03 16:45:05,769 - INFO - icrawler.crawler - Crawling task done!\n",
      "2024-07-03 16:45:05,769 - INFO - icrawler.crawler - start crawling...\n",
      "2024-07-03 16:45:05,771 - INFO - icrawler.crawler - starting 1 feeder threads...\n",
      "2024-07-03 16:45:05,772 - INFO - feeder - thread feeder-001 exit\n",
      "2024-07-03 16:45:05,773 - INFO - icrawler.crawler - starting 1 parser threads...\n",
      "2024-07-03 16:45:05,775 - INFO - icrawler.crawler - starting 1 downloader threads...\n"
     ]
    },
    {
     "name": "stdout",
     "output_type": "stream",
     "text": [
      "Downloading images for Eminem performing in the early 2000s.\n"
     ]
    },
    {
     "name": "stderr",
     "output_type": "stream",
     "text": [
      "2024-07-03 16:45:06,014 - INFO - parser - downloaded image reached max num, thread parser-001 is ready to exit\n",
      "2024-07-03 16:45:06,015 - INFO - parser - thread parser-001 exit\n",
      "2024-07-03 16:45:06,578 - INFO - parser - parsing result page https://www.google.com/search?q=Eminem+performing+in+the+early+2000s.&ijn=0&start=0&tbs=&tbm=isch\n",
      "2024-07-03 16:45:06,703 - INFO - downloader - image #1\thttps://i.ytimg.com/vi/4UGpv685nIQ/sddefault.jpg\n",
      "2024-07-03 16:45:06,748 - ERROR - downloader - Response status code 403, file https://external-preview.redd.it/fKe64Vc94VBOUgg9l8EZwEHwIz3zgl6_JTBqF9xm_3o.png\n",
      "2024-07-03 16:45:07,056 - ERROR - downloader - Response status code 400, file https://media.gettyimages.com/id/2221279/fr/photo/eminem-performs-at-the-2000-mtv-video-music-awards-at-radio-city-music-hall-in-new-york-city-9-7.jpg\n",
      "2024-07-03 16:45:07,093 - INFO - downloader - image #2\thttps://static.independent.co.uk/s3fs-public/thumbnails/image/2010/04/15/20/354288.jpg\n",
      "2024-07-03 16:45:07,139 - INFO - downloader - image #3\thttps://people.com/thmb/GG3-5zUtAlvlfLF1PDZVEdLOn4k=/4000x0/filters:no_upscale():max_bytes(150000):strip_icc():focal(655x0:657x2)/gettyimages-2235503-2000-fcb40a3f5a934f8da6fad449d333d09d.jpg\n",
      "2024-07-03 16:45:07,182 - INFO - downloader - image #4\thttps://i.ytimg.com/vi/6vjN6FfO66A/maxresdefault.jpg\n",
      "2024-07-03 16:45:07,327 - INFO - downloader - image #5\thttps://www.ocregister.com/wp-content/uploads/migration/kpj/kpja2i-21eminem12large.jpg\n",
      "2024-07-03 16:45:07,423 - INFO - downloader - downloaded images reach max num, thread downloader-001 is ready to exit\n",
      "2024-07-03 16:45:07,424 - INFO - downloader - thread downloader-001 exit\n",
      "2024-07-03 16:45:07,778 - INFO - icrawler.crawler - Crawling task done!\n",
      "2024-07-03 16:45:07,778 - INFO - icrawler.crawler - start crawling...\n",
      "2024-07-03 16:45:07,779 - INFO - icrawler.crawler - starting 1 feeder threads...\n",
      "2024-07-03 16:45:07,780 - INFO - feeder - thread feeder-001 exit\n",
      "2024-07-03 16:45:07,782 - INFO - icrawler.crawler - starting 1 parser threads...\n",
      "2024-07-03 16:45:07,783 - INFO - icrawler.crawler - starting 1 downloader threads...\n"
     ]
    },
    {
     "name": "stdout",
     "output_type": "stream",
     "text": [
      "Downloading images for Guess Whos Back lyrics.\n"
     ]
    },
    {
     "name": "stderr",
     "output_type": "stream",
     "text": [
      "2024-07-03 16:45:08,329 - INFO - parser - downloaded image reached max num, thread parser-001 is ready to exit\n",
      "2024-07-03 16:45:08,329 - INFO - parser - thread parser-001 exit\n",
      "2024-07-03 16:45:08,483 - INFO - parser - parsing result page https://www.google.com/search?q=Guess+Whos+Back+lyrics.&ijn=0&start=0&tbs=&tbm=isch\n",
      "2024-07-03 16:45:08,593 - INFO - downloader - image #1\thttps://i.ytimg.com/vi/oOTpEUhGB-Q/maxresdefault.jpg\n",
      "2024-07-03 16:45:08,974 - INFO - downloader - image #2\thttps://img.poemhunter.com/i/poem_images/703/guess-who-s-back.jpg\n",
      "2024-07-03 16:45:09,038 - INFO - downloader - image #3\thttps://images.genius.com/d28bc510237749d0bd468d69739dce55.1000x1000x1.jpg\n",
      "2024-07-03 16:45:09,065 - INFO - downloader - image #4\thttps://images.genius.com/ba7ebd04b2864911f481689557918e8c.600x598x1.jpg\n",
      "2024-07-03 16:45:09,121 - INFO - downloader - image #5\thttps://i.ytimg.com/vi/Nh6E4ELHYtA/maxresdefault.jpg\n",
      "2024-07-03 16:45:09,269 - INFO - downloader - downloaded images reach max num, thread downloader-001 is ready to exit\n",
      "2024-07-03 16:45:09,270 - INFO - downloader - thread downloader-001 exit\n",
      "2024-07-03 16:45:09,787 - INFO - icrawler.crawler - Crawling task done!\n",
      "2024-07-03 16:45:09,788 - INFO - icrawler.crawler - start crawling...\n",
      "2024-07-03 16:45:09,788 - INFO - icrawler.crawler - starting 1 feeder threads...\n",
      "2024-07-03 16:45:09,789 - INFO - feeder - thread feeder-001 exit\n",
      "2024-07-03 16:45:09,791 - INFO - icrawler.crawler - starting 1 parser threads...\n",
      "2024-07-03 16:45:09,792 - INFO - icrawler.crawler - starting 1 downloader threads...\n"
     ]
    },
    {
     "name": "stdout",
     "output_type": "stream",
     "text": [
      "Downloading images for Abracadabra album cover.\n"
     ]
    },
    {
     "name": "stderr",
     "output_type": "stream",
     "text": [
      "2024-07-03 16:45:10,123 - INFO - parser - downloaded image reached max num, thread parser-001 is ready to exit\n",
      "2024-07-03 16:45:10,124 - INFO - parser - thread parser-001 exit\n",
      "2024-07-03 16:45:10,484 - INFO - parser - parsing result page https://www.google.com/search?q=Abracadabra+album+cover.&ijn=0&start=0&tbs=&tbm=isch\n",
      "2024-07-03 16:45:10,833 - INFO - downloader - image #1\thttps://upload.wikimedia.org/wikipedia/en/0/0c/AbracadabraSM.jpg\n",
      "2024-07-03 16:45:10,968 - INFO - downloader - image #2\thttps://m.media-amazon.com/images/I/31QQq145BkL._UF1000,1000_QL80_.jpg\n",
      "2024-07-03 16:45:11,046 - INFO - downloader - image #3\thttps://cdns-images.dzcdn.net/images/cover/ee375d1122b47e4c80e424ef9fb4970b/1900x1900-000000-80-0-0.jpg\n",
      "2024-07-03 16:45:11,113 - INFO - downloader - image #4\thttps://cdn11.bigcommerce.com/s-8e25iavqdi/products/54899/images/53758/abracadabra-1-album-cover-sticker__90805.1540219788.386.513.jpg\n",
      "2024-07-03 16:45:12,929 - INFO - downloader - image #5\thttps://www.justfortherecord.co.nz/assets/Images/Albums/image067.jpg\n",
      "2024-07-03 16:45:13,536 - INFO - downloader - downloaded images reach max num, thread downloader-001 is ready to exit\n",
      "2024-07-03 16:45:13,537 - INFO - downloader - thread downloader-001 exit\n",
      "2024-07-03 16:45:13,795 - INFO - icrawler.crawler - Crawling task done!\n",
      "2024-07-03 16:45:13,796 - INFO - icrawler.crawler - start crawling...\n",
      "2024-07-03 16:45:13,796 - INFO - icrawler.crawler - starting 1 feeder threads...\n",
      "2024-07-03 16:45:13,797 - INFO - feeder - thread feeder-001 exit\n",
      "2024-07-03 16:45:13,807 - INFO - icrawler.crawler - starting 1 parser threads...\n",
      "2024-07-03 16:45:13,810 - INFO - icrawler.crawler - starting 1 downloader threads...\n"
     ]
    },
    {
     "name": "stdout",
     "output_type": "stream",
     "text": [
      "Downloading images for Houdini's death scene.\n"
     ]
    },
    {
     "name": "stderr",
     "output_type": "stream",
     "text": [
      "2024-07-03 16:45:14,117 - INFO - parser - downloaded image reached max num, thread parser-001 is ready to exit\n",
      "2024-07-03 16:45:14,118 - INFO - parser - thread parser-001 exit\n",
      "2024-07-03 16:45:14,834 - INFO - parser - parsing result page https://www.google.com/search?q=Houdini%27s+death+scene.&ijn=0&start=0&tbs=&tbm=isch\n",
      "2024-07-03 16:45:15,246 - INFO - downloader - image #1\thttps://blogger.googleusercontent.com/img/b/R29vZ2xl/AVvXsEg8dYBoeZX9sFOixywpeDSmrRo-_ulvEZ4kAPc0fy2qPNaspLT00dmen9ZMnsj_ZlZCVOdHgvyQ0RyViXMJBy8uJXsedA1CunTuqXpE3EKdNhlFf1SYqfGPZ9kWbWV3EpSxGs59v34UwaE/s1600/olivercollection.jpg\n",
      "2024-07-03 16:45:15,304 - INFO - downloader - image #2\thttps://dhjhkxawhe8q4.cloudfront.net/yup-wp/wp-content/uploads/2022/01/27154220/Jack_Dempsey_Harry_Houdini_and_Benny_Leonard2-scaled-e1583165014237.jpg\n",
      "2024-07-03 16:45:15,369 - INFO - downloader - image #3\thttps://i.ytimg.com/vi/QJ9lNRAjTQM/maxresdefault.jpg\n",
      "2024-07-03 16:45:15,486 - INFO - downloader - image #4\thttps://altair.com/images/default-source/news-images/shutterstock_787304011.jpg\n",
      "2024-07-03 16:45:16,325 - INFO - downloader - image #5\thttps://magicorpproductions.com/wp-content/uploads/2019/02/harry.jpg\n",
      "2024-07-03 16:45:16,547 - INFO - downloader - downloaded images reach max num, thread downloader-001 is ready to exit\n",
      "2024-07-03 16:45:16,548 - INFO - downloader - thread downloader-001 exit\n",
      "2024-07-03 16:45:16,813 - INFO - icrawler.crawler - Crawling task done!\n",
      "2024-07-03 16:45:16,814 - INFO - icrawler.crawler - start crawling...\n",
      "2024-07-03 16:45:16,814 - INFO - icrawler.crawler - starting 1 feeder threads...\n",
      "2024-07-03 16:45:16,815 - INFO - feeder - thread feeder-001 exit\n",
      "2024-07-03 16:45:16,817 - INFO - icrawler.crawler - starting 1 parser threads...\n",
      "2024-07-03 16:45:16,818 - INFO - icrawler.crawler - starting 1 downloader threads...\n"
     ]
    },
    {
     "name": "stdout",
     "output_type": "stream",
     "text": [
      "Downloading images for Detroit skyline.\n"
     ]
    },
    {
     "name": "stderr",
     "output_type": "stream",
     "text": [
      "2024-07-03 16:45:17,328 - INFO - parser - downloaded image reached max num, thread parser-001 is ready to exit\n",
      "2024-07-03 16:45:17,328 - INFO - parser - thread parser-001 exit\n",
      "2024-07-03 16:45:17,415 - INFO - parser - parsing result page https://www.google.com/search?q=Detroit+skyline.&ijn=0&start=0&tbs=&tbm=isch\n",
      "2024-07-03 16:45:17,696 - ERROR - downloader - Response status code 400, file https://media.gettyimages.com/id/859451446/fr/photo/panorama-a%C3%A9rien-de-detroit.jpg\n",
      "2024-07-03 16:45:17,864 - ERROR - downloader - Response status code 400, file https://media.gettyimages.com/id/145677126/fr/photo/detroit-skyline.jpg\n",
      "2024-07-03 16:45:18,314 - ERROR - downloader - Response status code 404, file https://t4.ftcdn.net/jpg\n",
      "2024-07-03 16:45:18,378 - INFO - downloader - image #1\thttps://i.etsystatic.com/21635101/r/il/dfbe27/2940126565/il_fullxfull.2940126565_g5rv.jpg\n",
      "2024-07-03 16:45:18,432 - ERROR - downloader - Response status code 403, file https://www.etsy.com/fr/listing/895035258/detroit-michigan-city-usa-skyline\",\"DETROIT Michigan City USA Skyline contour Silhouette vecteur svg eps png\n",
      "2024-07-03 16:45:18,718 - ERROR - downloader - Response status code 400, file https://media.istockphoto.com/id/508811464/fr/photo/ville-de-detroit-%C3%A0-golden-heures-sur-24.jpg\n",
      "2024-07-03 16:45:18,781 - INFO - downloader - image #2\thttps://media-cdn.tripadvisor.com/media/photo-s/17/2c/ec/3c/detroit-skyline-photo.jpg\n",
      "2024-07-03 16:45:18,830 - ERROR - downloader - Response status code 404, file https://t3.ftcdn.net/jpg\n",
      "2024-07-03 16:45:19,737 - INFO - downloader - image #3\thttps://www.michigan.photography/wp-content/uploads/2018/05/Downtown-Detroit-Skyline-at-Night-Aglow-scaled.jpg\n",
      "2024-07-03 16:45:19,826 - INFO - downloader - image #4\thttps://images.photowall.com/products/51234/detroit-michigan-skyline-black.jpg\n",
      "2024-07-03 16:45:19,938 - INFO - downloader - image #5\thttps://image12.photobiz.com/7732/5_20220103141727_17655106_large.jpg\n",
      "2024-07-03 16:45:20,105 - INFO - downloader - downloaded images reach max num, thread downloader-001 is ready to exit\n",
      "2024-07-03 16:45:20,105 - INFO - downloader - thread downloader-001 exit\n",
      "2024-07-03 16:45:20,822 - INFO - icrawler.crawler - Crawling task done!\n",
      "2024-07-03 16:45:20,823 - INFO - icrawler.crawler - start crawling...\n",
      "2024-07-03 16:45:20,823 - INFO - icrawler.crawler - starting 1 feeder threads...\n",
      "2024-07-03 16:45:20,824 - INFO - feeder - thread feeder-001 exit\n",
      "2024-07-03 16:45:20,836 - INFO - icrawler.crawler - starting 1 parser threads...\n",
      "2024-07-03 16:45:20,838 - INFO - icrawler.crawler - starting 1 downloader threads...\n",
      "2024-07-03 16:45:20,939 - INFO - parser - downloaded image reached max num, thread parser-001 is ready to exit\n",
      "2024-07-03 16:45:20,940 - INFO - parser - thread parser-001 exit\n"
     ]
    },
    {
     "name": "stdout",
     "output_type": "stream",
     "text": [
      "Downloading images for Eminem teaser post.\n"
     ]
    },
    {
     "name": "stderr",
     "output_type": "stream",
     "text": [
      "2024-07-03 16:45:21,128 - INFO - parser - parsing result page https://www.google.com/search?q=Eminem+teaser+post.&ijn=0&start=0&tbs=&tbm=isch\n",
      "Exception in thread parser-001:\n",
      "Traceback (most recent call last):\n",
      "  File \"c:\\Users\\lorra\\AppData\\Local\\Programs\\Python\\Python311\\Lib\\threading.py\", line 1038, in _bootstrap_inner\n",
      "    self.run()\n",
      "  File \"c:\\Users\\lorra\\AppData\\Local\\Programs\\Python\\Python311\\Lib\\threading.py\", line 975, in run\n",
      "    self._target(*self._args, **self._kwargs)\n",
      "  File \"c:\\Users\\lorra\\AppData\\Local\\Programs\\Python\\Python311\\Lib\\site-packages\\icrawler\\parser.py\", line 94, in worker_exec\n",
      "    for task in self.parse(response, **kwargs):\n",
      "TypeError: 'NoneType' object is not iterable\n",
      "2024-07-03 16:45:25,840 - INFO - downloader - no more download task for thread downloader-001\n",
      "2024-07-03 16:45:25,843 - INFO - downloader - thread downloader-001 exit\n",
      "2024-07-03 16:45:26,843 - INFO - icrawler.crawler - Crawling task done!\n",
      "2024-07-03 16:45:26,845 - INFO - icrawler.crawler - start crawling...\n",
      "2024-07-03 16:45:26,846 - INFO - icrawler.crawler - starting 1 feeder threads...\n",
      "2024-07-03 16:45:26,848 - INFO - feeder - thread feeder-001 exit\n",
      "2024-07-03 16:45:26,849 - INFO - icrawler.crawler - starting 1 parser threads...\n",
      "2024-07-03 16:45:26,851 - INFO - icrawler.crawler - starting 1 downloader threads...\n"
     ]
    },
    {
     "name": "stdout",
     "output_type": "stream",
     "text": [
      "Downloading images for Eminem's text message teaser.\n"
     ]
    },
    {
     "name": "stderr",
     "output_type": "stream",
     "text": [
      "2024-07-03 16:45:27,768 - INFO - parser - parsing result page https://www.google.com/search?q=Eminem%27s+text+message+teaser.&ijn=0&start=0&tbs=&tbm=isch\n",
      "2024-07-03 16:45:27,926 - INFO - downloader - image #1\thttps://www.revolt.tv/article/media_1ca0ba8c46a73f84bccd2d0bb689f2039bc157512.jpeg?width=1200&format=pjpg\n",
      "2024-07-03 16:45:27,986 - INFO - downloader - image #2\thttps://i.ytimg.com/vi/YrQgB1REkCs/oar2.jpg\n",
      "2024-07-03 16:45:28,992 - INFO - downloader - image #3\thttps://eminem.news/wp-content/uploads/2020/05/my.community-681x1222.png\n",
      "2024-07-03 16:45:29,067 - INFO - downloader - image #4\thttps://i.dailymail.co.uk/1s/2024/05/22/09/85189637-13446321-image-a-50_1716367850038.jpg\n",
      "2024-07-03 16:45:29,141 - INFO - downloader - image #5\thttps://i.ytimg.com/vi/VNqOKsDN4Jo/maxresdefault.jpg\n",
      "2024-07-03 16:45:29,184 - INFO - downloader - downloaded images reach max num, thread downloader-001 is ready to exit\n",
      "2024-07-03 16:45:29,185 - INFO - downloader - thread downloader-001 exit\n",
      "2024-07-03 16:45:29,854 - INFO - icrawler.crawler - Crawling task done!\n",
      "2024-07-03 16:45:29,855 - INFO - icrawler.crawler - start crawling...\n",
      "2024-07-03 16:45:29,855 - INFO - icrawler.crawler - starting 1 feeder threads...\n",
      "2024-07-03 16:45:29,856 - INFO - feeder - thread feeder-001 exit\n",
      "2024-07-03 16:45:29,858 - INFO - icrawler.crawler - starting 1 parser threads...\n",
      "2024-07-03 16:45:29,859 - INFO - icrawler.crawler - starting 1 downloader threads...\n",
      "2024-07-03 16:45:29,989 - INFO - parser - downloaded image reached max num, thread parser-001 is ready to exit\n",
      "2024-07-03 16:45:29,989 - INFO - parser - thread parser-001 exit\n"
     ]
    },
    {
     "name": "stdout",
     "output_type": "stream",
     "text": [
      "Downloading images for May 31st date.\n"
     ]
    },
    {
     "name": "stderr",
     "output_type": "stream",
     "text": [
      "2024-07-03 16:45:30,728 - INFO - parser - parsing result page https://www.google.com/search?q=May+31st+date.&ijn=0&start=0&tbs=&tbm=isch\n",
      "2024-07-03 16:45:30,972 - INFO - downloader - image #1\thttps://www.shutterstock.com/image-vector/may-31-vector-flat-daily-260nw-393566650.jpg\n",
      "2024-07-03 16:45:31,224 - INFO - downloader - image #2\thttps://www.shutterstock.com/image-vector/may-31-calendar-icon-red-260nw-1039446784.jpg\n",
      "2024-07-03 16:45:31,352 - ERROR - downloader - Response status code 400, file https://media.istockphoto.com/id/1135804836/photo/cubes-31st-may.jpg\n",
      "2024-07-03 16:45:31,416 - INFO - downloader - image #3\thttps://static.vecteezy.com/system/resources/previews/022/109/406/non_2x/flat-icon-calendar-31-of-may-date-day-and-month-illustration-blue-teal-green-color-banner-31-may-31st-of-may-vector.jpg\n",
      "2024-07-03 16:45:31,480 - INFO - downloader - image #4\thttps://s.wincalendar.net/img/en/days/may-31-2021.png\n",
      "2024-07-03 16:45:31,584 - INFO - downloader - image #5\thttps://img.freepik.com/vecteurs-premium/page-calendrier-couleur-rouge-blanche-du-31-mai-illustration-vectorielle-contour-noir-calendrier-date_642540-870.jpg\n",
      "2024-07-03 16:45:31,614 - INFO - downloader - downloaded images reach max num, thread downloader-001 is ready to exit\n",
      "2024-07-03 16:45:31,614 - INFO - downloader - thread downloader-001 exit\n",
      "2024-07-03 16:45:31,870 - INFO - icrawler.crawler - Crawling task done!\n",
      "2024-07-03 16:45:31,871 - INFO - icrawler.crawler - start crawling...\n",
      "2024-07-03 16:45:31,871 - INFO - icrawler.crawler - starting 1 feeder threads...\n",
      "2024-07-03 16:45:31,872 - INFO - feeder - thread feeder-001 exit\n",
      "2024-07-03 16:45:31,874 - INFO - icrawler.crawler - starting 1 parser threads...\n",
      "2024-07-03 16:45:31,875 - INFO - icrawler.crawler - starting 1 downloader threads...\n"
     ]
    },
    {
     "name": "stdout",
     "output_type": "stream",
     "text": [
      "Downloading images for Eminem and David Blaine on FaceTime.\n"
     ]
    },
    {
     "name": "stderr",
     "output_type": "stream",
     "text": [
      "2024-07-03 16:45:32,524 - INFO - parser - parsing result page https://www.google.com/search?q=Eminem+and+David+Blaine+on+FaceTime.&ijn=0&start=0&tbs=&tbm=isch\n",
      "2024-07-03 16:45:32,586 - INFO - parser - downloaded image reached max num, thread parser-001 is ready to exit\n",
      "2024-07-03 16:45:32,586 - INFO - parser - thread parser-001 exit\n",
      "2024-07-03 16:45:32,651 - INFO - downloader - image #1\thttps://pbs.twimg.com/ext_tw_video_thumb/1795632222634143744/pu/img/vfIjahSM8S_soya6.jpg\n",
      "2024-07-03 16:45:32,704 - INFO - downloader - image #2\thttps://townsquare.media/site/812/files/2024/05/attachment-eminem-david-blaine1.jpg\n",
      "2024-07-03 16:45:32,958 - INFO - downloader - image #3\thttps://img.buzzfeed.com/buzzfeed-static/static/2024-05/29/17/asset/a2b75ff62c80/sub-buzz-648-1717002725-3.png\n",
      "2024-07-03 16:45:33,008 - INFO - downloader - image #4\thttps://i.ytimg.com/vi/QNbJoKUIw0I/sddefault.jpg\n",
      "2024-07-03 16:45:33,352 - INFO - downloader - image #5\thttps://www.vibe.com/wp-content/uploads/2024/05/Em-Blaine.png\n",
      "2024-07-03 16:45:33,444 - INFO - downloader - downloaded images reach max num, thread downloader-001 is ready to exit\n",
      "2024-07-03 16:45:33,444 - INFO - downloader - thread downloader-001 exit\n",
      "2024-07-03 16:45:33,879 - INFO - icrawler.crawler - Crawling task done!\n",
      "2024-07-03 16:45:33,881 - INFO - icrawler.crawler - start crawling...\n",
      "2024-07-03 16:45:33,881 - INFO - icrawler.crawler - starting 1 feeder threads...\n",
      "2024-07-03 16:45:33,883 - INFO - feeder - thread feeder-001 exit\n",
      "2024-07-03 16:45:33,884 - INFO - icrawler.crawler - starting 1 parser threads...\n",
      "2024-07-03 16:45:33,885 - INFO - icrawler.crawler - starting 1 downloader threads...\n"
     ]
    },
    {
     "name": "stdout",
     "output_type": "stream",
     "text": [
      "Downloading images for Eminem and David Blaine announcement video.\n"
     ]
    },
    {
     "name": "stderr",
     "output_type": "stream",
     "text": [
      "2024-07-03 16:45:34,356 - INFO - parser - downloaded image reached max num, thread parser-001 is ready to exit\n",
      "2024-07-03 16:45:34,357 - INFO - parser - thread parser-001 exit\n",
      "2024-07-03 16:45:34,861 - INFO - parser - parsing result page https://www.google.com/search?q=Eminem+and+David+Blaine+announcement+video.&ijn=0&start=0&tbs=&tbm=isch\n",
      "2024-07-03 16:45:36,925 - INFO - downloader - image #1\thttps://img.buzzfeed.com/buzzfeed-static/static/2024-05/29/17/asset/a2b75ff62c80/sub-buzz-648-1717002725-3.png\n",
      "2024-07-03 16:45:37,282 - INFO - downloader - image #2\thttps://www.vibe.com/wp-content/uploads/2024/05/Em-Blaine.png\n",
      "2024-07-03 16:45:37,350 - INFO - downloader - image #3\thttps://townsquare.media/site/812/files/2024/05/attachment-eminem-david-blaine1.jpg\n",
      "2024-07-03 16:45:37,736 - ERROR - downloader - Response status code 403, file https://content.invisioncic.com/y329496/monthly_2024_05/eminemdavidblanie.jpg\n",
      "2024-07-03 16:45:37,776 - INFO - downloader - image #4\thttps://static.independent.co.uk/2024/05/29/10/newFile-2.jpg\n",
      "2024-07-03 16:45:39,539 - INFO - downloader - image #5\thttps://images2.minutemediacdn.com/image/upload/c_crop,w_4082,h_2296,x_0,y_0/c_fill,w_1200,ar_4:3,f_auto,q_auto,g_auto/images/GettyImages/mmsport/289/01hz1r5qgcf3rmnew5kq.jpg\n",
      "2024-07-03 16:45:40,966 - INFO - downloader - downloaded images reach max num, thread downloader-001 is ready to exit\n",
      "2024-07-03 16:45:40,967 - INFO - downloader - thread downloader-001 exit\n",
      "2024-07-03 16:45:41,780 - INFO - parser - downloaded image reached max num, thread parser-001 is ready to exit\n",
      "2024-07-03 16:45:41,780 - INFO - parser - thread parser-001 exit\n",
      "2024-07-03 16:45:41,891 - INFO - icrawler.crawler - Crawling task done!\n"
     ]
    }
   ],
   "source": [
    "import os\n",
    "import shutil\n",
    "\n",
    "def clear_folder(folder_path):\n",
    "    for filename in os.listdir(folder_path):\n",
    "        file_path = os.path.join(folder_path, filename)\n",
    "        try:\n",
    "            if os.path.isfile(file_path) or os.path.islink(file_path):\n",
    "                os.unlink(file_path)\n",
    "            elif os.path.isdir(file_path):\n",
    "                shutil.rmtree(file_path)\n",
    "        except Exception as e:\n",
    "            print('Failed to delete %s. Reason: %s' % (file_path, e))\n",
    "\n",
    "clear_folder(f'images/{video_name}')\n",
    "\n",
    "vals = list(descriptions.values())\n",
    "dl_images(vals, f'images/{video_name}', max_num=5)"
   ]
  },
  {
   "cell_type": "markdown",
   "metadata": {},
   "source": [
    "## Create video from the pictures"
   ]
  },
  {
   "cell_type": "code",
   "execution_count": 102,
   "metadata": {},
   "outputs": [],
   "source": [
    "from moviepy.editor import ImageClip, CompositeVideoClip, VideoFileClip, concatenate_videoclips"
   ]
  },
  {
   "cell_type": "markdown",
   "metadata": {},
   "source": [
    "### Adding the pictures"
   ]
  },
  {
   "cell_type": "code",
   "execution_count": 103,
   "metadata": {},
   "outputs": [],
   "source": [
    "import nltk\n",
    "def find_closest_match(words, target):\n",
    "    # print(f'try to find \"{target}\" in \"{words}\"')\n",
    "    target_words = nltk.word_tokenize(target)\n",
    "    similarities = []\n",
    "    for i in range(len(words) - len(target_words) + 1):\n",
    "        similarity = nltk.jaccard_distance(set(target_words), set(words[i:i+len(target_words)]))\n",
    "        # print(f'similarity between {target_words} and {words[i:i+len(target_words)]} : {similarity}')\n",
    "        similarities.append(similarity)\n",
    "    # print(similarities)\n",
    "    # print(type(similarities))\n",
    "    best_match_index = similarities.index(min(similarities))\n",
    "\n",
    "    return ' '.join(words[best_match_index:best_match_index+len(target_words)])\n",
    "\n",
    "\n",
    "def get_sentence_timings(transcription, sentence):\n",
    "    \"\"\"\n",
    "    Returns the start and end timings of a sentence in a transcription object.\n",
    "\n",
    "    Args:\n",
    "    transcription (Transcription): The transcription object.\n",
    "    sentence (str): The sentence to search for.\n",
    "\n",
    "    Returns:\n",
    "    tuple: A tuple containing the start and end timings of the sentence.\n",
    "    \"\"\"\n",
    "    word_list = [d['word'] for d in transcription.words]\n",
    "    sentence = find_closest_match(word_list, sentence)\n",
    "    # sentence = onlychars(sentence)\n",
    "    # print(f'try to find {sentence} in {word_list}')\n",
    "    \n",
    "    words = transcription.words\n",
    "    sentence = sentence.replace('...', ' ').replace('\\\"', ' ').replace('.', '')\n",
    "    sentence_words = sentence.split()\n",
    "    sentence_start = None\n",
    "    sentence_end = None\n",
    "\n",
    "    # print(f'try to find {sentence_words} in {words}')\n",
    "    \n",
    "    i = 0\n",
    "    while i < len(words):\n",
    "        if words[i]['word'].lower() == sentence_words[0].lower():\n",
    "            # print(f'found {sentence_words[0]}')\n",
    "            j = 1\n",
    "            while j < len(sentence_words) and i + j < len(words) and words[i + j]['word'].lower() == sentence_words[j].lower():\n",
    "                j += 1\n",
    "            if j == len(sentence_words):\n",
    "                sentence_start = words[i]['start']\n",
    "                sentence_end = words[i + j - 1]['end']\n",
    "                break\n",
    "            # print(f'found {sentence_words[:j]} but not the rest')\n",
    "        i += 1\n",
    "        \n",
    "    if(sentence_start == None or sentence_end == None):\n",
    "        print(f\"no timings found for '{sentence}'\")\n",
    "    else:\n",
    "        print(f\"timings found for '{sentence}' : {sentence_start} to {sentence_end}\")    \n",
    "        sentence_start = round(sentence_start, 2)\n",
    "        sentence_end = round(sentence_end, 2)\n",
    "    return sentence_start, sentence_end"
   ]
  },
  {
   "cell_type": "code",
   "execution_count": 104,
   "metadata": {},
   "outputs": [],
   "source": [
    "def duplicate_video(input_video_path, output_video_path, duration = 0):\n",
    "    clip = VideoFileClip(input_video_path)\n",
    "    clip = clip.subclip(0, duration) if clip.duration > duration else clip\n",
    "    clip.write_videofile(output_video_path)"
   ]
  },
  {
   "cell_type": "code",
   "execution_count": 105,
   "metadata": {},
   "outputs": [],
   "source": [
    "if(not os.path.exists(f'videos/results/{video_name}.mp4')):\n",
    "    duplicate_video('videos\\satifying\\satisfying.mp4', f'videos/results/{video_name}.mp4', timing_description.duration)"
   ]
  },
  {
   "cell_type": "code",
   "execution_count": 106,
   "metadata": {},
   "outputs": [],
   "source": [
    "import os\n",
    "\n",
    "def get_images_paths(directory):\n",
    "    file_list = os.listdir(directory)\n",
    "\n",
    "    file_list = [f for f in file_list if os.path.isfile(os.path.join(directory, f))]\n",
    "\n",
    "    file_list.sort(key=lambda x: int(''.join(filter(str.isdigit, x))))\n",
    "\n",
    "    file_paths = [os.path.join(directory, f) for f in file_list]\n",
    "\n",
    "    return file_paths"
   ]
  },
  {
   "cell_type": "code",
   "execution_count": 107,
   "metadata": {},
   "outputs": [],
   "source": [
    "import random\n",
    "\n",
    "def select_images(root_dir, weight_decay=0.9):\n",
    "    image_list = []\n",
    "    for folder in os.listdir(root_dir):\n",
    "        folder_path = os.path.join(root_dir, folder)\n",
    "        if os.path.isdir(folder_path):\n",
    "            images = [f for f in os.listdir(folder_path) if f.endswith(('.png', '.jpg', '.jpeg'))]\n",
    "            if images:\n",
    "                weights = [weight_decay**i for i in range(len(images))]\n",
    "                image_list.append(os.path.join(folder_path, images[random.choices(range(len(images)), weights=weights)[0]]))\n",
    "    return image_list"
   ]
  },
  {
   "cell_type": "code",
   "execution_count": 108,
   "metadata": {},
   "outputs": [
    {
     "name": "stdout",
     "output_type": "stream",
     "text": [
      "timings found for 'Houdini is the lead single of Eminem's 12th studio album The Death of Slim Shady Coup De Grace' : 0.0 to 6.28000020980835\n",
      "timings found for 'The track is named after Harry Houdini' : 7.21999979019165 to 9.039999961853027\n",
      "timings found for 'a popular magician known for his death defying stunts like the Chinese water torture' : 9.5600004196167 to 14.140000343322754\n",
      "timings found for 'Eminem replicates in the intro to his 1999 track Role Model' : 15.279999732971191 to 19.280000686645508\n",
      "timings found for 'With the return of longtime collaborator Jeff Bass of the Bass Brothers' : 20.1200008392334 to 23.739999771118164\n",
      "timings found for 'Eminem revisits his catchy albeit morbid sound of the early 2000s' : 24.520000457763672 to 28.420000076293945\n",
      "timings found for 'This fanfare track sees him call back to his old catchphrases such as Shady's iconic Guess Who's Back line' : 28.719999313354492 to 36.13999938964844\n",
      "timings found for 'The song heavily samples and interpolates the Steve Miller band's 1982 track Abracadabra' : 38.779998779296875 to 44.779998779296875\n",
      "timings found for 'On October 24th 1926 the legendary Houdini tragically passed away in Detroit Michigan at the age of 52' : 45.34000015258789 to 52.81999969482422\n",
      "timings found for 'Interestingly Detroit is also the hometown of Eminem who turns 52 in October 2024' : 53.560001373291016 to 59.439998626708984\n",
      "timings found for '2024 The single was first teased by Eminem on May 20th' : 58.41999816894531 to 63.220001220703125\n",
      "timings found for 'when he posted a teaser to his social media accounts with a text message from all contacts stating and for my last trick' : 64.18000030517578 to 71.08000183105469\n",
      "timings found for 'The text message also has the date of May 31st sparking rumors of Eminem releasing music on that day' : 71.81999969482422 to 77.69999694824219\n",
      "timings found for 'On May 28th 2024 Eminem posted a video to Instagram of him on a FaceTime call with magician David Blaine' : 77.81999969482422 to 85.55999755859375\n",
      "timings found for 'Blaine At the end of the video he announced the release of Houdini on May 31st then closed out by stating for my last trick I'm gonna make my career disappear hinting at the death of Slim Shady Coup De Grace being his final album' : 85.26000213623047 to 99.44000244140625\n",
      "[(0.0, 6.28), (7.22, 9.04), (9.56, 14.14), (15.28, 19.28), (20.12, 23.74), (24.52, 28.42), (28.72, 36.14), (38.78, 44.78), (45.34, 52.82), (53.56, 59.44), (59.44, 63.22), (64.18, 71.08), (71.82, 77.7), (77.82, 85.56), (85.56, 99.44)]\n",
      "['images/Eminem-Houdini\\\\000\\\\000004.jpg', 'images/Eminem-Houdini\\\\001\\\\000002.png', 'images/Eminem-Houdini\\\\002\\\\000003.jpg', 'images/Eminem-Houdini\\\\003\\\\000002.jpg', 'images/Eminem-Houdini\\\\004\\\\000005.jpg', 'images/Eminem-Houdini\\\\005\\\\000005.jpg', 'images/Eminem-Houdini\\\\006\\\\000005.jpg', 'images/Eminem-Houdini\\\\007\\\\000003.jpg', 'images/Eminem-Houdini\\\\008\\\\000004.jpg', 'images/Eminem-Houdini\\\\009\\\\000002.jpg', 'images/Eminem-Houdini\\\\011\\\\000004.jpg', 'images/Eminem-Houdini\\\\012\\\\000004.png', 'images/Eminem-Houdini\\\\013\\\\000004.jpg', 'images/Eminem-Houdini\\\\014\\\\000003.jpg']\n",
      "15 14\n"
     ]
    }
   ],
   "source": [
    "i=0\n",
    "timings = []\n",
    "images = select_images(f'images/{video_name}')\n",
    "m = 0\n",
    "for key in list(descriptions.keys()):\n",
    "    # timing_description is the original transcription\n",
    "    # key is the sentence\n",
    "    start_time, end_time = get_sentence_timings(timing_description, key)\n",
    "    if(start_time < m):\n",
    "        start_time = m\n",
    "    m = end_time\n",
    "    if(start_time == None or end_time == None):\n",
    "        continue\n",
    "    timings.append((start_time, end_time))\n",
    "    # print(start_time, end_time)\n",
    "    # add_image_to_video(f'videos/results/{video_name}.mp4', f'videos/results/{video_name}.mp4', f'images/{video_name}/{i}.jpg', start_time, end_time - start_time, 0, 0, 1280, 720)\n",
    "    i+=1\n",
    "\n",
    "print(timings)\n",
    "print(images)\n",
    "print(len(timings), len(images))"
   ]
  },
  {
   "cell_type": "code",
   "execution_count": 109,
   "metadata": {},
   "outputs": [
    {
     "name": "stdout",
     "output_type": "stream",
     "text": [
      "Error\n",
      "Number of images and timings do not match\n"
     ]
    }
   ],
   "source": [
    "if(len(timings) != len(images)):\n",
    "    print('Error')\n",
    "    print(\"Number of images and timings do not match\")\n",
    "    "
   ]
  },
  {
   "cell_type": "code",
   "execution_count": 110,
   "metadata": {},
   "outputs": [],
   "source": [
    "def add_multiple_images_to_video(input_video_path, output_video_path, images, timings):\n",
    "    print(f\"Adding {len(images)} images to the video\")\n",
    "    print(f\"Images : {images}\")\n",
    "    print(f\"Timings : {timings}\")\n",
    "    \n",
    "    images = images.copy()\n",
    "    clip = VideoFileClip(input_video_path, audio=False)\n",
    "    clips = []\n",
    "    offset = 0\n",
    "    \n",
    "    for start_time, end_time in timings:\n",
    "        if start_time == None or end_time == None:\n",
    "            print(\"Could not find timings\")\n",
    "            continue\n",
    "        print(f\"Adding image {images[0]} from {start_time} to {end_time}\")\n",
    "        # print(len(images))\n",
    "        clip_before = clip.subclip(0, start_time-offset)\n",
    "        clip_with_image = clip.subclip(start_time-offset, end_time-offset)\n",
    "        clip_after = clip.subclip(end_time-offset, clip.duration)\n",
    "        offset += clip_before.duration + clip_with_image.duration\n",
    "        \n",
    "        image_clip = ImageClip(images.pop(0))\n",
    "        image_clip = image_clip.resize(width=clip.w/2, height=clip.h/2)\n",
    "        image_clip = image_clip.set_pos(('center', 'center'))\n",
    "        image_clip = image_clip.set_start(0).set_duration(clip_with_image.duration)\n",
    "\n",
    "        final_clip_middle = CompositeVideoClip([clip_with_image, image_clip])\n",
    "\n",
    "        final_clip = concatenate_videoclips([clip_before, final_clip_middle])\n",
    "\n",
    "        clip = clip_after\n",
    "        \n",
    "        clips.append(final_clip)\n",
    "\n",
    "    clips.append(clip)\n",
    "    final_clip = concatenate_videoclips(clips, method=\"chain\")\n",
    "\n",
    "    # Save the video\n",
    "    final_clip.write_videofile(output_video_path)"
   ]
  },
  {
   "cell_type": "code",
   "execution_count": 111,
   "metadata": {},
   "outputs": [
    {
     "name": "stdout",
     "output_type": "stream",
     "text": [
      "Adding 14 images to the video\n",
      "Images : ['images/Eminem-Houdini\\\\000\\\\000004.jpg', 'images/Eminem-Houdini\\\\001\\\\000002.png', 'images/Eminem-Houdini\\\\002\\\\000003.jpg', 'images/Eminem-Houdini\\\\003\\\\000002.jpg', 'images/Eminem-Houdini\\\\004\\\\000005.jpg', 'images/Eminem-Houdini\\\\005\\\\000005.jpg', 'images/Eminem-Houdini\\\\006\\\\000005.jpg', 'images/Eminem-Houdini\\\\007\\\\000003.jpg', 'images/Eminem-Houdini\\\\008\\\\000004.jpg', 'images/Eminem-Houdini\\\\009\\\\000002.jpg', 'images/Eminem-Houdini\\\\011\\\\000004.jpg', 'images/Eminem-Houdini\\\\012\\\\000004.png', 'images/Eminem-Houdini\\\\013\\\\000004.jpg', 'images/Eminem-Houdini\\\\014\\\\000003.jpg']\n",
      "Timings : [(0.0, 6.28), (7.22, 9.04), (9.56, 14.14), (15.28, 19.28), (20.12, 23.74), (24.52, 28.42), (28.72, 36.14), (38.78, 44.78), (45.34, 52.82), (53.56, 59.44), (59.44, 63.22), (64.18, 71.08), (71.82, 77.7), (77.82, 85.56), (85.56, 99.44)]\n",
      "Adding image images/Eminem-Houdini\\000\\000004.jpg from 0.0 to 6.28\n",
      "Adding image images/Eminem-Houdini\\001\\000002.png from 7.22 to 9.04\n",
      "Adding image images/Eminem-Houdini\\002\\000003.jpg from 9.56 to 14.14\n",
      "Adding image images/Eminem-Houdini\\003\\000002.jpg from 15.28 to 19.28\n",
      "Adding image images/Eminem-Houdini\\004\\000005.jpg from 20.12 to 23.74\n",
      "Adding image images/Eminem-Houdini\\005\\000005.jpg from 24.52 to 28.42\n",
      "Adding image images/Eminem-Houdini\\006\\000005.jpg from 28.72 to 36.14\n",
      "Adding image images/Eminem-Houdini\\007\\000003.jpg from 38.78 to 44.78\n",
      "Adding image images/Eminem-Houdini\\008\\000004.jpg from 45.34 to 52.82\n",
      "Adding image images/Eminem-Houdini\\009\\000002.jpg from 53.56 to 59.44\n",
      "Adding image images/Eminem-Houdini\\011\\000004.jpg from 59.44 to 63.22\n",
      "Adding image images/Eminem-Houdini\\012\\000004.png from 64.18 to 71.08\n",
      "Adding image images/Eminem-Houdini\\013\\000004.jpg from 71.82 to 77.7\n",
      "Adding image images/Eminem-Houdini\\014\\000003.jpg from 77.82 to 85.56\n"
     ]
    },
    {
     "ename": "IndexError",
     "evalue": "list index out of range",
     "output_type": "error",
     "traceback": [
      "\u001b[1;31m---------------------------------------------------------------------------\u001b[0m",
      "\u001b[1;31mIndexError\u001b[0m                                Traceback (most recent call last)",
      "Cell \u001b[1;32mIn[111], line 2\u001b[0m\n\u001b[0;32m      1\u001b[0m \u001b[38;5;66;03m# video_name = \"Eminem-Houdini\"\u001b[39;00m\n\u001b[1;32m----> 2\u001b[0m \u001b[43madd_multiple_images_to_video\u001b[49m\u001b[43m(\u001b[49m\u001b[38;5;124;43mf\u001b[39;49m\u001b[38;5;124;43m'\u001b[39;49m\u001b[38;5;124;43mvideos/results/\u001b[39;49m\u001b[38;5;132;43;01m{\u001b[39;49;00m\u001b[43mvideo_name\u001b[49m\u001b[38;5;132;43;01m}\u001b[39;49;00m\u001b[38;5;124;43m.mp4\u001b[39;49m\u001b[38;5;124;43m'\u001b[39;49m\u001b[43m,\u001b[49m\u001b[43m \u001b[49m\u001b[38;5;124;43mf\u001b[39;49m\u001b[38;5;124;43m'\u001b[39;49m\u001b[38;5;124;43mvideos/results/\u001b[39;49m\u001b[38;5;132;43;01m{\u001b[39;49;00m\u001b[43mvideo_name\u001b[49m\u001b[38;5;132;43;01m}\u001b[39;49;00m\u001b[38;5;124;43m_V2.mp4\u001b[39;49m\u001b[38;5;124;43m'\u001b[39;49m\u001b[43m,\u001b[49m\u001b[43m \u001b[49m\u001b[43mimages\u001b[49m\u001b[43m,\u001b[49m\u001b[43m \u001b[49m\u001b[43mtimings\u001b[49m\u001b[43m)\u001b[49m\n",
      "Cell \u001b[1;32mIn[110], line 15\u001b[0m, in \u001b[0;36madd_multiple_images_to_video\u001b[1;34m(input_video_path, output_video_path, images, timings)\u001b[0m\n\u001b[0;32m     13\u001b[0m     \u001b[38;5;28mprint\u001b[39m(\u001b[38;5;124m\"\u001b[39m\u001b[38;5;124mCould not find timings\u001b[39m\u001b[38;5;124m\"\u001b[39m)\n\u001b[0;32m     14\u001b[0m     \u001b[38;5;28;01mcontinue\u001b[39;00m\n\u001b[1;32m---> 15\u001b[0m \u001b[38;5;28mprint\u001b[39m(\u001b[38;5;124mf\u001b[39m\u001b[38;5;124m\"\u001b[39m\u001b[38;5;124mAdding image \u001b[39m\u001b[38;5;132;01m{\u001b[39;00m\u001b[43mimages\u001b[49m\u001b[43m[\u001b[49m\u001b[38;5;241;43m0\u001b[39;49m\u001b[43m]\u001b[49m\u001b[38;5;132;01m}\u001b[39;00m\u001b[38;5;124m from \u001b[39m\u001b[38;5;132;01m{\u001b[39;00mstart_time\u001b[38;5;132;01m}\u001b[39;00m\u001b[38;5;124m to \u001b[39m\u001b[38;5;132;01m{\u001b[39;00mend_time\u001b[38;5;132;01m}\u001b[39;00m\u001b[38;5;124m\"\u001b[39m)\n\u001b[0;32m     16\u001b[0m \u001b[38;5;66;03m# print(len(images))\u001b[39;00m\n\u001b[0;32m     17\u001b[0m clip_before \u001b[38;5;241m=\u001b[39m clip\u001b[38;5;241m.\u001b[39msubclip(\u001b[38;5;241m0\u001b[39m, start_time\u001b[38;5;241m-\u001b[39moffset)\n",
      "\u001b[1;31mIndexError\u001b[0m: list index out of range"
     ]
    }
   ],
   "source": [
    "# video_name = \"Eminem-Houdini\"\n",
    "add_multiple_images_to_video(f'videos/results/{video_name}.mp4', f'videos/results/{video_name}_V2.mp4', images, timings)"
   ]
  },
  {
   "cell_type": "code",
   "execution_count": null,
   "metadata": {},
   "outputs": [],
   "source": []
  },
  {
   "cell_type": "markdown",
   "metadata": {},
   "source": [
    "## Sounds"
   ]
  },
  {
   "cell_type": "markdown",
   "metadata": {},
   "source": [
    "### The voice"
   ]
  },
  {
   "cell_type": "code",
   "execution_count": null,
   "metadata": {},
   "outputs": [],
   "source": [
    "# imports\n",
    "from moviepy.editor import AudioFileClip, CompositeAudioClip"
   ]
  },
  {
   "cell_type": "code",
   "execution_count": null,
   "metadata": {},
   "outputs": [],
   "source": [
    "def add_audio_to_video(video_path, audio_path, output_path):\n",
    "    # Load the video and the audio file\n",
    "    video = VideoFileClip(video_path)\n",
    "    audio = AudioFileClip(audio_path)\n",
    "\n",
    "    # Make the audio file as long as the video file\n",
    "    final_audio = CompositeAudioClip([audio.set_duration(video.duration)])\n",
    "\n",
    "    # Set the audio of the video to the final_audio\n",
    "    final_video = video.set_audio(final_audio)\n",
    "\n",
    "    # Write the result to a file\n",
    "    final_video.write_videofile(output_path)"
   ]
  },
  {
   "cell_type": "code",
   "execution_count": null,
   "metadata": {},
   "outputs": [
    {
     "name": "stdout",
     "output_type": "stream",
     "text": [
      "Moviepy - Building video videos/results/Eminem-Houdini_V3.mp4.\n",
      "MoviePy - Writing audio in Eminem-Houdini_V3TEMP_MPY_wvf_snd.mp3\n"
     ]
    },
    {
     "name": "stderr",
     "output_type": "stream",
     "text": [
      "                                                                      \r"
     ]
    },
    {
     "name": "stdout",
     "output_type": "stream",
     "text": [
      "MoviePy - Done.\n",
      "Moviepy - Writing video videos/results/Eminem-Houdini_V3.mp4\n",
      "\n"
     ]
    },
    {
     "name": "stderr",
     "output_type": "stream",
     "text": [
      "                                                                 \r"
     ]
    },
    {
     "name": "stdout",
     "output_type": "stream",
     "text": [
      "Moviepy - Done !\n",
      "Moviepy - video ready videos/results/Eminem-Houdini_V3.mp4\n"
     ]
    }
   ],
   "source": [
    "add_audio_to_video(f'videos/results/{video_name}_V2.mp4', 'audio_description.mp3', f'videos/results/{video_name}_V3.mp4')"
   ]
  },
  {
   "cell_type": "markdown",
   "metadata": {},
   "source": [
    "### Music"
   ]
  },
  {
   "cell_type": "markdown",
   "metadata": {},
   "source": [
    "## Subtitles"
   ]
  },
  {
   "cell_type": "code",
   "execution_count": null,
   "metadata": {},
   "outputs": [],
   "source": [
    "from moviepy.editor import *\n",
    "\n",
    "def add_subtitles_to_video(video_path, subtitles, output_path, position = ('center', 0.1)):\n",
    "    # Load the video\n",
    "    print(video_path)\n",
    "    video = VideoFileClip(video_path)\n",
    "\n",
    "    # Create a list of TextClip objects for each subtitle\n",
    "    text_clips = []\n",
    "    for word in subtitles.words:\n",
    "        # print(word['word'], word['start'], word['end'])\n",
    "        text_clip = TextClip(word['word'], fontsize=60, color='white')\n",
    "        text_clip = text_clip.set_start(word['start']).set_duration(word['end'] - word['start'])\n",
    "        text_clip = text_clip.set_position(position)\n",
    "        text_clips.append(text_clip)\n",
    "\n",
    "    # Overlay the text clips on the video\n",
    "    final_video = CompositeVideoClip([video] + text_clips)\n",
    "    \n",
    "    final_video.write_videofile(output_path)"
   ]
  },
  {
   "cell_type": "code",
   "execution_count": null,
   "metadata": {},
   "outputs": [
    {
     "name": "stdout",
     "output_type": "stream",
     "text": [
      "videos/results/Eminem-Houdini_V3.mp4\n",
      "Moviepy - Building video videos/results/Eminem-Houdini_V4.mp4.\n",
      "MoviePy - Writing audio in Eminem-Houdini_V4TEMP_MPY_wvf_snd.mp3\n"
     ]
    },
    {
     "name": "stderr",
     "output_type": "stream",
     "text": [
      "                                                                      \r"
     ]
    },
    {
     "name": "stdout",
     "output_type": "stream",
     "text": [
      "MoviePy - Done.\n",
      "Moviepy - Writing video videos/results/Eminem-Houdini_V4.mp4\n",
      "\n"
     ]
    },
    {
     "name": "stderr",
     "output_type": "stream",
     "text": [
      "t: 100%|█████████▉| 3020/3024 [00:47<00:00, 79.46it/s, now=None]2024-07-03 16:23:30,551 - WARNING - py.warnings - c:\\Users\\lorra\\AppData\\Local\\Programs\\Python\\Python311\\Lib\\site-packages\\moviepy\\video\\io\\ffmpeg_reader.py:123: UserWarning: Warning: in file videos/results/Eminem-Houdini_V3.mp4, 2764800 bytes wanted but 0 bytes read,at frame 3022/3024, at time 100.73/100.78 sec. Using the last valid frame instead.\n",
      "  warnings.warn(\"Warning: in file %s, \"%(self.filename)+\n",
      "\n",
      "2024-07-03 16:23:30,564 - WARNING - py.warnings - c:\\Users\\lorra\\AppData\\Local\\Programs\\Python\\Python311\\Lib\\site-packages\\moviepy\\video\\io\\ffmpeg_reader.py:123: UserWarning: Warning: in file videos/results/Eminem-Houdini_V3.mp4, 2764800 bytes wanted but 0 bytes read,at frame 3023/3024, at time 100.77/100.78 sec. Using the last valid frame instead.\n",
      "  warnings.warn(\"Warning: in file %s, \"%(self.filename)+\n",
      "\n",
      "                                                                \r"
     ]
    },
    {
     "name": "stdout",
     "output_type": "stream",
     "text": [
      "Moviepy - Done !\n",
      "Moviepy - video ready videos/results/Eminem-Houdini_V4.mp4\n"
     ]
    }
   ],
   "source": [
    "add_subtitles_to_video(f'videos/results/{video_name}_V3.mp4', timing_description, f'videos/results/{video_name}_V4.mp4')"
   ]
  },
  {
   "cell_type": "code",
   "execution_count": null,
   "metadata": {},
   "outputs": [],
   "source": []
  }
 ],
 "metadata": {
  "kernelspec": {
   "display_name": "Python 3",
   "language": "python",
   "name": "python3"
  },
  "language_info": {
   "codemirror_mode": {
    "name": "ipython",
    "version": 3
   },
   "file_extension": ".py",
   "mimetype": "text/x-python",
   "name": "python",
   "nbconvert_exporter": "python",
   "pygments_lexer": "ipython3",
   "version": "3.11.4"
  }
 },
 "nbformat": 4,
 "nbformat_minor": 2
}
