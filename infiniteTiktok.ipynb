{
 "cells": [
  {
   "cell_type": "markdown",
   "metadata": {},
   "source": [
    "# Generate Infinite Tiktoks"
   ]
  },
  {
   "cell_type": "markdown",
   "metadata": {},
   "source": [
    "## Generate video text\n",
    "The first step to generate a tiktok, is obviously to know what you're going to stay.\n",
    "\n",
    "To do so, my idea was to find something in genius.com, the famous website to have extra information on rap/pop songs. You can have informations about the context of the song when it was released.\n"
   ]
  },
  {
   "cell_type": "code",
   "execution_count": 1,
   "metadata": {},
   "outputs": [],
   "source": [
    "import os\n",
    "import requests\n",
    "from moviepy.editor import *"
   ]
  },
  {
   "cell_type": "code",
   "execution_count": 2,
   "metadata": {},
   "outputs": [],
   "source": [
    "def get_annotation(annotation_id):\n",
    "    url = f\"https://api.genius.com/annotations/{annotation_id}\"\n",
    "    payload = {}\n",
    "    headers = {'Authorization': 'Bearer ' + os.environ['RAPGENIUS_API_KEY']}\n",
    "    r = requests.request(\"GET\", url, headers=headers, data=payload)\n",
    "    data = r.json()\n",
    "    \n",
    "    full_annotation = \"\"\n",
    "    parts = data['response']['annotation']['body']['dom']['children']\n",
    "\n",
    "    full_annotation = find_annotation(parts)\n",
    "    \n",
    "    return full_annotation\n",
    "def find_annotation(root):\n",
    "    # print(type(root))\n",
    "    full_annotation = \"\"\n",
    "    if(type(root) == str):\n",
    "        if(root == \"\"):\n",
    "            root = '\\n'\n",
    "        full_annotation += root\n",
    "    elif(type(root) == dict):\n",
    "        if('children' in root):\n",
    "            full_annotation += find_annotation(root['children'])\n",
    "    elif(type(root) == list):\n",
    "        for part in root:\n",
    "            full_annotation += find_annotation(part)\n",
    "    \n",
    "    return full_annotation\n",
    "def get_id_song(url):\n",
    "    response = requests.get(url).content\n",
    "    id = int(response.split(b'genius://songs/')[1].split(b'\"')[0])\n",
    "    return id\n",
    "def get_song_description(song_id):\n",
    "    url = f\"https://api.genius.com/songs/{song_id}\"\n",
    "\n",
    "    payload = {}\n",
    "    headers = {\n",
    "        'Authorization': 'Bearer ' + os.environ['RAPGENIUS_API_KEY']\n",
    "    }\n",
    "\n",
    "    response = requests.request(\"GET\", url, headers=headers, data=payload)\n",
    "    data = response.json()\n",
    "    return get_annotation(data['response']['song']['description_annotation']['id'])\n"
   ]
  },
  {
   "cell_type": "code",
   "execution_count": 3,
   "metadata": {},
   "outputs": [
    {
     "name": "stdout",
     "output_type": "stream",
     "text": [
      "“Houdini” is the lead single of Eminem’s twelfth studio album The Death of Slim Shady (Coup de Grâce). The track is named after Harry Houdini, a popular magician known for his death-defying stunts like the Chinese Water Torture Cell, which Eminem replicates in the intro to his 1999 track, “Role Model.”\n",
      "With the return of long-time collaborator Jeff Bass of the Bass Brothers, Eminem revisits his catchy albeit morbid sound of the early 2000s. This fanfare track sees him callback to his old catchphrases such as Shady’s iconic “Guess who’s back?” line from the 2002 track “Without Me.” The song heavily samples and interpolates the Steve Miller Band’s 1982 track “Abracadabra.”\n",
      "On October 24, 1926, the legendary Houdini tragically passed away in Detroit, Michigan at the age of 52. Interestingly, Detroit is also the hometown of Eminem, who turns 52 in October 2024.\n",
      "The single was first teased by Eminem on May 20, 2024, when he posted a teaser to his social media accounts with a text message from “All Contacts” stating, “…and for my last trick!” The text message also has the date of May 31, sparking rumors of Eminem releasing music on that day.\n",
      "On May 28, 2024, Eminem posted a video to Instagram of him on a FaceTime call with magician David Blaine. At the end of the video, he announced the release of “Houdini” on May 31, then closed out by stating “for my last trick, I’m gonna make my career disappear,” hinting at The Death of Slim Shady (Coup de Grâce) being his final album.\n"
     ]
    }
   ],
   "source": [
    "url = \"https://genius.com/Eminem-houdini-lyrics\"\n",
    "video_name = \"Eminem-Houdini\"\n",
    "\n",
    "song_description = get_song_description(get_id_song(url))\n",
    "print(song_description)"
   ]
  },
  {
   "cell_type": "markdown",
   "metadata": {},
   "source": [
    "## Create Audio for the video"
   ]
  },
  {
   "cell_type": "code",
   "execution_count": 4,
   "metadata": {},
   "outputs": [],
   "source": [
    "from openai import OpenAI\n",
    "import os\n",
    "\n",
    "api_key = os.environ.get('OPENAI_API_KEY_LORRAIN')\n",
    "client = OpenAI(api_key=api_key)\n",
    "\n",
    "def text_to_speech_mp3(text, output_filename, model=\"tts-1\", voice=\"alloy\"):\n",
    "    \"\"\"\n",
    "    Converts a text string to speech using the OpenAI API and writes the resulting audio to an MP3 file.\n",
    "\n",
    "    Args:\n",
    "    text (str): The text string to convert to speech.\n",
    "    output_filename (str): The name of the output MP3 file.\n",
    "    model (str): The model to use for speech synthesis. Defaults to 'tts-1'.\n",
    "    voice (str): The voice to use for speech synthesis. Defaults to 'alloy'.\n",
    "    \"\"\"\n",
    "    global client\n",
    "    client = OpenAI(api_key=os.environ.get('OPENAI_API_KEY_LORRAIN')) if client is None else client\n",
    "    speech_file_path = output_filename\n",
    "\n",
    "\n",
    "    with client.audio.speech.with_streaming_response.create(\n",
    "        model=model,\n",
    "        voice=voice,\n",
    "        input=text,\n",
    "    ) as response:\n",
    "        response.stream_to_file(speech_file_path+('.mp3' if not speech_file_path.endswith('.mp3') else ''))\n",
    "\n",
    "def getTextTimingsOfMp3(mp3file):\n",
    "    global client\n",
    "    client = OpenAI(api_key=os.environ.get('OPENAI_API_KEY_LORRAIN')) if client is None else client\n",
    "    \n",
    "    audio_file = open(mp3file, \"rb\")\n",
    "    transcript = client.audio.transcriptions.create(\n",
    "        file=audio_file,\n",
    "        model=\"whisper-1\",\n",
    "        response_format=\"verbose_json\",\n",
    "        timestamp_granularities=[\"word\"]\n",
    "    )\n",
    "\n",
    "    return transcript\n"
   ]
  },
  {
   "cell_type": "code",
   "execution_count": 5,
   "metadata": {},
   "outputs": [],
   "source": [
    "def onlychars(text):\n",
    "    return ''.join(c if c.isalnum() or c.isspace() else '' for c in text)\n",
    "\n",
    "def verify_transcription(original_text, transcription):\n",
    "    \"\"\"\n",
    "    Verifies that the text is the same after the tts and stt.\n",
    "\n",
    "    Args:\n",
    "    original_text (str): The original text.\n",
    "    transcription (dict): The transcription dictionary.\n",
    "\n",
    "    Returns:\n",
    "    int: ratio of the original text and the transcription text.\n",
    "    \"\"\"\n",
    "    \n",
    "    transcription_text = onlychars(transcription.text.lower())\n",
    "    original_text = onlychars(original_text.lower())\n",
    "    \n",
    "    print('original :\\n',original_text.replace('\\n', ' '))\n",
    "    print('transcription :\\n',transcription_text,'\\n')\n",
    "    \n",
    "    \n",
    "    if transcription_text == original_text:\n",
    "        return 1\n",
    "    \n",
    "    # correct_words = 0\n",
    "    for word in original_text.split():\n",
    "        # print(f'testing {word}')\n",
    "        len_before = len(transcription_text)\n",
    "        transcription_text = str(transcription_text).replace(word, '', 1)\n",
    "        len_after = len(transcription_text)\n",
    "        if(len_before == len_after):\n",
    "            print(f'word {word} not found')\n",
    "        # print(f'removed word ? {len_before - len_after}')\n",
    "#\n",
    "    print(len(original_text.split()), len(transcription_text.split()))\n",
    "    return 1 - len(transcription_text.split()) / len(original_text.split())\n"
   ]
  },
  {
   "cell_type": "code",
   "execution_count": 6,
   "metadata": {},
   "outputs": [],
   "source": [
    "text_to_speech_mp3(song_description, 'audio_description')\n",
    "timing_description = getTextTimingsOfMp3('audio_description.mp3')"
   ]
  },
  {
   "cell_type": "code",
   "execution_count": 7,
   "metadata": {},
   "outputs": [
    {
     "name": "stdout",
     "output_type": "stream",
     "text": [
      "Transcription(text=\"Houdini is the lead single of Eminem's 12th studio album The Death of Slim Shady, Coup de Grace. The track is named after Harry Houdini, a popular magician known for his death-defying stunts like the Chinese water torture cell, which Eminem replicates in the intro to his 1999 track Role Model. With the return of longtime collaborator Jeff Bass of the Bass Brothers, Eminem revisits his catchy, albeit morbid sound of the early 2000s. This fanfare track sees him call back to his old catchphrases, such as Shady's iconic Guess Who's Back line from the 2002 track Without Me. The song heavily samples and interpolates the Steve Miller band's 1982 track Abracadabra. On October 24, 1926, the legendary Houdini tragically passed away in Detroit, Michigan at the age of 52. Interestingly, Detroit is also the hometown of Eminem, who turns 52 in October 2024. The single was first teased by Eminem on May 20, 2024, when he posted a teaser to his social media accounts with a text message from all contacts stating, And for my last trick! The text message also has the date of May 31, sparking rumors of Eminem releasing music on that day. On May 28, 2024, Eminem posted a video to Instagram of him on a FaceTime call with magician David Blaine. At the end of the video, he announced the release of Houdini on May 31, then closed out by stating, For my last trick, I'm gonna make my career disappear. Hinting at the death of Slim Shady, Coup De Grace being his final album.\", task='transcribe', language='english', duration=101.04000091552734, words=[{'word': 'Houdini', 'start': 0.0, 'end': 0.5199999809265137}, {'word': 'is', 'start': 0.5199999809265137, 'end': 1.0}, {'word': 'the', 'start': 1.0, 'end': 1.1399999856948853}, {'word': 'lead', 'start': 1.1399999856948853, 'end': 1.4800000190734863}, {'word': 'single', 'start': 1.4800000190734863, 'end': 1.7200000286102295}, {'word': 'of', 'start': 1.7200000286102295, 'end': 2.059999942779541}, {'word': \"Eminem's\", 'start': 2.059999942779541, 'end': 2.4800000190734863}, {'word': '12th', 'start': 2.4800000190734863, 'end': 2.9200000762939453}, {'word': 'studio', 'start': 2.9200000762939453, 'end': 3.2799999713897705}, {'word': 'album', 'start': 3.2799999713897705, 'end': 3.5799999237060547}, {'word': 'The', 'start': 3.5799999237060547, 'end': 3.859999895095825}, {'word': 'Death', 'start': 3.859999895095825, 'end': 4.039999961853027}, {'word': 'of', 'start': 4.039999961853027, 'end': 4.21999979019165}, {'word': 'Slim', 'start': 4.21999979019165, 'end': 4.519999980926514}, {'word': 'Shady', 'start': 4.519999980926514, 'end': 4.800000190734863}, {'word': 'Coup', 'start': 5.320000171661377, 'end': 5.340000152587891}, {'word': 'de', 'start': 5.340000152587891, 'end': 5.519999980926514}, {'word': 'Grace', 'start': 5.519999980926514, 'end': 5.800000190734863}, {'word': 'The', 'start': 6.980000019073486, 'end': 7.059999942779541}, {'word': 'track', 'start': 7.059999942779541, 'end': 7.260000228881836}, {'word': 'is', 'start': 7.260000228881836, 'end': 7.519999980926514}, {'word': 'named', 'start': 7.519999980926514, 'end': 7.659999847412109}, {'word': 'after', 'start': 7.659999847412109, 'end': 7.940000057220459}, {'word': 'Harry', 'start': 7.940000057220459, 'end': 8.399999618530273}, {'word': 'Houdini', 'start': 8.399999618530273, 'end': 8.680000305175781}, {'word': 'a', 'start': 9.100000381469727, 'end': 9.279999732971191}, {'word': 'popular', 'start': 9.279999732971191, 'end': 9.65999984741211}, {'word': 'magician', 'start': 9.65999984741211, 'end': 10.15999984741211}, {'word': 'known', 'start': 10.15999984741211, 'end': 10.579999923706055}, {'word': 'for', 'start': 10.579999923706055, 'end': 10.859999656677246}, {'word': 'his', 'start': 10.859999656677246, 'end': 11.180000305175781}, {'word': 'death', 'start': 11.180000305175781, 'end': 11.399999618530273}, {'word': 'defying', 'start': 11.399999618530273, 'end': 11.819999694824219}, {'word': 'stunts', 'start': 11.819999694824219, 'end': 12.34000015258789}, {'word': 'like', 'start': 12.34000015258789, 'end': 12.960000038146973}, {'word': 'the', 'start': 12.960000038146973, 'end': 13.15999984741211}, {'word': 'Chinese', 'start': 13.15999984741211, 'end': 13.5600004196167}, {'word': 'water', 'start': 13.5600004196167, 'end': 13.920000076293945}, {'word': 'torture', 'start': 13.920000076293945, 'end': 14.180000305175781}, {'word': 'cell', 'start': 14.180000305175781, 'end': 14.619999885559082}, {'word': 'which', 'start': 15.199999809265137, 'end': 15.359999656677246}, {'word': 'Eminem', 'start': 15.359999656677246, 'end': 15.680000305175781}, {'word': 'replicates', 'start': 15.680000305175781, 'end': 16.200000762939453}, {'word': 'in', 'start': 16.200000762939453, 'end': 16.3799991607666}, {'word': 'the', 'start': 16.3799991607666, 'end': 16.780000686645508}, {'word': 'intro', 'start': 16.780000686645508, 'end': 16.780000686645508}, {'word': 'to', 'start': 16.780000686645508, 'end': 17.020000457763672}, {'word': 'his', 'start': 17.020000457763672, 'end': 17.360000610351562}, {'word': '1999', 'start': 17.360000610351562, 'end': 17.920000076293945}, {'word': 'track', 'start': 17.920000076293945, 'end': 18.399999618530273}, {'word': 'Role', 'start': 18.399999618530273, 'end': 19.139999389648438}, {'word': 'Model', 'start': 19.139999389648438, 'end': 19.219999313354492}, {'word': 'With', 'start': 20.0, 'end': 20.100000381469727}, {'word': 'the', 'start': 20.100000381469727, 'end': 20.540000915527344}, {'word': 'return', 'start': 20.540000915527344, 'end': 20.540000915527344}, {'word': 'of', 'start': 20.540000915527344, 'end': 20.780000686645508}, {'word': 'longtime', 'start': 20.780000686645508, 'end': 21.200000762939453}, {'word': 'collaborator', 'start': 21.200000762939453, 'end': 21.84000015258789}, {'word': 'Jeff', 'start': 21.84000015258789, 'end': 22.280000686645508}, {'word': 'Bass', 'start': 22.280000686645508, 'end': 22.5}, {'word': 'of', 'start': 22.5, 'end': 22.700000762939453}, {'word': 'the', 'start': 22.700000762939453, 'end': 23.0}, {'word': 'Bass', 'start': 23.0, 'end': 23.15999984741211}, {'word': 'Brothers', 'start': 23.15999984741211, 'end': 23.5}, {'word': 'Eminem', 'start': 24.219999313354492, 'end': 24.420000076293945}, {'word': 'revisits', 'start': 24.420000076293945, 'end': 24.860000610351562}, {'word': 'his', 'start': 24.860000610351562, 'end': 25.200000762939453}, {'word': 'catchy', 'start': 25.200000762939453, 'end': 25.520000457763672}, {'word': 'albeit', 'start': 25.739999771118164, 'end': 26.1200008392334}, {'word': 'morbid', 'start': 26.1200008392334, 'end': 26.579999923706055}, {'word': 'sound', 'start': 26.579999923706055, 'end': 26.940000534057617}, {'word': 'of', 'start': 26.940000534057617, 'end': 27.18000030517578}, {'word': 'the', 'start': 27.18000030517578, 'end': 27.31999969482422}, {'word': 'early', 'start': 27.31999969482422, 'end': 27.600000381469727}, {'word': '2000s', 'start': 27.600000381469727, 'end': 28.31999969482422}, {'word': 'This', 'start': 28.780000686645508, 'end': 29.5}, {'word': 'fanfare', 'start': 29.5, 'end': 30.059999465942383}, {'word': 'track', 'start': 30.059999465942383, 'end': 30.3799991607666}, {'word': 'sees', 'start': 30.3799991607666, 'end': 30.639999389648438}, {'word': 'him', 'start': 30.639999389648438, 'end': 30.84000015258789}, {'word': 'call', 'start': 30.84000015258789, 'end': 31.100000381469727}, {'word': 'back', 'start': 31.100000381469727, 'end': 31.360000610351562}, {'word': 'to', 'start': 31.360000610351562, 'end': 31.520000457763672}, {'word': 'his', 'start': 31.520000457763672, 'end': 31.68000030517578}, {'word': 'old', 'start': 31.68000030517578, 'end': 32.040000915527344}, {'word': 'catchphrases', 'start': 32.040000915527344, 'end': 32.70000076293945}, {'word': 'such', 'start': 33.18000030517578, 'end': 33.279998779296875}, {'word': 'as', 'start': 33.279998779296875, 'end': 33.7400016784668}, {'word': \"Shady's\", 'start': 33.7400016784668, 'end': 33.97999954223633}, {'word': 'iconic', 'start': 33.97999954223633, 'end': 34.36000061035156}, {'word': 'Guess', 'start': 34.36000061035156, 'end': 34.7599983215332}, {'word': \"Who's\", 'start': 34.7599983215332, 'end': 35.0}, {'word': 'Back', 'start': 35.0, 'end': 35.29999923706055}, {'word': 'line', 'start': 35.29999923706055, 'end': 35.7400016784668}, {'word': 'from', 'start': 35.7400016784668, 'end': 36.060001373291016}, {'word': 'the', 'start': 36.060001373291016, 'end': 36.31999969482422}, {'word': '2002', 'start': 36.31999969482422, 'end': 36.86000061035156}, {'word': 'track', 'start': 36.86000061035156, 'end': 37.29999923706055}, {'word': 'Without', 'start': 37.29999923706055, 'end': 37.880001068115234}, {'word': 'Me', 'start': 37.880001068115234, 'end': 38.220001220703125}, {'word': 'The', 'start': 38.84000015258789, 'end': 39.18000030517578}, {'word': 'song', 'start': 39.18000030517578, 'end': 39.380001068115234}, {'word': 'heavily', 'start': 39.380001068115234, 'end': 39.79999923706055}, {'word': 'samples', 'start': 39.79999923706055, 'end': 40.20000076293945}, {'word': 'and', 'start': 40.20000076293945, 'end': 40.599998474121094}, {'word': 'interpolates', 'start': 40.599998474121094, 'end': 41.08000183105469}, {'word': 'the', 'start': 41.08000183105469, 'end': 41.439998626708984}, {'word': 'Steve', 'start': 41.439998626708984, 'end': 41.599998474121094}, {'word': 'Miller', 'start': 41.599998474121094, 'end': 41.720001220703125}, {'word': \"band's\", 'start': 41.720001220703125, 'end': 42.279998779296875}, {'word': '1982', 'start': 42.279998779296875, 'end': 42.81999969482422}, {'word': 'track', 'start': 42.81999969482422, 'end': 43.41999816894531}, {'word': 'Abracadabra', 'start': 43.41999816894531, 'end': 44.52000045776367}, {'word': 'On', 'start': 45.2400016784668, 'end': 45.36000061035156}, {'word': 'October', 'start': 45.36000061035156, 'end': 45.70000076293945}, {'word': '24', 'start': 45.70000076293945, 'end': 46.29999923706055}, {'word': '1926', 'start': 46.65999984741211, 'end': 47.52000045776367}, {'word': 'the', 'start': 48.040000915527344, 'end': 48.220001220703125}, {'word': 'legendary', 'start': 48.220001220703125, 'end': 48.599998474121094}, {'word': 'Houdini', 'start': 48.599998474121094, 'end': 49.060001373291016}, {'word': 'tragically', 'start': 49.060001373291016, 'end': 49.939998626708984}, {'word': 'passed', 'start': 49.939998626708984, 'end': 50.34000015258789}, {'word': 'away', 'start': 50.34000015258789, 'end': 50.68000030517578}, {'word': 'in', 'start': 50.68000030517578, 'end': 50.86000061035156}, {'word': 'Detroit', 'start': 50.86000061035156, 'end': 51.15999984741211}, {'word': 'Michigan', 'start': 51.380001068115234, 'end': 51.540000915527344}, {'word': 'at', 'start': 51.540000915527344, 'end': 51.720001220703125}, {'word': 'the', 'start': 51.720001220703125, 'end': 52.0}, {'word': 'age', 'start': 52.0, 'end': 52.0}, {'word': 'of', 'start': 52.0, 'end': 52.2599983215332}, {'word': '52', 'start': 52.2599983215332, 'end': 52.720001220703125}, {'word': 'Interestingly', 'start': 53.41999816894531, 'end': 54.040000915527344}, {'word': 'Detroit', 'start': 54.65999984741211, 'end': 54.65999984741211}, {'word': 'is', 'start': 54.65999984741211, 'end': 54.880001068115234}, {'word': 'also', 'start': 54.880001068115234, 'end': 55.29999923706055}, {'word': 'the', 'start': 55.29999923706055, 'end': 55.400001525878906}, {'word': 'hometown', 'start': 55.400001525878906, 'end': 55.79999923706055}, {'word': 'of', 'start': 55.79999923706055, 'end': 56.20000076293945}, {'word': 'Eminem', 'start': 56.20000076293945, 'end': 56.47999954223633}, {'word': 'who', 'start': 56.79999923706055, 'end': 57.02000045776367}, {'word': 'turns', 'start': 57.02000045776367, 'end': 57.2400016784668}, {'word': '52', 'start': 57.2400016784668, 'end': 57.97999954223633}, {'word': 'in', 'start': 57.97999954223633, 'end': 58.5}, {'word': 'October', 'start': 58.5, 'end': 59.02000045776367}, {'word': '2024', 'start': 59.02000045776367, 'end': 59.959999084472656}, {'word': 'The', 'start': 60.599998474121094, 'end': 60.70000076293945}, {'word': 'single', 'start': 60.70000076293945, 'end': 61.0}, {'word': 'was', 'start': 61.0, 'end': 61.20000076293945}, {'word': 'first', 'start': 61.20000076293945, 'end': 61.939998626708984}, {'word': 'teased', 'start': 61.939998626708984, 'end': 61.939998626708984}, {'word': 'by', 'start': 61.939998626708984, 'end': 62.29999923706055}, {'word': 'Eminem', 'start': 62.29999923706055, 'end': 62.619998931884766}, {'word': 'on', 'start': 62.619998931884766, 'end': 62.959999084472656}, {'word': 'May', 'start': 62.959999084472656, 'end': 63.08000183105469}, {'word': '20', 'start': 63.08000183105469, 'end': 63.47999954223633}, {'word': '2024', 'start': 63.720001220703125, 'end': 64.5}, {'word': 'when', 'start': 64.81999969482422, 'end': 65.27999877929688}, {'word': 'he', 'start': 65.27999877929688, 'end': 65.5199966430664}, {'word': 'posted', 'start': 65.5199966430664, 'end': 65.69999694824219}, {'word': 'a', 'start': 65.69999694824219, 'end': 66.0}, {'word': 'teaser', 'start': 66.0, 'end': 66.30000305175781}, {'word': 'to', 'start': 66.30000305175781, 'end': 66.5999984741211}, {'word': 'his', 'start': 66.5999984741211, 'end': 66.87999725341797}, {'word': 'social', 'start': 66.87999725341797, 'end': 67.19999694824219}, {'word': 'media', 'start': 67.19999694824219, 'end': 67.62000274658203}, {'word': 'accounts', 'start': 67.62000274658203, 'end': 68.0}, {'word': 'with', 'start': 68.0, 'end': 68.18000030517578}, {'word': 'a', 'start': 68.18000030517578, 'end': 68.4800033569336}, {'word': 'text', 'start': 68.4800033569336, 'end': 68.62000274658203}, {'word': 'message', 'start': 68.62000274658203, 'end': 68.95999908447266}, {'word': 'from', 'start': 68.95999908447266, 'end': 69.18000030517578}, {'word': 'all', 'start': 69.18000030517578, 'end': 69.72000122070312}, {'word': 'contacts', 'start': 69.72000122070312, 'end': 70.23999786376953}, {'word': 'stating', 'start': 70.23999786376953, 'end': 70.69999694824219}, {'word': 'And', 'start': 71.08000183105469, 'end': 71.12000274658203}, {'word': 'for', 'start': 71.12000274658203, 'end': 71.26000213623047}, {'word': 'my', 'start': 71.26000213623047, 'end': 71.5}, {'word': 'last', 'start': 71.5, 'end': 71.80000305175781}, {'word': 'trick', 'start': 71.80000305175781, 'end': 72.19999694824219}, {'word': 'The', 'start': 72.63999938964844, 'end': 72.80000305175781}, {'word': 'text', 'start': 72.80000305175781, 'end': 73.0999984741211}, {'word': 'message', 'start': 73.0999984741211, 'end': 73.41999816894531}, {'word': 'also', 'start': 73.41999816894531, 'end': 73.81999969482422}, {'word': 'has', 'start': 73.81999969482422, 'end': 74.0199966430664}, {'word': 'the', 'start': 74.0199966430664, 'end': 74.18000030517578}, {'word': 'date', 'start': 74.18000030517578, 'end': 74.27999877929688}, {'word': 'of', 'start': 74.27999877929688, 'end': 74.41999816894531}, {'word': 'May', 'start': 74.41999816894531, 'end': 74.55999755859375}, {'word': '31', 'start': 74.55999755859375, 'end': 75.0}, {'word': 'sparking', 'start': 75.4800033569336, 'end': 75.66000366210938}, {'word': 'rumors', 'start': 75.66000366210938, 'end': 75.9000015258789}, {'word': 'of', 'start': 75.9000015258789, 'end': 76.22000122070312}, {'word': 'Eminem', 'start': 76.22000122070312, 'end': 76.45999908447266}, {'word': 'releasing', 'start': 76.45999908447266, 'end': 76.80000305175781}, {'word': 'music', 'start': 76.80000305175781, 'end': 77.13999938964844}, {'word': 'on', 'start': 77.13999938964844, 'end': 77.37999725341797}, {'word': 'that', 'start': 77.37999725341797, 'end': 77.5199966430664}, {'word': 'day', 'start': 77.5199966430664, 'end': 77.77999877929688}, {'word': 'On', 'start': 77.86000061035156, 'end': 78.44000244140625}, {'word': 'May', 'start': 78.44000244140625, 'end': 78.63999938964844}, {'word': '28', 'start': 78.63999938964844, 'end': 79.22000122070312}, {'word': '2024', 'start': 79.54000091552734, 'end': 80.33999633789062}, {'word': 'Eminem', 'start': 80.86000061035156, 'end': 81.0999984741211}, {'word': 'posted', 'start': 81.0999984741211, 'end': 81.44000244140625}, {'word': 'a', 'start': 81.44000244140625, 'end': 81.72000122070312}, {'word': 'video', 'start': 81.72000122070312, 'end': 82.0}, {'word': 'to', 'start': 82.0, 'end': 82.23999786376953}, {'word': 'Instagram', 'start': 82.23999786376953, 'end': 82.68000030517578}, {'word': 'of', 'start': 82.68000030517578, 'end': 83.0999984741211}, {'word': 'him', 'start': 83.0999984741211, 'end': 83.19999694824219}, {'word': 'on', 'start': 83.19999694824219, 'end': 83.36000061035156}, {'word': 'a', 'start': 83.36000061035156, 'end': 83.45999908447266}, {'word': 'FaceTime', 'start': 83.45999908447266, 'end': 83.91999816894531}, {'word': 'call', 'start': 83.91999816894531, 'end': 84.30000305175781}, {'word': 'with', 'start': 84.30000305175781, 'end': 84.5999984741211}, {'word': 'magician', 'start': 84.5999984741211, 'end': 85.05999755859375}, {'word': 'David', 'start': 85.05999755859375, 'end': 85.5}, {'word': 'Blaine', 'start': 85.5, 'end': 85.81999969482422}, {'word': 'At', 'start': 86.4800033569336, 'end': 86.58000183105469}, {'word': 'the', 'start': 86.58000183105469, 'end': 86.9000015258789}, {'word': 'end', 'start': 86.9000015258789, 'end': 86.91999816894531}, {'word': 'of', 'start': 86.91999816894531, 'end': 87.05999755859375}, {'word': 'the', 'start': 87.05999755859375, 'end': 87.26000213623047}, {'word': 'video', 'start': 87.26000213623047, 'end': 87.5199966430664}, {'word': 'he', 'start': 88.0, 'end': 88.0999984741211}, {'word': 'announced', 'start': 88.0999984741211, 'end': 88.37999725341797}, {'word': 'the', 'start': 88.37999725341797, 'end': 88.55999755859375}, {'word': 'release', 'start': 88.55999755859375, 'end': 88.87999725341797}, {'word': 'of', 'start': 88.87999725341797, 'end': 89.19999694824219}, {'word': 'Houdini', 'start': 89.19999694824219, 'end': 89.55999755859375}, {'word': 'on', 'start': 89.55999755859375, 'end': 90.04000091552734}, {'word': 'May', 'start': 90.04000091552734, 'end': 90.18000030517578}, {'word': '31', 'start': 90.18000030517578, 'end': 90.62000274658203}, {'word': 'then', 'start': 91.22000122070312, 'end': 91.27999877929688}, {'word': 'closed', 'start': 91.27999877929688, 'end': 91.5999984741211}, {'word': 'out', 'start': 91.5999984741211, 'end': 91.87999725341797}, {'word': 'by', 'start': 91.87999725341797, 'end': 92.27999877929688}, {'word': 'stating', 'start': 92.27999877929688, 'end': 92.4000015258789}, {'word': 'For', 'start': 92.91999816894531, 'end': 92.94000244140625}, {'word': 'my', 'start': 92.94000244140625, 'end': 93.18000030517578}, {'word': 'last', 'start': 93.18000030517578, 'end': 93.55999755859375}, {'word': 'trick', 'start': 93.55999755859375, 'end': 93.83999633789062}, {'word': \"I'm\", 'start': 94.08000183105469, 'end': 94.22000122070312}, {'word': 'gonna', 'start': 94.22000122070312, 'end': 94.36000061035156}, {'word': 'make', 'start': 94.36000061035156, 'end': 94.55999755859375}, {'word': 'my', 'start': 94.55999755859375, 'end': 95.08000183105469}, {'word': 'career', 'start': 95.08000183105469, 'end': 95.08000183105469}, {'word': 'disappear', 'start': 95.08000183105469, 'end': 95.69999694824219}, {'word': 'Hinting', 'start': 96.33999633789062, 'end': 96.41999816894531}, {'word': 'at', 'start': 96.41999816894531, 'end': 96.5999984741211}, {'word': 'the', 'start': 96.5999984741211, 'end': 96.91999816894531}, {'word': 'death', 'start': 96.91999816894531, 'end': 96.91999816894531}, {'word': 'of', 'start': 96.91999816894531, 'end': 97.12000274658203}, {'word': 'Slim', 'start': 97.12000274658203, 'end': 97.41999816894531}, {'word': 'Shady', 'start': 97.41999816894531, 'end': 97.68000030517578}, {'word': 'Coup', 'start': 98.18000030517578, 'end': 98.23999786376953}, {'word': 'De', 'start': 98.23999786376953, 'end': 98.37999725341797}, {'word': 'Grace', 'start': 98.37999725341797, 'end': 98.62000274658203}, {'word': 'being', 'start': 98.62000274658203, 'end': 99.05999755859375}, {'word': 'his', 'start': 99.05999755859375, 'end': 99.26000213623047}, {'word': 'final', 'start': 99.26000213623047, 'end': 99.62000274658203}, {'word': 'album', 'start': 99.62000274658203, 'end': 99.94000244140625}])\n",
      "original :\n",
      " houdini is the lead single of eminems twelfth studio album the death of slim shady coup de grâce the track is named after harry houdini a popular magician known for his deathdefying stunts like the chinese water torture cell which eminem replicates in the intro to his 1999 track role model with the return of longtime collaborator jeff bass of the bass brothers eminem revisits his catchy albeit morbid sound of the early 2000s this fanfare track sees him callback to his old catchphrases such as shadys iconic guess whos back line from the 2002 track without me the song heavily samples and interpolates the steve miller bands 1982 track abracadabra on october 24 1926 the legendary houdini tragically passed away in detroit michigan at the age of 52 interestingly detroit is also the hometown of eminem who turns 52 in october 2024 the single was first teased by eminem on may 20 2024 when he posted a teaser to his social media accounts with a text message from all contacts stating and for my last trick the text message also has the date of may 31 sparking rumors of eminem releasing music on that day on may 28 2024 eminem posted a video to instagram of him on a facetime call with magician david blaine at the end of the video he announced the release of houdini on may 31 then closed out by stating for my last trick im gonna make my career disappear hinting at the death of slim shady coup de grâce being his final album\n",
      "transcription :\n",
      " houdini is the lead single of eminems 12th studio album the death of slim shady coup de grace the track is named after harry houdini a popular magician known for his deathdefying stunts like the chinese water torture cell which eminem replicates in the intro to his 1999 track role model with the return of longtime collaborator jeff bass of the bass brothers eminem revisits his catchy albeit morbid sound of the early 2000s this fanfare track sees him call back to his old catchphrases such as shadys iconic guess whos back line from the 2002 track without me the song heavily samples and interpolates the steve miller bands 1982 track abracadabra on october 24 1926 the legendary houdini tragically passed away in detroit michigan at the age of 52 interestingly detroit is also the hometown of eminem who turns 52 in october 2024 the single was first teased by eminem on may 20 2024 when he posted a teaser to his social media accounts with a text message from all contacts stating and for my last trick the text message also has the date of may 31 sparking rumors of eminem releasing music on that day on may 28 2024 eminem posted a video to instagram of him on a facetime call with magician david blaine at the end of the video he announced the release of houdini on may 31 then closed out by stating for my last trick im gonna make my career disappear hinting at the death of slim shady coup de grace being his final album \n",
      "\n",
      "word twelfth not found\n",
      "word grâce not found\n",
      "word callback not found\n",
      "word grâce not found\n",
      "260 8\n",
      "96.92307692307692 %\n"
     ]
    }
   ],
   "source": [
    "print(timing_description)\n",
    "print(verify_transcription(song_description, timing_description) * 100, \"%\")\n",
    "\n",
    "onlychars_text = onlychars(timing_description.text)\n",
    "final_text = timing_description.text"
   ]
  },
  {
   "cell_type": "markdown",
   "metadata": {},
   "source": [
    "## Find pictures"
   ]
  },
  {
   "cell_type": "markdown",
   "metadata": {},
   "source": [
    "### Find picture descrition\n",
    "The idea I came up with is to ask a LLM (mistral in my case) to find some nice moments in the description of the song"
   ]
  },
  {
   "cell_type": "code",
   "execution_count": 8,
   "metadata": {},
   "outputs": [],
   "source": [
    "import os\n",
    "from mistralai.client import MistralClient\n",
    "from mistralai.models.chat_completion import ChatMessage\n",
    "\n",
    "def get_description_pictures(story):\n",
    "    api_key = os.environ[\"MISTRAL_API_KEY\"]\n",
    "    model = \"open-mistral-7b\"\n",
    "\n",
    "    client = MistralClient(api_key=api_key)\n",
    "\n",
    "    preprompt = \"\"\"Your job will be to write the visual of a tiktok video: the images that show on screen. You have to find some nice moments in the story to place pictures that will show on screen. Tell me when you choose an image of what. In this format:\n",
    "    DURING THE SENTENCE \"[place the full sentence here]\", SHOW AN IMAGE OF \"[place the description of the image]\".\n",
    "    Answer only with the descriptions of all the images. \n",
    "    Try to understand the story and which words are important to show visually. for example if you want to show an album cover, try to give the name of the album and the artist. If you want to show a person, don't try to give the name of the person, but just the description of what they are doing because is very unlikely I'll be able to find this exact person doing this exact action.\n",
    "    Please chose the most images as possible (dont be shy ;)) and if a sentence needs more than one image, you can split the sentence in two or more parts.\n",
    "    But NEVER give two descriptions for the same sentence.  \n",
    "    Try not to give a description, but key words because i will look online for the exact same words you describe. That means if you are too complex, i will not be able to find the image.\n",
    "    Don't forget that the context will not be given to the website where I will find the images, that means if the description is too vague, I will not be able to find the image.\n",
    "    Try to kep the descriptions short and concise.\n",
    "    Before I give you an example, there is one last important thing : You need to choose a lot of moments, because the images will be shown for a short time, so you need to have a lot of images to show the whole story.\n",
    "    \n",
    "    ----------------\n",
    "    For example:\n",
    "    \n",
    "    STORY : \"Eonis, a wise and patient god, was intrigued by a Rubik's Cube he saw a human child playing with. He materialized one and began to solve it, but found it surprisingly challenging. Despite his divine knowledge, it took him months in the celestial realm to finally align the last color.\"\n",
    "    \n",
    "    DURING THE SENTENCE \"Eonis, a wise and patient god\", SHOW AN IMAGE OF \"a god\".\n",
    "    DURING THE SENTENCE \"was intrigued by a Rubik's Cube he saw a human child playing with\", SHOW AN IMAGE OF \"a rubik's cube\".\n",
    "    DURING THE SENTENCE \"He materialized one and began to solve it\", SHOW AN IMAGE OF \"a person solving a rubik's cube\".\n",
    "    DURING THE SENTENCE \"but found it surprisingly challenging\", SHOW AN IMAGE OF \"someone thinking very hard\".\n",
    "    DURING THE SENTENCE \"Despite his divine knowledge, it took him months\", SHOW AN IMAGE OF \"a hourglass\".\n",
    "    DURING THE SENTENCE \"in the celestial realm to finally align the last color\", SHOW AN IMAGE OF \"a solved rubiks cube\".\n",
    "    ----------------\n",
    "    \n",
    "    Now it is your turn:\n",
    "\n",
    "    STORY : \"\"\"\n",
    "\n",
    "    messages = [\n",
    "        ChatMessage(role=\"user\", content=preprompt + f'\"{story}\"'),\n",
    "    ]\n",
    "\n",
    "    chat_response = client.chat(\n",
    "        model=model,\n",
    "        messages=messages,\n",
    "    )\n",
    "\n",
    "    results = chat_response.choices[0].message.content\n",
    "\n",
    "    return results.split(\"\\n\\n\")\n",
    "\n",
    "def convert_to_dict(lines):\n",
    "    visual_dict = {}\n",
    "    for line in lines:\n",
    "        print(line)\n",
    "        if line:\n",
    "            sentence, image_desc = line.split(', SHOW AN IMAGE OF ', 1)\n",
    "            image_desc = image_desc.replace('\"', '')\n",
    "            sentence = sentence.split(' THE SENTENCE ')[1]\n",
    "            sentence = str(sentence).replace('\"', '', 2)\n",
    "            visual_dict[sentence] = image_desc\n",
    "    return visual_dict\n",
    "\n",
    "def get_pictures(story):\n",
    "    return convert_to_dict(get_description_pictures(story))\n"
   ]
  },
  {
   "cell_type": "code",
   "execution_count": 9,
   "metadata": {},
   "outputs": [
    {
     "name": "stdout",
     "output_type": "stream",
     "text": [
      "Houdini is the lead single of Eminems 12th studio album The Death of Slim Shady Coup de Grace The track is named after Harry Houdini a popular magician known for his deathdefying stunts like the Chinese water torture cell which Eminem replicates in the intro to his 1999 track Role Model With the return of longtime collaborator Jeff Bass of the Bass Brothers Eminem revisits his catchy albeit morbid sound of the early 2000s This fanfare track sees him call back to his old catchphrases such as Shadys iconic Guess Whos Back line from the 2002 track Without Me The song heavily samples and interpolates the Steve Miller bands 1982 track Abracadabra On October 24 1926 the legendary Houdini tragically passed away in Detroit Michigan at the age of 52 Interestingly Detroit is also the hometown of Eminem who turns 52 in October 2024 The single was first teased by Eminem on May 20 2024 when he posted a teaser to his social media accounts with a text message from all contacts stating And for my last trick The text message also has the date of May 31 sparking rumors of Eminem releasing music on that day On May 28 2024 Eminem posted a video to Instagram of him on a FaceTime call with magician David Blaine At the end of the video he announced the release of Houdini on May 31 then closed out by stating For my last trick Im gonna make my career disappear Hinting at the death of Slim Shady Coup De Grace being his final album\n",
      "DURING THE SENTENCE \"Houdini is the lead single of Eminems 12th studio album The Death of Slim Shady Coup de Grace\", SHOW AN IMAGE OF \"Eminem album cover\".\n",
      "DURING THE SENTENCE \"The track is named after Harry Houdini\", SHOW AN IMAGE OF \"Harry Houdini\".\n",
      "DURING THE SENTENCE \"a popular magician known for his death-defying stunts like the Chinese water torture cell\", SHOW AN IMAGE OF \"Chinese water torture cell\".\n",
      "DURING THE SENTENCE \"Eminem replicates in the intro to his 1999 track Role Model\", SHOW AN IMAGE OF \"Eminem in Role Model intro\".\n",
      "DURING THE SENTENCE \"With the return of longtime collaborator Jeff Bass of the Bass Brothers\", SHOW AN IMAGE OF \"Jeff Bass and Eminem\".\n",
      "DURING THE SENTENCE \"Eminem revisits his catchy albeit morbid sound of the early 2000s\", SHOW AN IMAGE OF \"Eminem early 2000s style\".\n",
      "DURING THE SENTENCE \"This fanfare track sees him call back to his old catchphrases such as Shadys iconic Guess Whos Back line from the 2002 track Without Me\", SHOW AN IMAGE OF \"Eminem saying Guess Whos Back\".\n",
      "DURING THE SENTENCE \"The song heavily samples and interpolates the Steve Miller bands 1982 track Abracadabra\", SHOW AN IMAGE OF \"Steve Miller Band album cover\".\n",
      "DURING THE SENTENCE \"On October 24 1926 the legendary Houdini tragically passed away in Detroit Michigan at the age of 52\", SHOW AN IMAGE OF \"Houdini's death\".\n",
      "DURING THE SENTENCE \"Interestingly Detroit is also the hometown of Eminem who turns 52 in October 2024\", SHOW AN IMAGE OF \"Detroit skyline\".\n",
      "DURING THE SENTENCE \"The single was first teased by Eminem on May 20 2024 when he posted a teaser to his social media accounts with a text message from all contacts stating\", SHOW AN IMAGE OF \"Eminem's social media post\".\n",
      "DURING THE SENTENCE \"And for my last trick The text message also has the date of May 31 sparking rumors of Eminem releasing music on that day\", SHOW AN IMAGE OF \"Eminem's text message\".\n",
      "DURING THE SENTENCE \"On May 28 2024 Eminem posted a video to Instagram of him on a FaceTime call with magician David Blaine\", SHOW AN IMAGE OF \"Eminem and David Blaine on FaceTime\".\n",
      "DURING THE SENTENCE \"At the end of the video he announced the release of Houdini on May 31 then closed out by stating\", SHOW AN IMAGE OF \"Eminem announcing Houdini release\".\n",
      "DURING THE SENTENCE \"For my last trick Im gonna make my career disappear Hinting at the death of Slim Shady Coup De Grace being his final album\", SHOW AN IMAGE OF \"Eminem disappearing\".\n",
      "{'Houdini is the lead single of Eminems 12th studio album The Death of Slim Shady Coup de Grace': 'Eminem album cover.', 'The track is named after Harry Houdini': 'Harry Houdini.', 'a popular magician known for his death-defying stunts like the Chinese water torture cell': 'Chinese water torture cell.', 'Eminem replicates in the intro to his 1999 track Role Model': 'Eminem in Role Model intro.', 'With the return of longtime collaborator Jeff Bass of the Bass Brothers': 'Jeff Bass and Eminem.', 'Eminem revisits his catchy albeit morbid sound of the early 2000s': 'Eminem early 2000s style.', 'This fanfare track sees him call back to his old catchphrases such as Shadys iconic Guess Whos Back line from the 2002 track Without Me': 'Eminem saying Guess Whos Back.', 'The song heavily samples and interpolates the Steve Miller bands 1982 track Abracadabra': 'Steve Miller Band album cover.', 'On October 24 1926 the legendary Houdini tragically passed away in Detroit Michigan at the age of 52': \"Houdini's death.\", 'Interestingly Detroit is also the hometown of Eminem who turns 52 in October 2024': 'Detroit skyline.', 'The single was first teased by Eminem on May 20 2024 when he posted a teaser to his social media accounts with a text message from all contacts stating': \"Eminem's social media post.\", 'And for my last trick The text message also has the date of May 31 sparking rumors of Eminem releasing music on that day': \"Eminem's text message.\", 'On May 28 2024 Eminem posted a video to Instagram of him on a FaceTime call with magician David Blaine': 'Eminem and David Blaine on FaceTime.', 'At the end of the video he announced the release of Houdini on May 31 then closed out by stating': 'Eminem announcing Houdini release.', 'For my last trick Im gonna make my career disappear Hinting at the death of Slim Shady Coup De Grace being his final album': 'Eminem disappearing.'}\n"
     ]
    }
   ],
   "source": [
    "print(onlychars_text)\n",
    "descriptions = get_pictures(onlychars_text)\n",
    "print(descriptions)"
   ]
  },
  {
   "cell_type": "markdown",
   "metadata": {},
   "source": [
    "### Generate or Find picture"
   ]
  },
  {
   "cell_type": "code",
   "execution_count": 10,
   "metadata": {},
   "outputs": [],
   "source": [
    "from google_images_search import GoogleImagesSearch\n",
    "\n",
    "def download_images(search_names, dirpath):\n",
    "    urls = []\n",
    "    for i,search_term in enumerate(search_names):\n",
    "        gis = GoogleImagesSearch(os.environ['GOOGLE_API_KEY'] , os.environ['GOOGLE_CX_KEY'])\n",
    "        _search_params = {\n",
    "            'q': search_term,\n",
    "        }\n",
    "        gis.search(search_params=_search_params, path_to_dir=dirpath, custom_image_name=str(i).zfill(3))\n",
    "        for result in gis.results():\n",
    "            urls.append(result.url)\n",
    "    return urls\n"
   ]
  },
  {
   "cell_type": "code",
   "execution_count": 11,
   "metadata": {},
   "outputs": [],
   "source": [
    "from icrawler.builtin import GoogleImageCrawler\n",
    "\n",
    "def remove_special_chars(text):\n",
    "    return ''.join(e for e in text.replace(' ', '_') if e.isalnum() and not e == '_')\n",
    "\n",
    "def dl_images(keywords, path, input_names = False, max_num = 2):\n",
    "    for i, keyword in enumerate(keywords):\n",
    "        try:\n",
    "            print(f'Downloading images for {keyword}')\n",
    "            current_path = os.path.join(path, (remove_special_chars(keyword) if input_names else str(i).zfill(3)))\n",
    "            google_Crawler = GoogleImageCrawler(storage = {'root_dir': current_path})\n",
    "            google_Crawler.crawl(keyword = keyword, max_num = max_num, file_idx_offset = 0)\n",
    "        except Exception as e:\n",
    "            print(f'Error while downloading images for {keyword} : error {e}')\n",
    "# dl_images(['Houdini', 'Eminem'], 'images/tests', max_num=3)"
   ]
  },
  {
   "cell_type": "code",
   "execution_count": 12,
   "metadata": {},
   "outputs": [
    {
     "data": {
      "text/plain": [
       "['https://preview.redd.it/ok-so-what-is-eminems-best-and-worst-album-cover-v0-kzffnw0xzamb1.jpg?width=640&crop=smart&auto=webp&s=ce73616d9efb25dcf9fa790f35ad5516870113f8',\n",
       " 'https://upload.wikimedia.org/wikipedia/commons/3/36/Harry_Houdini.png',\n",
       " 'https://upload.wikimedia.org/wikipedia/commons/e/e8/Houdini_performing_Water_Torture_Cell.jpg',\n",
       " 'https://i.ytimg.com/vi/ubEublECnMU/maxresdefault.jpg',\n",
       " 'https://i.ytimg.com/vi/ZgSYaxyrbTI/mqdefault.jpg',\n",
       " 'https://i.pinimg.com/originals/67/40/4a/67404afc61c05cc0c0b2426c8ad3aa86.jpg',\n",
       " 'https://i.redd.it/92qm5us845b71.jpg',\n",
       " 'https://upload.wikimedia.org/wikipedia/en/1/10/SMB_Greatest_Hits-1974-78.jpg',\n",
       " 'https://dhjhkxawhe8q4.cloudfront.net/yup-wp/wp-content/uploads/2022/01/27154220/Jack_Dempsey_Harry_Houdini_and_Benny_Leonard2-scaled-e1583165014237.jpg',\n",
       " 'https://upload.wikimedia.org/wikipedia/commons/thumb/a/a7/Detroit_Skyline_%28123143197%29.jpeg/350px-Detroit_Skyline_%28123143197%29.jpeg',\n",
       " 'https://www.cryptotimes.io/wp-content/uploads/2024/04/Eminem-Hint-at-Crypto.com-Collaboration-in-Social-Media-Post.jpg',\n",
       " 'https://pbs.twimg.com/media/EY4Q4M3VAAA1-DH.jpg:large',\n",
       " 'https://preview.redd.it/eminem-calls-david-on-facetime-for-his-last-trick-v0-g1834acnr93d1.jpeg?auto=webp&s=438a762014b817b1c7416c496eb2f55e8cec850f',\n",
       " 'https://cdnph.upi.com/svc/sv/upi/8151716988866/2024/1/ece62327bb0b420ddfc424b1398b7246/Eminem-to-release-Houdini-single-ahead-of-new-album.jpg',\n",
       " 'https://www.rollingstone.com/wp-content/uploads/2024/04/eminem-april-fools-album.jpg?w=1581&h=1054&crop=1']"
      ]
     },
     "execution_count": 12,
     "metadata": {},
     "output_type": "execute_result"
    }
   ],
   "source": [
    "import os\n",
    "import shutil\n",
    "\n",
    "def clear_folder(folder_path):\n",
    "    for filename in os.listdir(folder_path):\n",
    "        file_path = os.path.join(folder_path, filename)\n",
    "        try:\n",
    "            if os.path.isfile(file_path) or os.path.islink(file_path):\n",
    "                os.unlink(file_path)\n",
    "            elif os.path.isdir(file_path):\n",
    "                shutil.rmtree(file_path)\n",
    "        except Exception as e:\n",
    "            print('Failed to delete %s. Reason: %s' % (file_path, e))\n",
    "\n",
    "clear_folder(f'images/{video_name}')\n",
    "\n",
    "vals = list(descriptions.values())\n",
    "download_images(vals, f'images/{video_name}')\n",
    "# dl_images(vals, f'images/{video_name}', max_num=5)"
   ]
  },
  {
   "cell_type": "markdown",
   "metadata": {},
   "source": [
    "## Create video from the pictures"
   ]
  },
  {
   "cell_type": "code",
   "execution_count": 13,
   "metadata": {},
   "outputs": [],
   "source": [
    "from moviepy.editor import ImageClip, CompositeVideoClip, VideoFileClip, concatenate_videoclips"
   ]
  },
  {
   "cell_type": "markdown",
   "metadata": {},
   "source": [
    "### Adding the pictures"
   ]
  },
  {
   "cell_type": "code",
   "execution_count": 14,
   "metadata": {},
   "outputs": [],
   "source": [
    "import nltk\n",
    "def find_closest_match(words, target):\n",
    "    # print(f'try to find \"{target}\" in \"{words}\"')\n",
    "    target_words = nltk.word_tokenize(target)\n",
    "    similarities = []\n",
    "    for i in range(len(words) - len(target_words) + 1):\n",
    "        similarity = nltk.jaccard_distance(set(target_words), set(words[i:i+len(target_words)]))\n",
    "        # print(f'similarity between {target_words} and {words[i:i+len(target_words)]} : {similarity}')\n",
    "        similarities.append(similarity)\n",
    "    # print(similarities)\n",
    "    # print(type(similarities))\n",
    "    best_match_index = similarities.index(min(similarities))\n",
    "\n",
    "    return ' '.join(words[best_match_index:best_match_index+len(target_words)])\n",
    "\n",
    "\n",
    "def get_sentence_timings(transcription, sentence):\n",
    "    \"\"\"\n",
    "    Returns the start and end timings of a sentence in a transcription object.\n",
    "\n",
    "    Args:\n",
    "    transcription (Transcription): The transcription object.\n",
    "    sentence (str): The sentence to search for.\n",
    "\n",
    "    Returns:\n",
    "    tuple: A tuple containing the start and end timings of the sentence.\n",
    "    \"\"\"\n",
    "    word_list = [d['word'] for d in transcription.words]\n",
    "    sentence = find_closest_match(word_list, sentence)\n",
    "    # sentence = onlychars(sentence)\n",
    "    # print(f'try to find {sentence} in {word_list}')\n",
    "    \n",
    "    words = transcription.words\n",
    "    sentence = sentence.replace('...', ' ').replace('\\\"', ' ').replace('.', '')\n",
    "    sentence_words = sentence.split()\n",
    "    sentence_start = None\n",
    "    sentence_end = None\n",
    "\n",
    "    # print(f'try to find {sentence_words} in {words}')\n",
    "    \n",
    "    i = 0\n",
    "    while i < len(words):\n",
    "        if words[i]['word'].lower() == sentence_words[0].lower():\n",
    "            # print(f'found {sentence_words[0]}')\n",
    "            j = 1\n",
    "            while j < len(sentence_words) and i + j < len(words) and words[i + j]['word'].lower() == sentence_words[j].lower():\n",
    "                j += 1\n",
    "            if j == len(sentence_words):\n",
    "                sentence_start = words[i]['start']\n",
    "                sentence_end = words[i + j - 1]['end']\n",
    "                break\n",
    "            # print(f'found {sentence_words[:j]} but not the rest')\n",
    "        i += 1\n",
    "        \n",
    "    if(sentence_start == None or sentence_end == None):\n",
    "        print(f\"no timings found for '{sentence}'\")\n",
    "    else:\n",
    "        print(f\"timings found for '{sentence}' : {sentence_start} to {sentence_end}\")    \n",
    "        sentence_start = round(sentence_start, 2)\n",
    "        sentence_end = round(sentence_end, 2)\n",
    "    return sentence_start, sentence_end"
   ]
  },
  {
   "cell_type": "code",
   "execution_count": 15,
   "metadata": {},
   "outputs": [],
   "source": [
    "def duplicate_video(input_video_path, output_video_path, duration = 0):\n",
    "    clip = VideoFileClip(input_video_path)\n",
    "    clip = clip.subclip(0, duration) if clip.duration > duration else clip\n",
    "    clip.write_videofile(output_video_path)"
   ]
  },
  {
   "cell_type": "code",
   "execution_count": 16,
   "metadata": {},
   "outputs": [],
   "source": [
    "if(not os.path.exists(f'videos/results/{video_name}.mp4')):\n",
    "    duplicate_video('videos\\satifying\\satisfying.mp4', f'videos/results/{video_name}.mp4', timing_description.duration)"
   ]
  },
  {
   "cell_type": "code",
   "execution_count": 17,
   "metadata": {},
   "outputs": [],
   "source": [
    "import os\n",
    "\n",
    "def select_images(directory):\n",
    "    file_list = os.listdir(directory)\n",
    "    file_list = [f for f in file_list if os.path.isfile(os.path.join(directory, f))]\n",
    "    file_list.sort(key=lambda x: int(''.join(filter(str.isdigit, x))))\n",
    "    file_paths = [os.path.join(directory, f) for f in file_list]\n",
    "    return file_paths"
   ]
  },
  {
   "cell_type": "code",
   "execution_count": 18,
   "metadata": {},
   "outputs": [],
   "source": [
    "import random\n",
    "\n",
    "def select_images_V2(root_dir, weight_decay=0.9):\n",
    "    image_list = []\n",
    "    for folder in os.listdir(root_dir):\n",
    "        folder_path = os.path.join(root_dir, folder)\n",
    "        if os.path.isdir(folder_path):\n",
    "            images = [f for f in os.listdir(folder_path) if f.endswith(('.png', '.jpg', '.jpeg'))]\n",
    "            if images:\n",
    "                weights = [weight_decay**i for i in range(len(images))]\n",
    "                image_list.append(os.path.join(folder_path, images[random.choices(range(len(images)), weights=weights)[0]]))\n",
    "    return image_list"
   ]
  },
  {
   "cell_type": "code",
   "execution_count": 19,
   "metadata": {},
   "outputs": [
    {
     "name": "stdout",
     "output_type": "stream",
     "text": [
      "timings found for 'Houdini is the lead single of Eminem's 12th studio album The Death of Slim Shady Coup de Grace' : 0.0 to 5.800000190734863\n",
      "timings found for 'The track is named after Harry Houdini' : 6.980000019073486 to 8.680000305175781\n",
      "timings found for 'a popular magician known for his death defying stunts like the Chinese water torture' : 9.100000381469727 to 14.180000305175781\n",
      "timings found for 'Eminem replicates in the intro to his 1999 track Role Model' : 15.359999656677246 to 19.219999313354492\n",
      "timings found for 'With the return of longtime collaborator Jeff Bass of the Bass Brothers' : 20.0 to 23.5\n",
      "timings found for 'Eminem revisits his catchy albeit morbid sound of the early 2000s' : 24.219999313354492 to 28.31999969482422\n",
      "timings found for 'This fanfare track sees him call back to his old catchphrases such as Shady's iconic Guess Who's Back line from the 2002 track Without Me' : 28.780000686645508 to 38.220001220703125\n",
      "timings found for 'The song heavily samples and interpolates the Steve Miller band's 1982 track Abracadabra' : 38.84000015258789 to 44.52000045776367\n",
      "timings found for 'On October 24 1926 the legendary Houdini tragically passed away in Detroit Michigan at the age of 52' : 45.2400016784668 to 52.720001220703125\n",
      "timings found for 'Interestingly Detroit is also the hometown of Eminem who turns 52 in October 2024' : 53.41999816894531 to 59.959999084472656\n",
      "timings found for 'The single was first teased by Eminem on May 20 2024 when he posted a teaser to his social media accounts with a text message from all contacts stating' : 60.599998474121094 to 70.69999694824219\n",
      "timings found for 'And for my last trick The text message also has the date of May 31 sparking rumors of Eminem releasing music on that day' : 71.08000183105469 to 77.77999877929688\n",
      "timings found for 'On May 28 2024 Eminem posted a video to Instagram of him on a FaceTime call with magician David Blaine' : 77.86000061035156 to 85.81999969482422\n",
      "timings found for 'At the end of the video he announced the release of Houdini on May 31 then closed out by stating' : 86.4800033569336 to 92.4000015258789\n",
      "timings found for 'stating For my last trick I'm gonna make my career disappear Hinting at the death of Slim Shady Coup De Grace being his final album' : 92.27999877929688 to 99.94000244140625\n",
      "[(0.0, 5.8), (6.98, 8.68), (9.1, 14.18), (15.36, 19.22), (20.0, 23.5), (24.22, 28.32), (28.78, 38.22), (38.84, 44.52), (45.24, 52.72), (53.42, 59.96), (60.6, 70.7), (71.08, 77.78), (77.86, 85.82), (86.48, 92.4), (92.4, 99.94)]\n",
      "['images/Eminem-Houdini\\\\000.jpg', 'images/Eminem-Houdini\\\\001.png', 'images/Eminem-Houdini\\\\002.jpg', 'images/Eminem-Houdini\\\\003.jpg', 'images/Eminem-Houdini\\\\004.jpg', 'images/Eminem-Houdini\\\\005.jpg', 'images/Eminem-Houdini\\\\006.jpg', 'images/Eminem-Houdini\\\\007.jpg', 'images/Eminem-Houdini\\\\008.jpg', 'images/Eminem-Houdini\\\\009.jpeg', 'images/Eminem-Houdini\\\\010.jpg', 'images/Eminem-Houdini\\\\011.jpg', 'images/Eminem-Houdini\\\\012.jpeg', 'images/Eminem-Houdini\\\\013.jpg', 'images/Eminem-Houdini\\\\014.jpg']\n",
      "15 15\n"
     ]
    }
   ],
   "source": [
    "i=0\n",
    "timings = []\n",
    "images = select_images(f'images/{video_name}')\n",
    "# images = select_images_V2(f'images/{video_name}')\n",
    "m = 0\n",
    "for key in list(descriptions.keys()):\n",
    "    # timing_description is the original transcription\n",
    "    # key is the sentence\n",
    "    start_time, end_time = get_sentence_timings(timing_description, key)\n",
    "    if(start_time < m):\n",
    "        start_time = m\n",
    "    m = end_time\n",
    "    if(start_time == None or end_time == None):\n",
    "        continue\n",
    "    timings.append((start_time, end_time))\n",
    "    # print(start_time, end_time)\n",
    "    # add_image_to_video(f'videos/results/{video_name}.mp4', f'videos/results/{video_name}.mp4', f'images/{video_name}/{i}.jpg', start_time, end_time - start_time, 0, 0, 1280, 720)\n",
    "    i+=1\n",
    "\n",
    "print(timings)\n",
    "print(images)\n",
    "print(len(timings), len(images))"
   ]
  },
  {
   "cell_type": "code",
   "execution_count": 20,
   "metadata": {},
   "outputs": [
    {
     "name": "stdout",
     "output_type": "stream",
     "text": [
      "No error\n"
     ]
    }
   ],
   "source": [
    "if(len(timings) != len(images)):\n",
    "    print('Error')\n",
    "    print(\"Number of images and timings do not match\")\n",
    "else:\n",
    "    print('No error')\n",
    "    "
   ]
  },
  {
   "cell_type": "code",
   "execution_count": 21,
   "metadata": {},
   "outputs": [],
   "source": [
    "def add_multiple_images_to_video(input_video_path, output_video_path, images, timings):\n",
    "    print(f\"Adding {len(images)} images to the video\")\n",
    "    print(f\"Images : {images}\")\n",
    "    print(f\"Timings : {timings}\")\n",
    "    \n",
    "    images = images.copy()\n",
    "    clip = VideoFileClip(input_video_path, audio=False)\n",
    "    clips = []\n",
    "    offset = 0\n",
    "    \n",
    "    for start_time, end_time in timings:\n",
    "        if start_time == None or end_time == None:\n",
    "            print(\"Could not find timings\")\n",
    "            continue\n",
    "        print(f\"Adding image {images[0]} from {start_time} to {end_time}\")\n",
    "        # print(len(images))\n",
    "        clip_before = clip.subclip(0, start_time-offset)\n",
    "        clip_with_image = clip.subclip(start_time-offset, end_time-offset)\n",
    "        clip_after = clip.subclip(end_time-offset, clip.duration)\n",
    "        offset += clip_before.duration + clip_with_image.duration\n",
    "        \n",
    "        try:\n",
    "            image_clip = ImageClip(images.pop(0))\n",
    "            image_clip = image_clip.resize(width=clip.w/2, height=clip.h/2)\n",
    "            image_clip = image_clip.set_pos(('center', 'center'))\n",
    "            image_clip = image_clip.set_start(0).set_duration(clip_with_image.duration)\n",
    "        except Exception as e:\n",
    "            print(f\"Error while adding image : {e}\")\n",
    "            # clips.append(clip_with_image)\n",
    "            continue\n",
    "        final_clip_middle = CompositeVideoClip([clip_with_image, image_clip])\n",
    "\n",
    "        final_clip = concatenate_videoclips([clip_before, final_clip_middle])\n",
    "\n",
    "        clip = clip_after\n",
    "        \n",
    "        clips.append(final_clip)\n",
    "\n",
    "    clips.append(clip)\n",
    "    final_clip = concatenate_videoclips(clips, method=\"chain\")\n",
    "\n",
    "    # Save the video\n",
    "    final_clip.write_videofile(output_video_path)"
   ]
  },
  {
   "cell_type": "code",
   "execution_count": 22,
   "metadata": {},
   "outputs": [
    {
     "name": "stdout",
     "output_type": "stream",
     "text": [
      "Adding 15 images to the video\n",
      "Images : ['images/Eminem-Houdini\\\\000.jpg', 'images/Eminem-Houdini\\\\001.png', 'images/Eminem-Houdini\\\\002.jpg', 'images/Eminem-Houdini\\\\003.jpg', 'images/Eminem-Houdini\\\\004.jpg', 'images/Eminem-Houdini\\\\005.jpg', 'images/Eminem-Houdini\\\\006.jpg', 'images/Eminem-Houdini\\\\007.jpg', 'images/Eminem-Houdini\\\\008.jpg', 'images/Eminem-Houdini\\\\009.jpeg', 'images/Eminem-Houdini\\\\010.jpg', 'images/Eminem-Houdini\\\\011.jpg', 'images/Eminem-Houdini\\\\012.jpeg', 'images/Eminem-Houdini\\\\013.jpg', 'images/Eminem-Houdini\\\\014.jpg']\n",
      "Timings : [(0.0, 5.8), (6.98, 8.68), (9.1, 14.18), (15.36, 19.22), (20.0, 23.5), (24.22, 28.32), (28.78, 38.22), (38.84, 44.52), (45.24, 52.72), (53.42, 59.96), (60.6, 70.7), (71.08, 77.78), (77.86, 85.82), (86.48, 92.4), (92.4, 99.94)]\n",
      "Adding image images/Eminem-Houdini\\000.jpg from 0.0 to 5.8\n",
      "Adding image images/Eminem-Houdini\\001.png from 6.98 to 8.68\n",
      "Adding image images/Eminem-Houdini\\002.jpg from 9.1 to 14.18\n",
      "Adding image images/Eminem-Houdini\\003.jpg from 15.36 to 19.22\n",
      "Adding image images/Eminem-Houdini\\004.jpg from 20.0 to 23.5\n",
      "Adding image images/Eminem-Houdini\\005.jpg from 24.22 to 28.32\n",
      "Adding image images/Eminem-Houdini\\006.jpg from 28.78 to 38.22\n",
      "Adding image images/Eminem-Houdini\\007.jpg from 38.84 to 44.52\n",
      "Adding image images/Eminem-Houdini\\008.jpg from 45.24 to 52.72\n",
      "Adding image images/Eminem-Houdini\\009.jpeg from 53.42 to 59.96\n",
      "Adding image images/Eminem-Houdini\\010.jpg from 60.6 to 70.7\n",
      "Adding image images/Eminem-Houdini\\011.jpg from 71.08 to 77.78\n",
      "Error while adding image : Could not find a backend to open `images/Eminem-Houdini\\011.jpg`` with iomode `ri`.\n",
      "Adding image images/Eminem-Houdini\\012.jpeg from 77.86 to 85.82\n",
      "Adding image images/Eminem-Houdini\\013.jpg from 86.48 to 92.4\n",
      "Adding image images/Eminem-Houdini\\014.jpg from 92.4 to 99.94\n",
      "Moviepy - Building video videos/results/Eminem-Houdini_V2.mp4.\n",
      "Moviepy - Writing video videos/results/Eminem-Houdini_V2.mp4\n",
      "\n"
     ]
    },
    {
     "name": "stderr",
     "output_type": "stream",
     "text": [
      "                                                                 \r"
     ]
    },
    {
     "name": "stdout",
     "output_type": "stream",
     "text": [
      "Moviepy - Done !\n",
      "Moviepy - video ready videos/results/Eminem-Houdini_V2.mp4\n"
     ]
    }
   ],
   "source": [
    "# video_name = \"Eminem-Houdini\"\n",
    "add_multiple_images_to_video(f'videos/results/{video_name}.mp4', f'videos/results/{video_name}_V2.mp4', images, timings)"
   ]
  },
  {
   "cell_type": "code",
   "execution_count": null,
   "metadata": {},
   "outputs": [],
   "source": []
  },
  {
   "cell_type": "markdown",
   "metadata": {},
   "source": [
    "## Sounds"
   ]
  },
  {
   "cell_type": "markdown",
   "metadata": {},
   "source": [
    "### The voice"
   ]
  },
  {
   "cell_type": "code",
   "execution_count": 23,
   "metadata": {},
   "outputs": [],
   "source": [
    "# imports\n",
    "from moviepy.editor import AudioFileClip, CompositeAudioClip"
   ]
  },
  {
   "cell_type": "code",
   "execution_count": 24,
   "metadata": {},
   "outputs": [],
   "source": [
    "def add_audio_to_video(video_path, audio_path, output_path):\n",
    "    # Load the video and the audio file\n",
    "    video = VideoFileClip(video_path)\n",
    "    audio = AudioFileClip(audio_path)\n",
    "\n",
    "    print(f\"Video duration : {video.duration}\")\n",
    "    print(f\"Audio duration : {audio.duration}\")\n",
    "    \n",
    "    # If the audio file is longer than the video, trim it to the duration of the video\n",
    "    if audio.duration > video.duration:\n",
    "        audio = audio.subclip(0, video.duration)\n",
    "        print(\"Audio is longer than video, trimming to video duration\")\n",
    "    if video.duration > audio.duration:\n",
    "        video = video.subclip(0, audio.duration)\n",
    "        print(\"Video is longer than audio, repeating audio to video duration\")\n",
    "\n",
    "    # Make the audio file as long as the video file\n",
    "    final_audio = CompositeAudioClip([audio.set_duration(video.duration)])\n",
    "\n",
    "    # Set the audio of the video to the final_audio\n",
    "    final_video = video.set_audio(final_audio)\n",
    "\n",
    "    # Write the result to a file\n",
    "    \n",
    "    final_video.write_videofile(output_path)"
   ]
  },
  {
   "cell_type": "code",
   "execution_count": 25,
   "metadata": {},
   "outputs": [
    {
     "name": "stdout",
     "output_type": "stream",
     "text": [
      "Video duration : 101.33\n",
      "Audio duration : 101.03999999999999\n",
      "Video is longer than audio, repeating audio to video duration\n",
      "Moviepy - Building video videos/results/Eminem-Houdini_V3.mp4.\n",
      "MoviePy - Writing audio in Eminem-Houdini_V3TEMP_MPY_wvf_snd.mp3\n"
     ]
    },
    {
     "name": "stderr",
     "output_type": "stream",
     "text": [
      "                                                                     \r"
     ]
    },
    {
     "name": "stdout",
     "output_type": "stream",
     "text": [
      "MoviePy - Done.\n",
      "Moviepy - Writing video videos/results/Eminem-Houdini_V3.mp4\n",
      "\n"
     ]
    },
    {
     "name": "stderr",
     "output_type": "stream",
     "text": [
      "                                                                 \r"
     ]
    },
    {
     "name": "stdout",
     "output_type": "stream",
     "text": [
      "Moviepy - Done !\n",
      "Moviepy - video ready videos/results/Eminem-Houdini_V3.mp4\n"
     ]
    }
   ],
   "source": [
    "add_audio_to_video(f'videos/results/{video_name}_V2.mp4', 'audio_description.mp3', f'videos/results/{video_name}_V3.mp4')"
   ]
  },
  {
   "cell_type": "markdown",
   "metadata": {},
   "source": [
    "### Music"
   ]
  },
  {
   "cell_type": "markdown",
   "metadata": {},
   "source": [
    "## Subtitles"
   ]
  },
  {
   "cell_type": "code",
   "execution_count": 26,
   "metadata": {},
   "outputs": [],
   "source": [
    "from moviepy.editor import *\n",
    "\n",
    "def add_subtitles_to_video(video_path, subtitles, output_path, position = ('center', 0.1)):\n",
    "    # Load the video\n",
    "    print(video_path)\n",
    "    video = VideoFileClip(video_path)\n",
    "\n",
    "    # Create a list of TextClip objects for each subtitle\n",
    "    text_clips = []\n",
    "    for word in subtitles.words:\n",
    "        # print(word['word'], word['start'], word['end'])\n",
    "        text_clip = TextClip(word['word'], fontsize=60, color='white')\n",
    "        text_clip = text_clip.set_start(word['start']).set_duration(word['end'] - word['start'])\n",
    "        text_clip = text_clip.set_position(position)\n",
    "        text_clips.append(text_clip)\n",
    "\n",
    "    # Overlay the text clips on the video\n",
    "    final_video = CompositeVideoClip([video] + text_clips)\n",
    "    \n",
    "    final_video.write_videofile(output_path)"
   ]
  },
  {
   "cell_type": "code",
   "execution_count": 27,
   "metadata": {},
   "outputs": [
    {
     "name": "stdout",
     "output_type": "stream",
     "text": [
      "videos/results/Eminem-Houdini_V3.mp4\n",
      "Moviepy - Building video videos/results/Eminem-Houdini_V4.mp4.\n",
      "MoviePy - Writing audio in Eminem-Houdini_V4TEMP_MPY_wvf_snd.mp3\n"
     ]
    },
    {
     "name": "stderr",
     "output_type": "stream",
     "text": [
      "                                                                      \r"
     ]
    },
    {
     "name": "stdout",
     "output_type": "stream",
     "text": [
      "MoviePy - Done.\n",
      "Moviepy - Writing video videos/results/Eminem-Houdini_V4.mp4\n",
      "\n"
     ]
    },
    {
     "name": "stderr",
     "output_type": "stream",
     "text": [
      "                                                                \r"
     ]
    },
    {
     "name": "stdout",
     "output_type": "stream",
     "text": [
      "Moviepy - Done !\n",
      "Moviepy - video ready videos/results/Eminem-Houdini_V4.mp4\n"
     ]
    }
   ],
   "source": [
    "add_subtitles_to_video(f'videos/results/{video_name}_V3.mp4', timing_description, f'videos/results/{video_name}_V4.mp4')"
   ]
  },
  {
   "cell_type": "code",
   "execution_count": null,
   "metadata": {},
   "outputs": [],
   "source": []
  }
 ],
 "metadata": {
  "kernelspec": {
   "display_name": "Python 3",
   "language": "python",
   "name": "python3"
  },
  "language_info": {
   "codemirror_mode": {
    "name": "ipython",
    "version": 3
   },
   "file_extension": ".py",
   "mimetype": "text/x-python",
   "name": "python",
   "nbconvert_exporter": "python",
   "pygments_lexer": "ipython3",
   "version": "3.11.4"
  }
 },
 "nbformat": 4,
 "nbformat_minor": 2
}
