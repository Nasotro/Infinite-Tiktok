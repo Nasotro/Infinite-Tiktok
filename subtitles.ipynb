{
 "cells": [
  {
   "cell_type": "code",
   "execution_count": 3,
   "metadata": {},
   "outputs": [],
   "source": [
    "from moviepy.editor import *\n",
    "\n",
    "def add_subtitles_to_video(video_path, subtitles, output_path):\n",
    "    # Load the video\n",
    "    print(video_path)\n",
    "    video = VideoFileClip(video_path)\n",
    "\n",
    "    # Create a list of TextClip objects for each subtitle\n",
    "    text_clips = []\n",
    "    for word in subtitles['words']:\n",
    "        print(word['word'], word['start'], word['end'])\n",
    "        text_clip = TextClip(word['word'], fontsize=24, color='white')\n",
    "        text_clip = text_clip.set_start(word['start']).set_duration(word['end'] - word['start'])\n",
    "        text_clips.append(text_clip)\n",
    "\n",
    "    # Overlay the text clips on the video\n",
    "    final_video = CompositeVideoClip([video] + text_clips)\n",
    "    \n",
    "    final_video.write_videofile(output_path)\n"
   ]
  },
  {
   "cell_type": "code",
   "execution_count": 4,
   "metadata": {},
   "outputs": [
    {
     "name": "stdout",
     "output_type": "stream",
     "text": [
      "videos/tests/input.mp4\n",
      "Hello 0 1\n",
      "world 1 2\n",
      "! 2 3\n",
      "Moviepy - Building video videos/tests/output.mp4.\n",
      "MoviePy - Writing audio in outputTEMP_MPY_wvf_snd.mp3\n"
     ]
    },
    {
     "name": "stderr",
     "output_type": "stream",
     "text": [
      "                                                                   \r"
     ]
    },
    {
     "name": "stdout",
     "output_type": "stream",
     "text": [
      "MoviePy - Done.\n",
      "Moviepy - Writing video videos/tests/output.mp4\n",
      "\n"
     ]
    },
    {
     "name": "stderr",
     "output_type": "stream",
     "text": [
      "                                                              \r"
     ]
    },
    {
     "name": "stdout",
     "output_type": "stream",
     "text": [
      "Moviepy - Done !\n",
      "Moviepy - video ready videos/tests/output.mp4\n"
     ]
    }
   ],
   "source": [
    "subtitles = {\n",
    "    'words': [\n",
    "        {'word': 'Hello', 'start': 0, 'end': 1},\n",
    "        {'word': 'world', 'start': 1, 'end': 2},\n",
    "        {'word': '!', 'start': 2, 'end': 3},\n",
    "    ]\n",
    "}\n",
    "\n",
    "add_subtitles_to_video('videos/tests/input.mp4', subtitles, 'videos/tests/output.mp4')"
   ]
  },
  {
   "cell_type": "code",
   "execution_count": null,
   "metadata": {},
   "outputs": [],
   "source": []
  }
 ],
 "metadata": {
  "kernelspec": {
   "display_name": "Python 3",
   "language": "python",
   "name": "python3"
  },
  "language_info": {
   "codemirror_mode": {
    "name": "ipython",
    "version": 3
   },
   "file_extension": ".py",
   "mimetype": "text/x-python",
   "name": "python",
   "nbconvert_exporter": "python",
   "pygments_lexer": "ipython3",
   "version": "3.11.4"
  }
 },
 "nbformat": 4,
 "nbformat_minor": 2
}
