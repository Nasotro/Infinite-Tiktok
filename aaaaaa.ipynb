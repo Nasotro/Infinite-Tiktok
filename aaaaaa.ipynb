{
 "cells": [
  {
   "cell_type": "code",
   "execution_count": 1,
   "metadata": {},
   "outputs": [],
   "source": [
    "from Animations import MoveAnimation\n",
    "from moviepy.editor import ImageSequenceClip, ImageClip, CompositeVideoClip, VideoFileClip, concatenate_videoclips\n",
    "\n",
    "import os"
   ]
  },
  {
   "cell_type": "code",
   "execution_count": 2,
   "metadata": {},
   "outputs": [],
   "source": [
    "def add_multiple_images_to_video(input_video_path, output_video_path, images, timings):\n",
    "    images = images.copy()\n",
    "    clip = VideoFileClip(input_video_path, audio=False)\n",
    "    clips = []\n",
    "    offset = 0\n",
    "    \n",
    "    for start_time, end_time in timings:\n",
    "        if start_time == None or end_time == None:\n",
    "            print(\"Could not find timings\")\n",
    "            continue\n",
    "        print(f\"Adding image {images[0]} from {start_time} to {end_time}\")\n",
    "        # print(len(images))\n",
    "        clip_before = clip.subclip(0, start_time-offset)\n",
    "        clip_with_image = clip.subclip(start_time-offset, end_time-offset)\n",
    "        clip_after = clip.subclip(end_time-offset, clip.duration)\n",
    "        offset += clip_before.duration + clip_with_image.duration\n",
    "        \n",
    "        image_clip = ImageClip(images.pop(0))\n",
    "        image_clip = image_clip.resize(width=clip.w/2, height=clip.h/2)\n",
    "        image_clip = image_clip.set_pos(('center', 'center'))\n",
    "        image_clip = image_clip.set_start(0).set_duration(clip_with_image.duration)\n",
    "\n",
    "        final_clip_middle = CompositeVideoClip([clip_with_image, image_clip])\n",
    "\n",
    "        final_clip = concatenate_videoclips([clip_before, final_clip_middle])\n",
    "\n",
    "        clip = clip_after\n",
    "        \n",
    "        clips.append(final_clip)\n",
    "\n",
    "    clips.append(clip)\n",
    "    final_clip = concatenate_videoclips(clips, method=\"chain\")\n",
    "\n",
    "    # Save the video\n",
    "    final_clip.write_videofile(output_video_path)"
   ]
  },
  {
   "cell_type": "code",
   "execution_count": 3,
   "metadata": {},
   "outputs": [
    {
     "name": "stdout",
     "output_type": "stream",
     "text": [
      "Adding image images\\Eminem-Houdini\\0.jpg from 0 to 6.8\n",
      "Adding image images\\Eminem-Houdini\\1.jpg from 6.8 to 8.53\n",
      "Adding image images\\Eminem-Houdini\\2.jpg from 8.53 to 10.26\n",
      "Moviepy - Building video videos/tests/result2.mp4.\n",
      "Moviepy - Writing video videos/tests/result2.mp4\n",
      "\n"
     ]
    },
    {
     "name": "stderr",
     "output_type": "stream",
     "text": [
      "                                                               \r"
     ]
    },
    {
     "name": "stdout",
     "output_type": "stream",
     "text": [
      "Moviepy - Done !\n",
      "Moviepy - video ready videos/tests/result2.mp4\n"
     ]
    }
   ],
   "source": [
    "add_multiple_images_to_video(r'videos\\tests\\input2.mp4', 'videos/tests/result2.mp4', [r'images\\Eminem-Houdini\\0.jpg', r'images\\Eminem-Houdini\\1.jpg', r'images\\Eminem-Houdini\\2.jpg'], [(0, 6.80), (6.80, 8.53), (8.53, 10.26)])"
   ]
  },
  {
   "cell_type": "code",
   "execution_count": 4,
   "metadata": {},
   "outputs": [],
   "source": [
    "\n",
    "def remove_suffix(folder_path, suffix):\n",
    "    files = os.listdir(folder_path)\n",
    "    for file in files:\n",
    "        if os.path.isfile(os.path.join(folder_path, file)):\n",
    "            file_name, file_ext = os.path.splitext(file)\n",
    "            if file_name.endswith(suffix):\n",
    "                new_file_name = file_name[:-len(suffix)] + file_ext\n",
    "                os.rename(os.path.join(folder_path, file), os.path.join(folder_path, new_file_name))\n",
    "\n",
    "# Example usage\n",
    "frame_path = 'images\\\\frames'\n",
    "suffix = '_delay'\n",
    "remove_suffix(frame_path, suffix)"
   ]
  },
  {
   "cell_type": "markdown",
   "metadata": {},
   "source": [
    "## Having fun with videos editing"
   ]
  },
  {
   "cell_type": "markdown",
   "metadata": {},
   "source": [
    "### frames to video"
   ]
  },
  {
   "cell_type": "code",
   "execution_count": 5,
   "metadata": {},
   "outputs": [
    {
     "name": "stdout",
     "output_type": "stream",
     "text": [
      "Moviepy - Building video output_video.mp4.\n",
      "Moviepy - Writing video output_video.mp4\n",
      "\n"
     ]
    },
    {
     "name": "stderr",
     "output_type": "stream",
     "text": [
      "t:  29%|██▉       | 37/126 [00:00<00:00, 204.35it/s, now=None]"
     ]
    },
    {
     "ename": "KeyboardInterrupt",
     "evalue": "",
     "output_type": "error",
     "traceback": [
      "\u001b[1;31m---------------------------------------------------------------------------\u001b[0m",
      "\u001b[1;31mKeyboardInterrupt\u001b[0m                         Traceback (most recent call last)",
      "Cell \u001b[1;32mIn[5], line 3\u001b[0m\n\u001b[0;32m      1\u001b[0m images_list \u001b[38;5;241m=\u001b[39m [os\u001b[38;5;241m.\u001b[39mpath\u001b[38;5;241m.\u001b[39mjoin(\u001b[38;5;124m'\u001b[39m\u001b[38;5;124mimages\u001b[39m\u001b[38;5;130;01m\\\\\u001b[39;00m\u001b[38;5;124mframes\u001b[39m\u001b[38;5;124m'\u001b[39m, frame) \u001b[38;5;28;01mfor\u001b[39;00m frame \u001b[38;5;129;01min\u001b[39;00m os\u001b[38;5;241m.\u001b[39mlistdir(\u001b[38;5;124m'\u001b[39m\u001b[38;5;124mimages\u001b[39m\u001b[38;5;130;01m\\\\\u001b[39;00m\u001b[38;5;124mframes\u001b[39m\u001b[38;5;124m'\u001b[39m)] \u001b[38;5;66;03m# your images list\u001b[39;00m\n\u001b[0;32m      2\u001b[0m clip \u001b[38;5;241m=\u001b[39m ImageSequenceClip(images_list, fps\u001b[38;5;241m=\u001b[39m\u001b[38;5;241m24\u001b[39m)  \u001b[38;5;66;03m# fps: frames per second\u001b[39;00m\n\u001b[1;32m----> 3\u001b[0m \u001b[43mclip\u001b[49m\u001b[38;5;241;43m.\u001b[39;49m\u001b[43mwrite_videofile\u001b[49m\u001b[43m(\u001b[49m\u001b[38;5;124;43m\"\u001b[39;49m\u001b[38;5;124;43moutput_video.mp4\u001b[39;49m\u001b[38;5;124;43m\"\u001b[39;49m\u001b[43m)\u001b[49m\n",
      "File \u001b[1;32m<decorator-gen-73>:2\u001b[0m, in \u001b[0;36mwrite_videofile\u001b[1;34m(self, filename, fps, codec, bitrate, audio, audio_fps, preset, audio_nbytes, audio_codec, audio_bitrate, audio_bufsize, temp_audiofile, rewrite_audio, remove_temp, write_logfile, verbose, threads, ffmpeg_params, logger)\u001b[0m\n",
      "File \u001b[1;32mc:\\Users\\lorra\\AppData\\Local\\Programs\\Python\\Python311\\Lib\\site-packages\\moviepy\\decorators.py:54\u001b[0m, in \u001b[0;36mrequires_duration\u001b[1;34m(f, clip, *a, **k)\u001b[0m\n\u001b[0;32m     52\u001b[0m     \u001b[38;5;28;01mraise\u001b[39;00m \u001b[38;5;167;01mValueError\u001b[39;00m(\u001b[38;5;124m\"\u001b[39m\u001b[38;5;124mAttribute \u001b[39m\u001b[38;5;124m'\u001b[39m\u001b[38;5;124mduration\u001b[39m\u001b[38;5;124m'\u001b[39m\u001b[38;5;124m not set\u001b[39m\u001b[38;5;124m\"\u001b[39m)\n\u001b[0;32m     53\u001b[0m \u001b[38;5;28;01melse\u001b[39;00m:\n\u001b[1;32m---> 54\u001b[0m     \u001b[38;5;28;01mreturn\u001b[39;00m \u001b[43mf\u001b[49m\u001b[43m(\u001b[49m\u001b[43mclip\u001b[49m\u001b[43m,\u001b[49m\u001b[43m \u001b[49m\u001b[38;5;241;43m*\u001b[39;49m\u001b[43ma\u001b[49m\u001b[43m,\u001b[49m\u001b[43m \u001b[49m\u001b[38;5;241;43m*\u001b[39;49m\u001b[38;5;241;43m*\u001b[39;49m\u001b[43mk\u001b[49m\u001b[43m)\u001b[49m\n",
      "File \u001b[1;32m<decorator-gen-72>:2\u001b[0m, in \u001b[0;36mwrite_videofile\u001b[1;34m(self, filename, fps, codec, bitrate, audio, audio_fps, preset, audio_nbytes, audio_codec, audio_bitrate, audio_bufsize, temp_audiofile, rewrite_audio, remove_temp, write_logfile, verbose, threads, ffmpeg_params, logger)\u001b[0m\n",
      "File \u001b[1;32mc:\\Users\\lorra\\AppData\\Local\\Programs\\Python\\Python311\\Lib\\site-packages\\moviepy\\decorators.py:135\u001b[0m, in \u001b[0;36muse_clip_fps_by_default\u001b[1;34m(f, clip, *a, **k)\u001b[0m\n\u001b[0;32m    130\u001b[0m new_a \u001b[38;5;241m=\u001b[39m [fun(arg) \u001b[38;5;28;01mif\u001b[39;00m (name\u001b[38;5;241m==\u001b[39m\u001b[38;5;124m'\u001b[39m\u001b[38;5;124mfps\u001b[39m\u001b[38;5;124m'\u001b[39m) \u001b[38;5;28;01melse\u001b[39;00m arg\n\u001b[0;32m    131\u001b[0m          \u001b[38;5;28;01mfor\u001b[39;00m (arg, name) \u001b[38;5;129;01min\u001b[39;00m \u001b[38;5;28mzip\u001b[39m(a, names)]\n\u001b[0;32m    132\u001b[0m new_kw \u001b[38;5;241m=\u001b[39m {k: fun(v) \u001b[38;5;28;01mif\u001b[39;00m k\u001b[38;5;241m==\u001b[39m\u001b[38;5;124m'\u001b[39m\u001b[38;5;124mfps\u001b[39m\u001b[38;5;124m'\u001b[39m \u001b[38;5;28;01melse\u001b[39;00m v\n\u001b[0;32m    133\u001b[0m          \u001b[38;5;28;01mfor\u001b[39;00m (k,v) \u001b[38;5;129;01min\u001b[39;00m k\u001b[38;5;241m.\u001b[39mitems()}\n\u001b[1;32m--> 135\u001b[0m \u001b[38;5;28;01mreturn\u001b[39;00m \u001b[43mf\u001b[49m\u001b[43m(\u001b[49m\u001b[43mclip\u001b[49m\u001b[43m,\u001b[49m\u001b[43m \u001b[49m\u001b[38;5;241;43m*\u001b[39;49m\u001b[43mnew_a\u001b[49m\u001b[43m,\u001b[49m\u001b[43m \u001b[49m\u001b[38;5;241;43m*\u001b[39;49m\u001b[38;5;241;43m*\u001b[39;49m\u001b[43mnew_kw\u001b[49m\u001b[43m)\u001b[49m\n",
      "File \u001b[1;32m<decorator-gen-71>:2\u001b[0m, in \u001b[0;36mwrite_videofile\u001b[1;34m(self, filename, fps, codec, bitrate, audio, audio_fps, preset, audio_nbytes, audio_codec, audio_bitrate, audio_bufsize, temp_audiofile, rewrite_audio, remove_temp, write_logfile, verbose, threads, ffmpeg_params, logger)\u001b[0m\n",
      "File \u001b[1;32mc:\\Users\\lorra\\AppData\\Local\\Programs\\Python\\Python311\\Lib\\site-packages\\moviepy\\decorators.py:22\u001b[0m, in \u001b[0;36mconvert_masks_to_RGB\u001b[1;34m(f, clip, *a, **k)\u001b[0m\n\u001b[0;32m     20\u001b[0m \u001b[38;5;28;01mif\u001b[39;00m clip\u001b[38;5;241m.\u001b[39mismask:\n\u001b[0;32m     21\u001b[0m     clip \u001b[38;5;241m=\u001b[39m clip\u001b[38;5;241m.\u001b[39mto_RGB()\n\u001b[1;32m---> 22\u001b[0m \u001b[38;5;28;01mreturn\u001b[39;00m \u001b[43mf\u001b[49m\u001b[43m(\u001b[49m\u001b[43mclip\u001b[49m\u001b[43m,\u001b[49m\u001b[43m \u001b[49m\u001b[38;5;241;43m*\u001b[39;49m\u001b[43ma\u001b[49m\u001b[43m,\u001b[49m\u001b[43m \u001b[49m\u001b[38;5;241;43m*\u001b[39;49m\u001b[38;5;241;43m*\u001b[39;49m\u001b[43mk\u001b[49m\u001b[43m)\u001b[49m\n",
      "File \u001b[1;32mc:\\Users\\lorra\\AppData\\Local\\Programs\\Python\\Python311\\Lib\\site-packages\\moviepy\\video\\VideoClip.py:300\u001b[0m, in \u001b[0;36mVideoClip.write_videofile\u001b[1;34m(self, filename, fps, codec, bitrate, audio, audio_fps, preset, audio_nbytes, audio_codec, audio_bitrate, audio_bufsize, temp_audiofile, rewrite_audio, remove_temp, write_logfile, verbose, threads, ffmpeg_params, logger)\u001b[0m\n\u001b[0;32m    292\u001b[0m \u001b[38;5;28;01mif\u001b[39;00m make_audio:\n\u001b[0;32m    293\u001b[0m     \u001b[38;5;28mself\u001b[39m\u001b[38;5;241m.\u001b[39maudio\u001b[38;5;241m.\u001b[39mwrite_audiofile(audiofile, audio_fps,\n\u001b[0;32m    294\u001b[0m                                audio_nbytes, audio_bufsize,\n\u001b[0;32m    295\u001b[0m                                audio_codec, bitrate\u001b[38;5;241m=\u001b[39maudio_bitrate,\n\u001b[0;32m    296\u001b[0m                                write_logfile\u001b[38;5;241m=\u001b[39mwrite_logfile,\n\u001b[0;32m    297\u001b[0m                                verbose\u001b[38;5;241m=\u001b[39mverbose,\n\u001b[0;32m    298\u001b[0m                                logger\u001b[38;5;241m=\u001b[39mlogger)\n\u001b[1;32m--> 300\u001b[0m \u001b[43mffmpeg_write_video\u001b[49m\u001b[43m(\u001b[49m\u001b[38;5;28;43mself\u001b[39;49m\u001b[43m,\u001b[49m\u001b[43m \u001b[49m\u001b[43mfilename\u001b[49m\u001b[43m,\u001b[49m\u001b[43m \u001b[49m\u001b[43mfps\u001b[49m\u001b[43m,\u001b[49m\u001b[43m \u001b[49m\u001b[43mcodec\u001b[49m\u001b[43m,\u001b[49m\n\u001b[0;32m    301\u001b[0m \u001b[43m                   \u001b[49m\u001b[43mbitrate\u001b[49m\u001b[38;5;241;43m=\u001b[39;49m\u001b[43mbitrate\u001b[49m\u001b[43m,\u001b[49m\n\u001b[0;32m    302\u001b[0m \u001b[43m                   \u001b[49m\u001b[43mpreset\u001b[49m\u001b[38;5;241;43m=\u001b[39;49m\u001b[43mpreset\u001b[49m\u001b[43m,\u001b[49m\n\u001b[0;32m    303\u001b[0m \u001b[43m                   \u001b[49m\u001b[43mwrite_logfile\u001b[49m\u001b[38;5;241;43m=\u001b[39;49m\u001b[43mwrite_logfile\u001b[49m\u001b[43m,\u001b[49m\n\u001b[0;32m    304\u001b[0m \u001b[43m                   \u001b[49m\u001b[43maudiofile\u001b[49m\u001b[38;5;241;43m=\u001b[39;49m\u001b[43maudiofile\u001b[49m\u001b[43m,\u001b[49m\n\u001b[0;32m    305\u001b[0m \u001b[43m                   \u001b[49m\u001b[43mverbose\u001b[49m\u001b[38;5;241;43m=\u001b[39;49m\u001b[43mverbose\u001b[49m\u001b[43m,\u001b[49m\u001b[43m \u001b[49m\u001b[43mthreads\u001b[49m\u001b[38;5;241;43m=\u001b[39;49m\u001b[43mthreads\u001b[49m\u001b[43m,\u001b[49m\n\u001b[0;32m    306\u001b[0m \u001b[43m                   \u001b[49m\u001b[43mffmpeg_params\u001b[49m\u001b[38;5;241;43m=\u001b[39;49m\u001b[43mffmpeg_params\u001b[49m\u001b[43m,\u001b[49m\n\u001b[0;32m    307\u001b[0m \u001b[43m                   \u001b[49m\u001b[43mlogger\u001b[49m\u001b[38;5;241;43m=\u001b[39;49m\u001b[43mlogger\u001b[49m\u001b[43m)\u001b[49m\n\u001b[0;32m    309\u001b[0m \u001b[38;5;28;01mif\u001b[39;00m remove_temp \u001b[38;5;129;01mand\u001b[39;00m make_audio:\n\u001b[0;32m    310\u001b[0m     \u001b[38;5;28;01mif\u001b[39;00m os\u001b[38;5;241m.\u001b[39mpath\u001b[38;5;241m.\u001b[39mexists(audiofile):\n",
      "File \u001b[1;32mc:\\Users\\lorra\\AppData\\Local\\Programs\\Python\\Python311\\Lib\\site-packages\\moviepy\\video\\io\\ffmpeg_writer.py:220\u001b[0m, in \u001b[0;36mffmpeg_write_video\u001b[1;34m(clip, filename, fps, codec, bitrate, preset, withmask, write_logfile, audiofile, verbose, threads, ffmpeg_params, logger)\u001b[0m\n\u001b[0;32m    213\u001b[0m \u001b[38;5;28;01mwith\u001b[39;00m FFMPEG_VideoWriter(filename, clip\u001b[38;5;241m.\u001b[39msize, fps, codec \u001b[38;5;241m=\u001b[39m codec,\n\u001b[0;32m    214\u001b[0m                             preset\u001b[38;5;241m=\u001b[39mpreset, bitrate\u001b[38;5;241m=\u001b[39mbitrate, logfile\u001b[38;5;241m=\u001b[39mlogfile,\n\u001b[0;32m    215\u001b[0m                             audiofile\u001b[38;5;241m=\u001b[39maudiofile, threads\u001b[38;5;241m=\u001b[39mthreads,\n\u001b[0;32m    216\u001b[0m                             ffmpeg_params\u001b[38;5;241m=\u001b[39mffmpeg_params) \u001b[38;5;28;01mas\u001b[39;00m writer:\n\u001b[0;32m    218\u001b[0m     nframes \u001b[38;5;241m=\u001b[39m \u001b[38;5;28mint\u001b[39m(clip\u001b[38;5;241m.\u001b[39mduration\u001b[38;5;241m*\u001b[39mfps)\n\u001b[1;32m--> 220\u001b[0m     \u001b[38;5;28;01mfor\u001b[39;00m t,frame \u001b[38;5;129;01min\u001b[39;00m clip\u001b[38;5;241m.\u001b[39miter_frames(logger\u001b[38;5;241m=\u001b[39mlogger, with_times\u001b[38;5;241m=\u001b[39m\u001b[38;5;28;01mTrue\u001b[39;00m,\n\u001b[0;32m    221\u001b[0m                                     fps\u001b[38;5;241m=\u001b[39mfps, dtype\u001b[38;5;241m=\u001b[39m\u001b[38;5;124m\"\u001b[39m\u001b[38;5;124muint8\u001b[39m\u001b[38;5;124m\"\u001b[39m):\n\u001b[0;32m    222\u001b[0m         \u001b[38;5;28;01mif\u001b[39;00m withmask:\n\u001b[0;32m    223\u001b[0m             mask \u001b[38;5;241m=\u001b[39m (\u001b[38;5;241m255\u001b[39m\u001b[38;5;241m*\u001b[39mclip\u001b[38;5;241m.\u001b[39mmask\u001b[38;5;241m.\u001b[39mget_frame(t))\n",
      "File \u001b[1;32mc:\\Users\\lorra\\AppData\\Local\\Programs\\Python\\Python311\\Lib\\site-packages\\moviepy\\Clip.py:472\u001b[0m, in \u001b[0;36mClip.iter_frames\u001b[1;34m(self, fps, with_times, logger, dtype)\u001b[0m\n\u001b[0;32m    470\u001b[0m logger \u001b[38;5;241m=\u001b[39m proglog\u001b[38;5;241m.\u001b[39mdefault_bar_logger(logger)\n\u001b[0;32m    471\u001b[0m \u001b[38;5;28;01mfor\u001b[39;00m t \u001b[38;5;129;01min\u001b[39;00m logger\u001b[38;5;241m.\u001b[39miter_bar(t\u001b[38;5;241m=\u001b[39mnp\u001b[38;5;241m.\u001b[39marange(\u001b[38;5;241m0\u001b[39m, \u001b[38;5;28mself\u001b[39m\u001b[38;5;241m.\u001b[39mduration, \u001b[38;5;241m1.0\u001b[39m\u001b[38;5;241m/\u001b[39mfps)):\n\u001b[1;32m--> 472\u001b[0m     frame \u001b[38;5;241m=\u001b[39m \u001b[38;5;28;43mself\u001b[39;49m\u001b[38;5;241;43m.\u001b[39;49m\u001b[43mget_frame\u001b[49m\u001b[43m(\u001b[49m\u001b[43mt\u001b[49m\u001b[43m)\u001b[49m\n\u001b[0;32m    473\u001b[0m     \u001b[38;5;28;01mif\u001b[39;00m (dtype \u001b[38;5;129;01mis\u001b[39;00m \u001b[38;5;129;01mnot\u001b[39;00m \u001b[38;5;28;01mNone\u001b[39;00m) \u001b[38;5;129;01mand\u001b[39;00m (frame\u001b[38;5;241m.\u001b[39mdtype \u001b[38;5;241m!=\u001b[39m dtype):\n\u001b[0;32m    474\u001b[0m         frame \u001b[38;5;241m=\u001b[39m frame\u001b[38;5;241m.\u001b[39mastype(dtype)\n",
      "File \u001b[1;32m<decorator-gen-29>:2\u001b[0m, in \u001b[0;36mget_frame\u001b[1;34m(self, t)\u001b[0m\n",
      "File \u001b[1;32mc:\\Users\\lorra\\AppData\\Local\\Programs\\Python\\Python311\\Lib\\site-packages\\moviepy\\decorators.py:89\u001b[0m, in \u001b[0;36mpreprocess_args.<locals>.wrapper\u001b[1;34m(f, *a, **kw)\u001b[0m\n\u001b[0;32m     85\u001b[0m new_a \u001b[38;5;241m=\u001b[39m [fun(arg) \u001b[38;5;28;01mif\u001b[39;00m (name \u001b[38;5;129;01min\u001b[39;00m varnames) \u001b[38;5;28;01melse\u001b[39;00m arg\n\u001b[0;32m     86\u001b[0m          \u001b[38;5;28;01mfor\u001b[39;00m (arg, name) \u001b[38;5;129;01min\u001b[39;00m \u001b[38;5;28mzip\u001b[39m(a, names)]\n\u001b[0;32m     87\u001b[0m new_kw \u001b[38;5;241m=\u001b[39m {k: fun(v) \u001b[38;5;28;01mif\u001b[39;00m k \u001b[38;5;129;01min\u001b[39;00m varnames \u001b[38;5;28;01melse\u001b[39;00m v\n\u001b[0;32m     88\u001b[0m          \u001b[38;5;28;01mfor\u001b[39;00m (k,v) \u001b[38;5;129;01min\u001b[39;00m kw\u001b[38;5;241m.\u001b[39mitems()}\n\u001b[1;32m---> 89\u001b[0m \u001b[38;5;28;01mreturn\u001b[39;00m \u001b[43mf\u001b[49m\u001b[43m(\u001b[49m\u001b[38;5;241;43m*\u001b[39;49m\u001b[43mnew_a\u001b[49m\u001b[43m,\u001b[49m\u001b[43m \u001b[49m\u001b[38;5;241;43m*\u001b[39;49m\u001b[38;5;241;43m*\u001b[39;49m\u001b[43mnew_kw\u001b[49m\u001b[43m)\u001b[49m\n",
      "File \u001b[1;32mc:\\Users\\lorra\\AppData\\Local\\Programs\\Python\\Python311\\Lib\\site-packages\\moviepy\\Clip.py:93\u001b[0m, in \u001b[0;36mClip.get_frame\u001b[1;34m(self, t)\u001b[0m\n\u001b[0;32m     91\u001b[0m         \u001b[38;5;28;01mreturn\u001b[39;00m frame\n\u001b[0;32m     92\u001b[0m \u001b[38;5;28;01melse\u001b[39;00m:\n\u001b[1;32m---> 93\u001b[0m     \u001b[38;5;28;01mreturn\u001b[39;00m \u001b[38;5;28;43mself\u001b[39;49m\u001b[38;5;241;43m.\u001b[39;49m\u001b[43mmake_frame\u001b[49m\u001b[43m(\u001b[49m\u001b[43mt\u001b[49m\u001b[43m)\u001b[49m\n",
      "File \u001b[1;32mc:\\Users\\lorra\\AppData\\Local\\Programs\\Python\\Python311\\Lib\\site-packages\\moviepy\\video\\io\\ImageSequenceClip.py:119\u001b[0m, in \u001b[0;36mImageSequenceClip.__init__.<locals>.make_frame\u001b[1;34m(t)\u001b[0m\n\u001b[0;32m    116\u001b[0m index \u001b[38;5;241m=\u001b[39m find_image_index(t)\n\u001b[0;32m    118\u001b[0m \u001b[38;5;28;01mif\u001b[39;00m index \u001b[38;5;241m!=\u001b[39m \u001b[38;5;28mself\u001b[39m\u001b[38;5;241m.\u001b[39mlastindex:\n\u001b[1;32m--> 119\u001b[0m     \u001b[38;5;28mself\u001b[39m\u001b[38;5;241m.\u001b[39mlastimage \u001b[38;5;241m=\u001b[39m \u001b[43mimread\u001b[49m\u001b[43m(\u001b[49m\u001b[38;5;28;43mself\u001b[39;49m\u001b[38;5;241;43m.\u001b[39;49m\u001b[43msequence\u001b[49m\u001b[43m[\u001b[49m\u001b[43mindex\u001b[49m\u001b[43m]\u001b[49m\u001b[43m)\u001b[49m[:,:,:\u001b[38;5;241m3\u001b[39m] \n\u001b[0;32m    120\u001b[0m     \u001b[38;5;28mself\u001b[39m\u001b[38;5;241m.\u001b[39mlastindex \u001b[38;5;241m=\u001b[39m index\n\u001b[0;32m    122\u001b[0m \u001b[38;5;28;01mreturn\u001b[39;00m \u001b[38;5;28mself\u001b[39m\u001b[38;5;241m.\u001b[39mlastimage\n",
      "File \u001b[1;32mc:\\Users\\lorra\\AppData\\Local\\Programs\\Python\\Python311\\Lib\\site-packages\\imageio\\__init__.py:97\u001b[0m, in \u001b[0;36mimread\u001b[1;34m(uri, format, **kwargs)\u001b[0m\n\u001b[0;32m     68\u001b[0m \u001b[38;5;250m\u001b[39m\u001b[38;5;124;03m\"\"\"imread(uri, format=None, **kwargs)\u001b[39;00m\n\u001b[0;32m     69\u001b[0m \n\u001b[0;32m     70\u001b[0m \u001b[38;5;124;03mReads an image from the specified file. Returns a numpy array, which\u001b[39;00m\n\u001b[1;32m   (...)\u001b[0m\n\u001b[0;32m     86\u001b[0m \u001b[38;5;124;03m    to see what arguments are available for a particular format.\u001b[39;00m\n\u001b[0;32m     87\u001b[0m \u001b[38;5;124;03m\"\"\"\u001b[39;00m\n\u001b[0;32m     89\u001b[0m warnings\u001b[38;5;241m.\u001b[39mwarn(\n\u001b[0;32m     90\u001b[0m     \u001b[38;5;124m\"\u001b[39m\u001b[38;5;124mStarting with ImageIO v3 the behavior of this function will switch to that of\u001b[39m\u001b[38;5;124m\"\u001b[39m\n\u001b[0;32m     91\u001b[0m     \u001b[38;5;124m\"\u001b[39m\u001b[38;5;124m iio.v3.imread. To keep the current behavior (and make this warning disappear)\u001b[39m\u001b[38;5;124m\"\u001b[39m\n\u001b[1;32m   (...)\u001b[0m\n\u001b[0;32m     94\u001b[0m     stacklevel\u001b[38;5;241m=\u001b[39m\u001b[38;5;241m2\u001b[39m,\n\u001b[0;32m     95\u001b[0m )\n\u001b[1;32m---> 97\u001b[0m \u001b[38;5;28;01mreturn\u001b[39;00m \u001b[43mimread_v2\u001b[49m\u001b[43m(\u001b[49m\u001b[43muri\u001b[49m\u001b[43m,\u001b[49m\u001b[43m \u001b[49m\u001b[38;5;28;43mformat\u001b[39;49m\u001b[38;5;241;43m=\u001b[39;49m\u001b[38;5;28;43mformat\u001b[39;49m\u001b[43m,\u001b[49m\u001b[43m \u001b[49m\u001b[38;5;241;43m*\u001b[39;49m\u001b[38;5;241;43m*\u001b[39;49m\u001b[43mkwargs\u001b[49m\u001b[43m)\u001b[49m\n",
      "File \u001b[1;32mc:\\Users\\lorra\\AppData\\Local\\Programs\\Python\\Python311\\Lib\\site-packages\\imageio\\v2.py:359\u001b[0m, in \u001b[0;36mimread\u001b[1;34m(uri, format, **kwargs)\u001b[0m\n\u001b[0;32m    356\u001b[0m imopen_args \u001b[38;5;241m=\u001b[39m decypher_format_arg(\u001b[38;5;28mformat\u001b[39m)\n\u001b[0;32m    357\u001b[0m imopen_args[\u001b[38;5;124m\"\u001b[39m\u001b[38;5;124mlegacy_mode\u001b[39m\u001b[38;5;124m\"\u001b[39m] \u001b[38;5;241m=\u001b[39m \u001b[38;5;28;01mTrue\u001b[39;00m\n\u001b[1;32m--> 359\u001b[0m \u001b[38;5;28;01mwith\u001b[39;00m \u001b[43mimopen\u001b[49m\u001b[43m(\u001b[49m\u001b[43muri\u001b[49m\u001b[43m,\u001b[49m\u001b[43m \u001b[49m\u001b[38;5;124;43m\"\u001b[39;49m\u001b[38;5;124;43mri\u001b[39;49m\u001b[38;5;124;43m\"\u001b[39;49m\u001b[43m,\u001b[49m\u001b[43m \u001b[49m\u001b[38;5;241;43m*\u001b[39;49m\u001b[38;5;241;43m*\u001b[39;49m\u001b[43mimopen_args\u001b[49m\u001b[43m)\u001b[49m \u001b[38;5;28;01mas\u001b[39;00m file:\n\u001b[0;32m    360\u001b[0m     result \u001b[38;5;241m=\u001b[39m file\u001b[38;5;241m.\u001b[39mread(index\u001b[38;5;241m=\u001b[39m\u001b[38;5;241m0\u001b[39m, \u001b[38;5;241m*\u001b[39m\u001b[38;5;241m*\u001b[39mkwargs)\n\u001b[0;32m    362\u001b[0m \u001b[38;5;28;01mreturn\u001b[39;00m result\n",
      "File \u001b[1;32mc:\\Users\\lorra\\AppData\\Local\\Programs\\Python\\Python311\\Lib\\site-packages\\imageio\\core\\imopen.py:196\u001b[0m, in \u001b[0;36mimopen\u001b[1;34m(uri, io_mode, plugin, extension, format_hint, legacy_mode, **kwargs)\u001b[0m\n\u001b[0;32m    193\u001b[0m     \u001b[38;5;28;01mcontinue\u001b[39;00m\n\u001b[0;32m    195\u001b[0m \u001b[38;5;28;01mtry\u001b[39;00m:\n\u001b[1;32m--> 196\u001b[0m     plugin_instance \u001b[38;5;241m=\u001b[39m \u001b[43mcandidate_plugin\u001b[49m\u001b[43m(\u001b[49m\u001b[43mrequest\u001b[49m\u001b[43m,\u001b[49m\u001b[43m \u001b[49m\u001b[38;5;241;43m*\u001b[39;49m\u001b[38;5;241;43m*\u001b[39;49m\u001b[43mkwargs\u001b[49m\u001b[43m)\u001b[49m\n\u001b[0;32m    197\u001b[0m \u001b[38;5;28;01mexcept\u001b[39;00m InitializationError:\n\u001b[0;32m    198\u001b[0m     \u001b[38;5;66;03m# file extension doesn't match file type\u001b[39;00m\n\u001b[0;32m    199\u001b[0m     \u001b[38;5;28;01mcontinue\u001b[39;00m\n",
      "File \u001b[1;32mc:\\Users\\lorra\\AppData\\Local\\Programs\\Python\\Python311\\Lib\\site-packages\\imageio\\plugins\\pillow.py:85\u001b[0m, in \u001b[0;36mPillowPlugin.__init__\u001b[1;34m(self, request)\u001b[0m\n\u001b[0;32m     83\u001b[0m \u001b[38;5;66;03m# Register HEIF opener for Pillow\u001b[39;00m\n\u001b[0;32m     84\u001b[0m \u001b[38;5;28;01mtry\u001b[39;00m:\n\u001b[1;32m---> 85\u001b[0m     \u001b[38;5;28;01mfrom\u001b[39;00m \u001b[38;5;21;01mpillow_heif\u001b[39;00m \u001b[38;5;28;01mimport\u001b[39;00m register_heif_opener\n\u001b[0;32m     86\u001b[0m \u001b[38;5;28;01mexcept\u001b[39;00m \u001b[38;5;167;01mImportError\u001b[39;00m:\n\u001b[0;32m     87\u001b[0m     \u001b[38;5;28;01mpass\u001b[39;00m\n",
      "File \u001b[1;32m<frozen importlib._bootstrap>:1176\u001b[0m, in \u001b[0;36m_find_and_load\u001b[1;34m(name, import_)\u001b[0m\n",
      "File \u001b[1;32m<frozen importlib._bootstrap>:1138\u001b[0m, in \u001b[0;36m_find_and_load_unlocked\u001b[1;34m(name, import_)\u001b[0m\n",
      "File \u001b[1;32m<frozen importlib._bootstrap>:1078\u001b[0m, in \u001b[0;36m_find_spec\u001b[1;34m(name, path, target)\u001b[0m\n",
      "File \u001b[1;32m<frozen importlib._bootstrap_external>:1504\u001b[0m, in \u001b[0;36mfind_spec\u001b[1;34m(cls, fullname, path, target)\u001b[0m\n",
      "File \u001b[1;32m<frozen importlib._bootstrap_external>:1476\u001b[0m, in \u001b[0;36m_get_spec\u001b[1;34m(cls, fullname, path, target)\u001b[0m\n",
      "File \u001b[1;32m<frozen importlib._bootstrap_external>:1612\u001b[0m, in \u001b[0;36mfind_spec\u001b[1;34m(self, fullname, target)\u001b[0m\n",
      "File \u001b[1;32m<frozen importlib._bootstrap_external>:147\u001b[0m, in \u001b[0;36m_path_stat\u001b[1;34m(path)\u001b[0m\n",
      "\u001b[1;31mKeyboardInterrupt\u001b[0m: "
     ]
    },
    {
     "name": "stderr",
     "output_type": "stream",
     "text": [
      "t:  31%|███       | 39/126 [00:15<00:00, 204.35it/s, now=None]"
     ]
    }
   ],
   "source": [
    "\n",
    "images_list = [os.path.join('images\\\\frames', frame) for frame in os.listdir('images\\\\frames')] # your images list\n",
    "clip = ImageSequenceClip(images_list, fps=24)  # fps: frames per second\n",
    "clip.write_videofile(\"output_video.mp4\")"
   ]
  },
  {
   "cell_type": "code",
   "execution_count": null,
   "metadata": {},
   "outputs": [
    {
     "name": "stdout",
     "output_type": "stream",
     "text": [
      "Moviepy - Building video mecquidanse.mp4.\n",
      "Moviepy - Writing video mecquidanse.mp4\n",
      "\n"
     ]
    },
    {
     "name": "stderr",
     "output_type": "stream",
     "text": [
      "                                                               \r"
     ]
    },
    {
     "name": "stdout",
     "output_type": "stream",
     "text": [
      "Moviepy - Done !\n",
      "Moviepy - video ready mecquidanse.mp4\n"
     ]
    }
   ],
   "source": [
    "def create_video_from_frames(frame_path, output_video_path, fps):\n",
    "    images_list = [os.path.join(frame_path, frame) for frame in os.listdir(frame_path)]\n",
    "    clip = ImageSequenceClip(images_list, fps=fps)\n",
    "    clip.write_videofile(output_video_path)\n",
    "\n",
    "create_video_from_frames('images\\\\frames', 'mecquidanse.mp4', 24)"
   ]
  },
  {
   "cell_type": "markdown",
   "metadata": {},
   "source": [
    "### add picture overlay "
   ]
  },
  {
   "cell_type": "code",
   "execution_count": 6,
   "metadata": {},
   "outputs": [
    {
     "name": "stderr",
     "output_type": "stream",
     "text": [
      "t:  31%|███       | 39/126 [1:09:22<00:00, 204.35it/s, now=None]"
     ]
    },
    {
     "name": "stdout",
     "output_type": "stream",
     "text": [
      "Moviepy - Building video my_edited_video.mp4.\n",
      "Moviepy - Writing video my_edited_video.mp4\n",
      "\n"
     ]
    },
    {
     "name": "stderr",
     "output_type": "stream",
     "text": [
      "t:  31%|███       | 39/126 [1:09:23<00:00, 204.35it/s, now=None]"
     ]
    },
    {
     "name": "stdout",
     "output_type": "stream",
     "text": [
      "Moviepy - Done !\n",
      "Moviepy - video ready my_edited_video.mp4\n"
     ]
    }
   ],
   "source": [
    "import os\n",
    "images_list = [os.path.join('images\\\\frames', frame) for frame in os.listdir('images\\\\frames')]\n",
    "clip = ImageSequenceClip(images_list, fps=20)\n",
    "\n",
    "# Load the image to be added\n",
    "image_clip = ImageClip(\"jai_peur.png\").set_start(0).set_duration(3)\n",
    "\n",
    "# Resize and position the image in the middle of the screen\n",
    "image_clip = image_clip.resize(width=clip.w/2, height=clip.h/2)\n",
    "x = (clip.w - image_clip.w) / 2\n",
    "y = (clip.h - image_clip.h) / 2\n",
    "image_clip = image_clip.set_pos((x, y))\n",
    "\n",
    "# Overlay the image on the video\n",
    "final_clip = CompositeVideoClip([clip, image_clip])\n",
    "\n",
    "# Save the video\n",
    "final_clip.write_videofile(\"my_edited_video.mp4\")"
   ]
  },
  {
   "cell_type": "code",
   "execution_count": null,
   "metadata": {},
   "outputs": [],
   "source": [
    "def add_image_to_video(input_video_path, output_video_path, image_path, start_time = 0, duration = -1, x_pos = 0, y_pos=0, width=-1, height=-1):\n",
    "    clip = VideoFileClip(input_video_path)\n",
    "\n",
    "    if(duration == -1):\n",
    "        duration = clip.duration - start_time\n",
    "    if(width == -1):\n",
    "        width = clip.w\n",
    "    if(height == -1):\n",
    "        height = clip.h\n",
    "    \n",
    "    \n",
    "\n",
    "    # Split the video into three parts\n",
    "    clip_before = clip.subclip(0, start_time)\n",
    "    clip_middle = clip.subclip(start_time, start_time + duration)\n",
    "    clip_after = clip.subclip(start_time + duration, clip.duration)\n",
    "\n",
    "    image_clip = ImageClip(image_path)\n",
    "    image_clip = image_clip.resize(width=width, height=height)\n",
    "    image_clip = image_clip.set_pos((x_pos, y_pos))\n",
    "\n",
    "    image_clip = image_clip.set_start(0).set_duration(clip_middle.duration)\n",
    "\n",
    "    final_clip_middle = CompositeVideoClip([clip_middle, image_clip])\n",
    "\n",
    "    final_clip = concatenate_videoclips([clip_before, final_clip_middle, clip_after])\n",
    "\n",
    "    # Save the video\n",
    "    final_clip.write_videofile(output_video_path)"
   ]
  },
  {
   "cell_type": "code",
   "execution_count": null,
   "metadata": {},
   "outputs": [
    {
     "name": "stdout",
     "output_type": "stream",
     "text": [
      "Moviepy - Building video mecquidanse_with_image.mp4.\n",
      "Moviepy - Writing video mecquidanse_with_image.mp4\n",
      "\n"
     ]
    },
    {
     "name": "stderr",
     "output_type": "stream",
     "text": [
      "                                                               \r"
     ]
    },
    {
     "name": "stdout",
     "output_type": "stream",
     "text": [
      "Moviepy - Done !\n",
      "Moviepy - video ready mecquidanse_with_image.mp4\n"
     ]
    }
   ],
   "source": [
    "add_image_to_video('mecquidanse.mp4', 'mecquidanse_with_image.mp4', 'jai_peur.png', 3, 2, 0, 0, 160, 90)"
   ]
  },
  {
   "cell_type": "code",
   "execution_count": null,
   "metadata": {},
   "outputs": [],
   "source": [
    "def add_multiple_images_to_video(input_video_path, output_video_path, images, timings):\n",
    "    clip = VideoFileClip(input_video_path)\n",
    "    clips = []\n",
    "    offset = 0\n",
    "    \n",
    "    for start_time, end_time in timings:\n",
    "        clip_before = clip.subclip(0, start_time-offset)\n",
    "        clip_with_image = clip.subclip(start_time-offset, end_time-offset)\n",
    "        clip_after = clip.subclip(end_time-offset, clip.duration)\n",
    "        offset += clip_before.duration + clip_with_image.duration\n",
    "        \n",
    "        image_clip = ImageClip(images.pop(0))\n",
    "        image_clip = image_clip.resize(width=clip.w/2, height=clip.h/2)\n",
    "        image_clip = image_clip.set_start(0).set_duration(clip_with_image.duration)\n",
    "\n",
    "        final_clip_middle = CompositeVideoClip([clip_with_image, image_clip])\n",
    "\n",
    "        final_clip = concatenate_videoclips([clip_before, final_clip_middle])\n",
    "\n",
    "        clip = clip_after\n",
    "        \n",
    "        clips.append(final_clip)\n",
    "\n",
    "    clips.append(clip)\n",
    "    final_clip = concatenate_videoclips(clips)\n",
    "\n",
    "    # Save the video\n",
    "    final_clip.write_videofile(output_video_path)"
   ]
  },
  {
   "cell_type": "code",
   "execution_count": null,
   "metadata": {},
   "outputs": [
    {
     "name": "stdout",
     "output_type": "stream",
     "text": [
      "Moviepy - Building video mecquidanse_with_images.mp4.\n",
      "Moviepy - Writing video mecquidanse_with_images.mp4\n",
      "\n"
     ]
    },
    {
     "name": "stderr",
     "output_type": "stream",
     "text": [
      "                                                              \r"
     ]
    },
    {
     "name": "stdout",
     "output_type": "stream",
     "text": [
      "Moviepy - Done !\n",
      "Moviepy - video ready mecquidanse_with_images.mp4\n"
     ]
    }
   ],
   "source": [
    "add_multiple_images_to_video('mecquidanse.mp4', 'mecquidanse_with_images.mp4', ['jai_peur.png', 'images\\President_Barack_Obama.jpg'], [(1, 2), (2, 4)])"
   ]
  },
  {
   "cell_type": "markdown",
   "metadata": {},
   "source": [
    "### animate Image\n",
    "#### Move"
   ]
  },
  {
   "cell_type": "code",
   "execution_count": null,
   "metadata": {},
   "outputs": [
    {
     "name": "stdout",
     "output_type": "stream",
     "text": [
      "fps: 24.0, duration: 5.25, size: [260, 200]\n"
     ]
    }
   ],
   "source": [
    "danse = VideoFileClip('mecquidanse.mp4')\n",
    "print(f'fps: {danse.fps}, duration: {danse.duration}, size: {danse.size}')"
   ]
  },
  {
   "cell_type": "code",
   "execution_count": null,
   "metadata": {},
   "outputs": [],
   "source": [
    "from Animations import MoveAnimation\n",
    "\n",
    "def animate_image(input_video_path, output_video_path, image_path, anim: MoveAnimation):\n",
    "    clip = VideoFileClip(input_video_path)\n",
    "\n",
    "    \n",
    "    \n",
    "    if(anim.duration == -1):\n",
    "        anim.duration = clip.duration - anim.start_time\n",
    "    if(anim.start_size == (-1,-1)):\n",
    "        anim.start_size = (clip.w, clip.h)\n",
    "    if(anim.end_size == (-1,-1)):\n",
    "        anim.end_size = (clip.w, clip.h)\n",
    "    \n",
    "    \n",
    "\n",
    "    # Split the video into three parts\n",
    "    clip_before = clip.subclip(0, anim.start_time)\n",
    "    clip_middle = clip.subclip(anim.start_time, anim.start_time + anim.duration)\n",
    "    clip_after = clip.subclip(anim.start_time + anim.duration, clip.duration)\n",
    "\n",
    "    image_clip = ImageClip(image_path)\n",
    "    image_clip.fps = clip.fps\n",
    "    if(anim.start_size == (0,0)):\n",
    "        image_clip = image_clip.resize((1,1))\n",
    "    else: \n",
    "        image_clip = image_clip.resize(anim.start_size)\n",
    "    image_clip = image_clip.set_pos(anim.start_pos)\n",
    "\n",
    "    \n",
    "    image_clip = image_clip.set_start(0).set_duration(clip_middle.duration)\n",
    "\n",
    "    move_func = lambda t: anim.get_pos(t)\n",
    "    image_clip = image_clip.set_position(move_func)\n",
    "    \n",
    "    size_func = lambda t: anim.get_size(t)\n",
    "    image_clip = image_clip.resize(size_func) # if size_func != (0,0) else None\n",
    "    \n",
    "    final_clip_middle = CompositeVideoClip([clip_middle, image_clip])\n",
    "    final_clip = concatenate_videoclips([clip_before, final_clip_middle, clip_after])\n",
    "\n",
    "    # Save the video\n",
    "    final_clip.write_videofile(output_video_path)"
   ]
  },
  {
   "cell_type": "code",
   "execution_count": null,
   "metadata": {},
   "outputs": [
    {
     "name": "stdout",
     "output_type": "stream",
     "text": [
      "Moviepy - Building video mecquidanse_with_image.mp4.\n",
      "Moviepy - Writing video mecquidanse_with_image.mp4\n",
      "\n"
     ]
    },
    {
     "name": "stderr",
     "output_type": "stream",
     "text": [
      "                                                              \r"
     ]
    },
    {
     "name": "stdout",
     "output_type": "stream",
     "text": [
      "Moviepy - Done !\n",
      "Moviepy - video ready mecquidanse_with_image.mp4\n"
     ]
    }
   ],
   "source": [
    "moveAnim = MoveAnimation(1, 2, (0, 0), (160, 90), end_size=(10, 10))\n",
    "\n",
    "animate_image('mecquidanse.mp4', 'mecquidanse_with_image.mp4', 'jai_peur.png', moveAnim)"
   ]
  },
  {
   "cell_type": "markdown",
   "metadata": {},
   "source": [
    "## Find Images from text"
   ]
  },
  {
   "cell_type": "code",
   "execution_count": null,
   "metadata": {},
   "outputs": [],
   "source": []
  },
  {
   "cell_type": "markdown",
   "metadata": {},
   "source": [
    "## Find moment from text"
   ]
  },
  {
   "cell_type": "code",
   "execution_count": null,
   "metadata": {},
   "outputs": [],
   "source": [
    "import os\n",
    "from mistralai.client import MistralClient\n",
    "from mistralai.models.chat_completion import ChatMessage\n",
    "\n",
    "def get_description_pictures(story):\n",
    "    api_key = os.environ[\"MISTRAL_API_KEY\"]\n",
    "    model = \"open-mistral-7b\"\n",
    "\n",
    "    client = MistralClient(api_key=api_key)\n",
    "\n",
    "    preprompt = \"\"\"Your job will be to write the visual of a tiktok video: the images that show on screen. You have to find some nice moments in the story to place pictures that will show on screen. Tell me when you choose an image of what. In this format:\n",
    "    DURING THE SENTENCE \"[place the full sentence here]\", SHOW AN IMAGE OF \"[place the description of the image]\".\n",
    "    Answer only with the descriptions of all the images.\n",
    "    \n",
    "    For example:\n",
    "    DURING THE SENTENCE \"he ate a sandwich\", SHOW AN IMAGE OF \"a sandwich\".\n",
    "\n",
    "    Now it is your turn:\n",
    "\n",
    "    STORY : \"\"\"\n",
    "\n",
    "    messages = [\n",
    "        ChatMessage(role=\"user\", content=preprompt + f'\"{story}\"'),\n",
    "    ]\n",
    "\n",
    "    chat_response = client.chat(\n",
    "        model=model,\n",
    "        messages=messages,\n",
    "    )\n",
    "\n",
    "    results = chat_response.choices[0].message.content\n",
    "\n",
    "    return results.split(\"\\n\\n\")\n",
    "def convert_to_dict(lines):\n",
    "    visual_dict = {}\n",
    "    for line in lines:\n",
    "        print(line)\n",
    "        if line:\n",
    "            sentence, image_desc = line.split(', SHOW AN IMAGE OF ', 1)\n",
    "            sentence = sentence.replace('DURING THE SENTENCE ', '', 1)\n",
    "            visual_dict[sentence] = image_desc\n",
    "    return visual_dict\n",
    "\n",
    "def get_description_pictures(story):\n",
    "    return convert_to_dict(get_description_pictures(story))\n"
   ]
  },
  {
   "cell_type": "code",
   "execution_count": null,
   "metadata": {},
   "outputs": [],
   "source": []
  }
 ],
 "metadata": {
  "kernelspec": {
   "display_name": "Python 3",
   "language": "python",
   "name": "python3"
  },
  "language_info": {
   "codemirror_mode": {
    "name": "ipython",
    "version": 3
   },
   "file_extension": ".py",
   "mimetype": "text/x-python",
   "name": "python",
   "nbconvert_exporter": "python",
   "pygments_lexer": "ipython3",
   "version": "3.11.4"
  }
 },
 "nbformat": 4,
 "nbformat_minor": 2
}
